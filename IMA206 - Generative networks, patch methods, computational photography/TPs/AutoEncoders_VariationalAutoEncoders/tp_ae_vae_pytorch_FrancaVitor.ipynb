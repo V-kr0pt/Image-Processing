{
  "cells": [
    {
      "attachments": {},
      "cell_type": "markdown",
      "metadata": {
        "id": "TdpPHz2Lp6VD"
      },
      "source": [
        "# TP Coding autoencoders and variational autoencoders in Pytorch\n",
        "\n",
        "\n",
        "Author : Alasdair Newson\n",
        "\n",
        "alasdair.newson@telecom-paris.fr\n",
        "\n",
        "## Objective:\n",
        "\n",
        "The goal of this TP is to explore autoencoders and variational autoencoders applied to a simple dataset. In this first part, we will look at an autoencoder applied to MNIST. We recall that an autoencoder is a neural network with the following general architecture:\n",
        "\n",
        "\n",
        "![AUTOENCODER](https://perso.telecom-paristech.fr/anewson/doc/images/autoencoder_illustration_2.png)\n",
        "\n",
        "The tensor $z$ in the middle of the network is called a __latent code__, and it belongs to the latent space. It is this latent space which is interesting in autoencoders (for image synthesis, editing, etc).\n",
        "\n",
        "### Your task:\n",
        "You need to add the missing parts in the code (parts between # --- START CODE HERE and # --- END CODE HERE or # FILL IN CODE)\n",
        "\n",
        "\n",
        "First of all, let's load some packages"
      ]
    },
    {
      "cell_type": "code",
      "execution_count": 2,
      "metadata": {
        "id": "JqNeIJ8Op8Ao"
      },
      "outputs": [],
      "source": [
        "import torch\n",
        "import torch.nn as nn\n",
        "import torch.nn.functional as F\n",
        "import torch.optim as optim\n",
        "from torchvision import datasets, transforms\n",
        "from torch.autograd import Variable\n",
        "from torchvision.utils import save_image\n",
        "\n",
        "import pdb\n",
        "import numpy as np\n",
        "import matplotlib.pyplot as plt\n",
        "\n",
        "def pytorch_to_numpy(x):\n",
        "  return x.detach().numpy()"
      ]
    },
    {
      "attachments": {},
      "cell_type": "markdown",
      "metadata": {
        "id": "Hyj5dj_eui9D"
      },
      "source": [
        "First, we load the mnist dataset."
      ]
    },
    {
      "cell_type": "code",
      "execution_count": 3,
      "metadata": {
        "colab": {
          "base_uri": "https://localhost:8080/"
        },
        "id": "4YPLKlPrufSk",
        "outputId": "6fee8fb7-78ba-4b27-f693-e71aa4a58fcf"
      },
      "outputs": [],
      "source": [
        "\n",
        "batch_size = 128\n",
        "\n",
        "# MNIST Dataset\n",
        "mnist_trainset = datasets.MNIST(root='./mnist_data/', train=True, transform=transforms.ToTensor(), download=True)\n",
        "mnist_testset = datasets.MNIST(root='./mnist_data/', train=False, transform=transforms.ToTensor(), download=False)\n",
        "\n",
        "#create data loader with smaller dataset size\n",
        "max_mnist_size = 1000\n",
        "mnist_trainset_reduced = torch.utils.data.random_split(mnist_trainset, [max_mnist_size, len(mnist_trainset)-max_mnist_size])[0] \n",
        "mnist_train_loader = torch.utils.data.DataLoader(mnist_trainset_reduced, batch_size=batch_size, shuffle=True,drop_last=True)\n",
        "\n",
        "# download test dataset\n",
        "max_mnist_size = 512\n",
        "mnist_testset_reduced = torch.utils.data.random_split(mnist_testset, [max_mnist_size, len(mnist_testset)-max_mnist_size])[0] \n",
        "mnist_test_loader = torch.utils.data.DataLoader(mnist_testset_reduced, batch_size=batch_size, shuffle=True,drop_last=True)\n"
      ]
    },
    {
      "cell_type": "code",
      "execution_count": 4,
      "metadata": {
        "colab": {
          "base_uri": "https://localhost:8080/"
        },
        "id": "r7YhlBT2PN9I",
        "outputId": "089fa41b-776b-4763-b8d6-4206845b5f73"
      },
      "outputs": [
        {
          "name": "stderr",
          "output_type": "stream",
          "text": [
            "/home/kr0pt/Documents/Documentos/Telecom/IMA/ima_venv/lib/python3.9/site-packages/torchvision/datasets/mnist.py:75: UserWarning: train_data has been renamed data\n",
            "  warnings.warn(\"train_data has been renamed data\")\n"
          ]
        },
        {
          "data": {
            "text/plain": [
              "torch.Size([60000, 28, 28])"
            ]
          },
          "execution_count": 4,
          "metadata": {},
          "output_type": "execute_result"
        }
      ],
      "source": [
        "mnist_trainset_reduced.dataset.train_data.shape"
      ]
    },
    {
      "attachments": {},
      "cell_type": "markdown",
      "metadata": {
        "id": "t-bkK4ktwfvC"
      },
      "source": [
        "# 1 Vanilla Autoencoder\n",
        "\n",
        "Now, we define the general parameters of the autoencoder"
      ]
    },
    {
      "cell_type": "code",
      "execution_count": 5,
      "metadata": {
        "id": "mD56EDzbvUxq"
      },
      "outputs": [],
      "source": [
        "# autoencoder parameters\n",
        "n_rows = mnist_trainset_reduced.dataset.train_data.shape[1]\n",
        "n_cols = mnist_trainset_reduced.dataset.train_data.shape[2]\n",
        "n_channels = 1\n",
        "n_pixels = n_rows*n_cols\n",
        "\n",
        "img_shape = (n_rows, n_cols, n_channels)\n",
        "n_epochs = 150"
      ]
    },
    {
      "attachments": {},
      "cell_type": "markdown",
      "metadata": {
        "id": "6jLa2-jQwxSI"
      },
      "source": [
        "Now, define the autoencoder architecture. In the first part, we will use the following MLP architecture :\n",
        "\n",
        "Encoder :\n",
        "- Flatten input\n",
        "- Dense layer, output size h_dim_1 + ReLU\n",
        "- Dense layer, output size h_dim_2 + ReLU\n",
        "- Dense layer, output size z_dim (no non-linearity)\n",
        "\n",
        "Decoder :\n",
        "- Dense layer, output size h_dim_2 + ReLU\n",
        "- Dense layer, output size h_dim_1 + ReLU\n",
        "- Dense layer, output size x_dim + Sigmoid Activation\n",
        "- Reshape, to size $28\\times 28\\times 1$\n",
        "\n",
        "For the Reshape operation, use the ```A.view(dim_1,dim_2,...)``` function, where ```A``` is your tensor."
      ]
    },
    {
      "cell_type": "code",
      "execution_count": 6,
      "metadata": {
        "id": "tEuZfnUlXxMl"
      },
      "outputs": [],
      "source": [
        "class AE(torch.nn.Module ):\n",
        "  def __init__(self, x_dim, h_dim1, h_dim2, z_dim,n_rows,n_cols,n_channels):\n",
        "    super(AE, self).__init__()\n",
        "\n",
        "    self.n_rows = n_rows\n",
        "    self.n_cols = n_cols\n",
        "    self.n_channels = n_channels\n",
        "    self.n_pixels = (self.n_rows)*(self.n_cols)\n",
        "    self.z_dim = z_dim\n",
        "\n",
        "    # encoder part\n",
        "    self.fc1 = nn.Linear(n_pixels,h_dim1) #  # FILL IN CODE HERE\n",
        "    self.fc2 = nn.Linear(h_dim1, h_dim2)  #FILL IN CODE HERE\n",
        "    self.fc3 = nn.Linear(h_dim2, z_dim) # FILL IN CODE HERE\n",
        "    # decoder part\n",
        "    self.fc4 = nn.Linear(z_dim, h_dim2) # FILL IN CODE HERE\n",
        "    self.fc5 = nn.Linear(h_dim2, h_dim1) # FILL IN CODE HERE\n",
        "    self.fc6 = nn.Linear(h_dim1, n_pixels) # FILL IN CODE HERE\n",
        "\n",
        "  def encoder(self, x):\n",
        "    h = x.view((-1, n_pixels)) # FILL IN CODE HERE\n",
        "    h = nn.ReLU()(self.fc1(h))\n",
        "    h = nn.ReLU()(self.fc2(h))\n",
        "    return self.fc3(h) # FILL IN CODE HERE\n",
        "\n",
        "  def decoder(self, z):\n",
        "    h = nn.ReLU()(self.fc4(z)) \n",
        "    h = nn.ReLU()(self.fc5(h))\n",
        "    h = nn.Sigmoid()(self.fc6(h)) # FILL IN CODE HERE\n",
        "    return h.view(-1, self.n_channels, self.n_rows, self.n_cols) # FILL IN CODE HERE\n",
        "\n",
        "  def forward(self, x):\n",
        "    y = self.decoder(self.encoder(x)) # FILL IN CODE HERE\n",
        "    return(y)\n",
        "  def loss_function(self,x, y):\n",
        "    bce_loss = F.binary_cross_entropy(y,x, reduction='sum') # FILL IN CODE HERE\n",
        "    return torch.mean(bce_loss)"
      ]
    },
    {
      "cell_type": "code",
      "execution_count": 7,
      "metadata": {
        "id": "oV40vRMQRoG1"
      },
      "outputs": [],
      "source": [
        "# create model\n",
        "ae_dim_1 = 512\n",
        "ae_dim_2 = 256\n",
        "z_dim = 10\n",
        "ae_model = AE(x_dim=n_pixels, h_dim1= ae_dim_1, h_dim2=ae_dim_2, z_dim=z_dim,n_rows=n_rows,n_cols=n_cols,n_channels=n_channels)\n",
        "ae_optimizer = optim.Adam(ae_model.parameters())"
      ]
    },
    {
      "attachments": {},
      "cell_type": "markdown",
      "metadata": {
        "id": "-659aM36xvXX"
      },
      "source": [
        "Now, define a generic function to train the model for one epoch"
      ]
    },
    {
      "cell_type": "code",
      "execution_count": 8,
      "metadata": {
        "id": "wfqX6Brlxjyi"
      },
      "outputs": [],
      "source": [
        "def train_ae(ae_model,data_train_loader,epoch):\n",
        "\ttrain_loss = 0\n",
        "\tfor batch_idx, (data, _) in enumerate(data_train_loader):\n",
        "\t\tae_optimizer.zero_grad() # make sure gradients are zeroed before backpropagation\n",
        "\t\t\n",
        "\t\ty = ae_model.forward(data) # FILL IN CODE HERE\n",
        "\t\tloss_ae = ae_model.loss_function(data, y) # FILL IN CODE HERE\n",
        "  \n",
        "\t\tloss_ae.backward()\n",
        "\t\ttrain_loss += loss_ae.item()\n",
        "\t\tae_optimizer.step()\n",
        "\t\t\n",
        "\t\tif batch_idx % 100 == 0:\n",
        "\t\t\tprint('Train Epoch: {} [{}/{} ({:.0f}%)]\\tLoss: {:.6f}'.format(\n",
        "\t\t\t\tepoch, batch_idx * len(data), len(data_train_loader.dataset),\n",
        "\t\t\t\t100. * batch_idx / len(data_train_loader), loss_ae.item() / len(data)))\n",
        "\tprint('====> Epoch: {} Average loss: {:.4f}'.format(epoch, train_loss / len(data_train_loader.dataset)))\n"
      ]
    },
    {
      "attachments": {},
      "cell_type": "markdown",
      "metadata": {
        "id": "w3EbmswSzJdK"
      },
      "source": [
        "We define a function to carry out testing on the autoencoder model"
      ]
    },
    {
      "cell_type": "code",
      "execution_count": 9,
      "metadata": {
        "colab": {
          "base_uri": "https://localhost:8080/"
        },
        "id": "11q_0PSibZk-",
        "outputId": "a781b6f4-9df8-4eb2-a63d-3c37ae7cd1d1"
      },
      "outputs": [
        {
          "name": "stdout",
          "output_type": "stream",
          "text": [
            "Train Epoch: 0 [0/1000 (0%)]\tLoss: 543.145325\n",
            "====> Epoch: 0 Average loss: 432.3980\n",
            "Train Epoch: 1 [0/1000 (0%)]\tLoss: 295.900757\n",
            "====> Epoch: 1 Average loss: 242.9721\n",
            "Train Epoch: 2 [0/1000 (0%)]\tLoss: 223.918243\n",
            "====> Epoch: 2 Average loss: 204.3144\n",
            "Train Epoch: 3 [0/1000 (0%)]\tLoss: 221.445236\n",
            "====> Epoch: 3 Average loss: 192.0198\n",
            "Train Epoch: 4 [0/1000 (0%)]\tLoss: 218.124710\n",
            "====> Epoch: 4 Average loss: 186.6747\n",
            "Train Epoch: 5 [0/1000 (0%)]\tLoss: 213.877686\n",
            "====> Epoch: 5 Average loss: 184.3875\n",
            "Train Epoch: 6 [0/1000 (0%)]\tLoss: 195.590271\n",
            "====> Epoch: 6 Average loss: 181.4337\n",
            "Train Epoch: 7 [0/1000 (0%)]\tLoss: 201.269226\n",
            "====> Epoch: 7 Average loss: 180.6676\n",
            "Train Epoch: 8 [0/1000 (0%)]\tLoss: 202.024002\n",
            "====> Epoch: 8 Average loss: 177.6190\n",
            "Train Epoch: 9 [0/1000 (0%)]\tLoss: 199.492584\n",
            "====> Epoch: 9 Average loss: 175.4661\n",
            "Train Epoch: 10 [0/1000 (0%)]\tLoss: 186.675064\n",
            "====> Epoch: 10 Average loss: 172.3624\n",
            "Train Epoch: 11 [0/1000 (0%)]\tLoss: 185.856873\n",
            "====> Epoch: 11 Average loss: 168.7710\n",
            "Train Epoch: 12 [0/1000 (0%)]\tLoss: 178.681305\n",
            "====> Epoch: 12 Average loss: 163.7482\n",
            "Train Epoch: 13 [0/1000 (0%)]\tLoss: 177.341751\n",
            "====> Epoch: 13 Average loss: 159.2440\n",
            "Train Epoch: 14 [0/1000 (0%)]\tLoss: 171.432556\n",
            "====> Epoch: 14 Average loss: 155.9316\n",
            "Train Epoch: 15 [0/1000 (0%)]\tLoss: 170.052490\n",
            "====> Epoch: 15 Average loss: 153.2307\n",
            "Train Epoch: 16 [0/1000 (0%)]\tLoss: 168.205627\n",
            "====> Epoch: 16 Average loss: 150.4213\n",
            "Train Epoch: 17 [0/1000 (0%)]\tLoss: 161.745209\n",
            "====> Epoch: 17 Average loss: 147.5229\n",
            "Train Epoch: 18 [0/1000 (0%)]\tLoss: 166.265427\n",
            "====> Epoch: 18 Average loss: 143.8258\n",
            "Train Epoch: 19 [0/1000 (0%)]\tLoss: 156.393829\n",
            "====> Epoch: 19 Average loss: 141.1537\n",
            "Train Epoch: 20 [0/1000 (0%)]\tLoss: 154.733109\n",
            "====> Epoch: 20 Average loss: 138.1451\n",
            "Train Epoch: 21 [0/1000 (0%)]\tLoss: 156.735321\n",
            "====> Epoch: 21 Average loss: 136.6334\n",
            "Train Epoch: 22 [0/1000 (0%)]\tLoss: 144.780304\n",
            "====> Epoch: 22 Average loss: 132.5581\n",
            "Train Epoch: 23 [0/1000 (0%)]\tLoss: 147.730072\n",
            "====> Epoch: 23 Average loss: 128.4773\n",
            "Train Epoch: 24 [0/1000 (0%)]\tLoss: 140.762146\n",
            "====> Epoch: 24 Average loss: 125.9688\n",
            "Train Epoch: 25 [0/1000 (0%)]\tLoss: 134.085403\n",
            "====> Epoch: 25 Average loss: 123.8733\n",
            "Train Epoch: 26 [0/1000 (0%)]\tLoss: 136.650131\n",
            "====> Epoch: 26 Average loss: 121.5273\n",
            "Train Epoch: 27 [0/1000 (0%)]\tLoss: 130.282822\n",
            "====> Epoch: 27 Average loss: 120.2960\n",
            "Train Epoch: 28 [0/1000 (0%)]\tLoss: 132.599670\n",
            "====> Epoch: 28 Average loss: 118.3967\n",
            "Train Epoch: 29 [0/1000 (0%)]\tLoss: 124.542404\n",
            "====> Epoch: 29 Average loss: 116.1730\n",
            "Train Epoch: 30 [0/1000 (0%)]\tLoss: 128.145721\n",
            "====> Epoch: 30 Average loss: 114.7188\n",
            "Train Epoch: 31 [0/1000 (0%)]\tLoss: 125.157761\n",
            "====> Epoch: 31 Average loss: 114.5941\n",
            "Train Epoch: 32 [0/1000 (0%)]\tLoss: 121.013245\n",
            "====> Epoch: 32 Average loss: 111.9769\n",
            "Train Epoch: 33 [0/1000 (0%)]\tLoss: 122.635628\n",
            "====> Epoch: 33 Average loss: 109.6211\n",
            "Train Epoch: 34 [0/1000 (0%)]\tLoss: 121.587616\n",
            "====> Epoch: 34 Average loss: 108.4241\n",
            "Train Epoch: 35 [0/1000 (0%)]\tLoss: 125.973930\n",
            "====> Epoch: 35 Average loss: 107.0298\n",
            "Train Epoch: 36 [0/1000 (0%)]\tLoss: 122.551704\n",
            "====> Epoch: 36 Average loss: 105.7063\n",
            "Train Epoch: 37 [0/1000 (0%)]\tLoss: 119.146561\n",
            "====> Epoch: 37 Average loss: 103.2040\n",
            "Train Epoch: 38 [0/1000 (0%)]\tLoss: 111.341309\n",
            "====> Epoch: 38 Average loss: 101.7458\n",
            "Train Epoch: 39 [0/1000 (0%)]\tLoss: 111.931778\n",
            "====> Epoch: 39 Average loss: 100.5683\n",
            "Train Epoch: 40 [0/1000 (0%)]\tLoss: 111.560257\n",
            "====> Epoch: 40 Average loss: 99.6088\n",
            "Train Epoch: 41 [0/1000 (0%)]\tLoss: 107.551773\n",
            "====> Epoch: 41 Average loss: 98.6290\n",
            "Train Epoch: 42 [0/1000 (0%)]\tLoss: 114.081009\n",
            "====> Epoch: 42 Average loss: 98.2621\n",
            "Train Epoch: 43 [0/1000 (0%)]\tLoss: 108.043228\n",
            "====> Epoch: 43 Average loss: 96.9490\n",
            "Train Epoch: 44 [0/1000 (0%)]\tLoss: 106.433228\n",
            "====> Epoch: 44 Average loss: 95.8308\n",
            "Train Epoch: 45 [0/1000 (0%)]\tLoss: 108.838417\n",
            "====> Epoch: 45 Average loss: 95.2089\n",
            "Train Epoch: 46 [0/1000 (0%)]\tLoss: 102.384811\n",
            "====> Epoch: 46 Average loss: 93.9067\n",
            "Train Epoch: 47 [0/1000 (0%)]\tLoss: 103.092064\n",
            "====> Epoch: 47 Average loss: 93.6452\n",
            "Train Epoch: 48 [0/1000 (0%)]\tLoss: 109.952072\n",
            "====> Epoch: 48 Average loss: 92.3842\n",
            "Train Epoch: 49 [0/1000 (0%)]\tLoss: 100.418259\n",
            "====> Epoch: 49 Average loss: 92.8094\n",
            "Train Epoch: 50 [0/1000 (0%)]\tLoss: 102.007378\n",
            "====> Epoch: 50 Average loss: 90.9430\n",
            "Train Epoch: 51 [0/1000 (0%)]\tLoss: 100.039871\n",
            "====> Epoch: 51 Average loss: 90.8633\n",
            "Train Epoch: 52 [0/1000 (0%)]\tLoss: 103.345879\n",
            "====> Epoch: 52 Average loss: 90.2492\n",
            "Train Epoch: 53 [0/1000 (0%)]\tLoss: 97.451424\n",
            "====> Epoch: 53 Average loss: 89.4058\n",
            "Train Epoch: 54 [0/1000 (0%)]\tLoss: 108.350204\n",
            "====> Epoch: 54 Average loss: 88.9439\n",
            "Train Epoch: 55 [0/1000 (0%)]\tLoss: 97.138939\n",
            "====> Epoch: 55 Average loss: 88.0490\n",
            "Train Epoch: 56 [0/1000 (0%)]\tLoss: 95.563629\n",
            "====> Epoch: 56 Average loss: 87.7248\n",
            "Train Epoch: 57 [0/1000 (0%)]\tLoss: 94.611374\n",
            "====> Epoch: 57 Average loss: 87.1779\n",
            "Train Epoch: 58 [0/1000 (0%)]\tLoss: 96.033844\n",
            "====> Epoch: 58 Average loss: 87.0392\n",
            "Train Epoch: 59 [0/1000 (0%)]\tLoss: 91.476288\n",
            "====> Epoch: 59 Average loss: 86.7466\n",
            "Train Epoch: 60 [0/1000 (0%)]\tLoss: 91.379379\n",
            "====> Epoch: 60 Average loss: 85.3608\n",
            "Train Epoch: 61 [0/1000 (0%)]\tLoss: 97.654694\n",
            "====> Epoch: 61 Average loss: 85.4194\n",
            "Train Epoch: 62 [0/1000 (0%)]\tLoss: 91.222275\n",
            "====> Epoch: 62 Average loss: 83.8049\n",
            "Train Epoch: 63 [0/1000 (0%)]\tLoss: 93.192093\n",
            "====> Epoch: 63 Average loss: 84.1467\n",
            "Train Epoch: 64 [0/1000 (0%)]\tLoss: 93.189690\n",
            "====> Epoch: 64 Average loss: 84.4893\n",
            "Train Epoch: 65 [0/1000 (0%)]\tLoss: 95.708313\n",
            "====> Epoch: 65 Average loss: 83.7303\n",
            "Train Epoch: 66 [0/1000 (0%)]\tLoss: 91.128777\n",
            "====> Epoch: 66 Average loss: 82.5311\n",
            "Train Epoch: 67 [0/1000 (0%)]\tLoss: 91.963173\n",
            "====> Epoch: 67 Average loss: 82.1784\n",
            "Train Epoch: 68 [0/1000 (0%)]\tLoss: 91.078224\n",
            "====> Epoch: 68 Average loss: 81.8919\n",
            "Train Epoch: 69 [0/1000 (0%)]\tLoss: 91.387871\n",
            "====> Epoch: 69 Average loss: 81.0482\n",
            "Train Epoch: 70 [0/1000 (0%)]\tLoss: 89.251099\n",
            "====> Epoch: 70 Average loss: 80.3600\n",
            "Train Epoch: 71 [0/1000 (0%)]\tLoss: 88.132324\n",
            "====> Epoch: 71 Average loss: 80.4433\n",
            "Train Epoch: 72 [0/1000 (0%)]\tLoss: 88.327972\n",
            "====> Epoch: 72 Average loss: 79.8503\n",
            "Train Epoch: 73 [0/1000 (0%)]\tLoss: 88.792641\n",
            "====> Epoch: 73 Average loss: 79.5746\n",
            "Train Epoch: 74 [0/1000 (0%)]\tLoss: 90.092789\n",
            "====> Epoch: 74 Average loss: 79.2022\n",
            "Train Epoch: 75 [0/1000 (0%)]\tLoss: 81.442276\n",
            "====> Epoch: 75 Average loss: 78.3217\n",
            "Train Epoch: 76 [0/1000 (0%)]\tLoss: 91.723404\n",
            "====> Epoch: 76 Average loss: 78.3830\n",
            "Train Epoch: 77 [0/1000 (0%)]\tLoss: 89.000603\n",
            "====> Epoch: 77 Average loss: 77.8488\n",
            "Train Epoch: 78 [0/1000 (0%)]\tLoss: 82.395523\n",
            "====> Epoch: 78 Average loss: 77.4164\n",
            "Train Epoch: 79 [0/1000 (0%)]\tLoss: 81.461014\n",
            "====> Epoch: 79 Average loss: 76.5633\n",
            "Train Epoch: 80 [0/1000 (0%)]\tLoss: 84.998421\n",
            "====> Epoch: 80 Average loss: 76.3795\n",
            "Train Epoch: 81 [0/1000 (0%)]\tLoss: 86.619514\n",
            "====> Epoch: 81 Average loss: 76.3242\n",
            "Train Epoch: 82 [0/1000 (0%)]\tLoss: 81.595589\n",
            "====> Epoch: 82 Average loss: 75.3893\n",
            "Train Epoch: 83 [0/1000 (0%)]\tLoss: 82.464691\n",
            "====> Epoch: 83 Average loss: 75.4751\n",
            "Train Epoch: 84 [0/1000 (0%)]\tLoss: 82.121033\n",
            "====> Epoch: 84 Average loss: 74.8725\n",
            "Train Epoch: 85 [0/1000 (0%)]\tLoss: 77.480194\n",
            "====> Epoch: 85 Average loss: 74.2917\n",
            "Train Epoch: 86 [0/1000 (0%)]\tLoss: 81.974045\n",
            "====> Epoch: 86 Average loss: 73.9373\n",
            "Train Epoch: 87 [0/1000 (0%)]\tLoss: 85.723770\n",
            "====> Epoch: 87 Average loss: 73.8427\n",
            "Train Epoch: 88 [0/1000 (0%)]\tLoss: 81.356598\n",
            "====> Epoch: 88 Average loss: 73.3297\n",
            "Train Epoch: 89 [0/1000 (0%)]\tLoss: 78.964897\n",
            "====> Epoch: 89 Average loss: 72.7946\n",
            "Train Epoch: 90 [0/1000 (0%)]\tLoss: 79.946381\n",
            "====> Epoch: 90 Average loss: 72.5188\n",
            "Train Epoch: 91 [0/1000 (0%)]\tLoss: 78.391861\n",
            "====> Epoch: 91 Average loss: 72.2369\n",
            "Train Epoch: 92 [0/1000 (0%)]\tLoss: 79.253799\n",
            "====> Epoch: 92 Average loss: 72.0586\n",
            "Train Epoch: 93 [0/1000 (0%)]\tLoss: 79.164497\n",
            "====> Epoch: 93 Average loss: 71.7926\n",
            "Train Epoch: 94 [0/1000 (0%)]\tLoss: 83.086357\n",
            "====> Epoch: 94 Average loss: 71.3708\n",
            "Train Epoch: 95 [0/1000 (0%)]\tLoss: 77.636986\n",
            "====> Epoch: 95 Average loss: 70.7645\n",
            "Train Epoch: 96 [0/1000 (0%)]\tLoss: 76.150467\n",
            "====> Epoch: 96 Average loss: 70.5175\n",
            "Train Epoch: 97 [0/1000 (0%)]\tLoss: 79.364113\n",
            "====> Epoch: 97 Average loss: 70.7540\n",
            "Train Epoch: 98 [0/1000 (0%)]\tLoss: 76.067047\n",
            "====> Epoch: 98 Average loss: 70.4058\n",
            "Train Epoch: 99 [0/1000 (0%)]\tLoss: 79.192108\n",
            "====> Epoch: 99 Average loss: 70.5323\n",
            "Train Epoch: 100 [0/1000 (0%)]\tLoss: 79.197731\n",
            "====> Epoch: 100 Average loss: 70.0886\n",
            "Train Epoch: 101 [0/1000 (0%)]\tLoss: 78.087814\n",
            "====> Epoch: 101 Average loss: 69.6499\n",
            "Train Epoch: 102 [0/1000 (0%)]\tLoss: 74.731110\n",
            "====> Epoch: 102 Average loss: 69.2951\n",
            "Train Epoch: 103 [0/1000 (0%)]\tLoss: 77.220375\n",
            "====> Epoch: 103 Average loss: 68.5539\n",
            "Train Epoch: 104 [0/1000 (0%)]\tLoss: 78.292282\n",
            "====> Epoch: 104 Average loss: 68.8006\n",
            "Train Epoch: 105 [0/1000 (0%)]\tLoss: 73.039459\n",
            "====> Epoch: 105 Average loss: 68.5036\n",
            "Train Epoch: 106 [0/1000 (0%)]\tLoss: 76.141068\n",
            "====> Epoch: 106 Average loss: 68.2390\n",
            "Train Epoch: 107 [0/1000 (0%)]\tLoss: 77.192032\n",
            "====> Epoch: 107 Average loss: 68.1763\n",
            "Train Epoch: 108 [0/1000 (0%)]\tLoss: 76.973007\n",
            "====> Epoch: 108 Average loss: 67.9118\n",
            "Train Epoch: 109 [0/1000 (0%)]\tLoss: 75.194458\n",
            "====> Epoch: 109 Average loss: 67.5717\n",
            "Train Epoch: 110 [0/1000 (0%)]\tLoss: 75.884842\n",
            "====> Epoch: 110 Average loss: 67.1377\n",
            "Train Epoch: 111 [0/1000 (0%)]\tLoss: 75.493408\n",
            "====> Epoch: 111 Average loss: 67.1406\n",
            "Train Epoch: 112 [0/1000 (0%)]\tLoss: 73.980812\n",
            "====> Epoch: 112 Average loss: 67.2072\n",
            "Train Epoch: 113 [0/1000 (0%)]\tLoss: 74.218643\n",
            "====> Epoch: 113 Average loss: 66.3710\n",
            "Train Epoch: 114 [0/1000 (0%)]\tLoss: 74.624413\n",
            "====> Epoch: 114 Average loss: 66.1501\n",
            "Train Epoch: 115 [0/1000 (0%)]\tLoss: 74.282990\n",
            "====> Epoch: 115 Average loss: 66.2061\n",
            "Train Epoch: 116 [0/1000 (0%)]\tLoss: 73.162552\n",
            "====> Epoch: 116 Average loss: 65.7385\n",
            "Train Epoch: 117 [0/1000 (0%)]\tLoss: 72.171410\n",
            "====> Epoch: 117 Average loss: 65.5415\n",
            "Train Epoch: 118 [0/1000 (0%)]\tLoss: 71.194534\n",
            "====> Epoch: 118 Average loss: 65.4348\n",
            "Train Epoch: 119 [0/1000 (0%)]\tLoss: 70.582664\n",
            "====> Epoch: 119 Average loss: 64.9283\n",
            "Train Epoch: 120 [0/1000 (0%)]\tLoss: 73.383133\n",
            "====> Epoch: 120 Average loss: 64.4698\n",
            "Train Epoch: 121 [0/1000 (0%)]\tLoss: 72.660126\n",
            "====> Epoch: 121 Average loss: 64.5106\n",
            "Train Epoch: 122 [0/1000 (0%)]\tLoss: 75.012924\n",
            "====> Epoch: 122 Average loss: 64.2360\n",
            "Train Epoch: 123 [0/1000 (0%)]\tLoss: 67.853600\n",
            "====> Epoch: 123 Average loss: 64.1929\n",
            "Train Epoch: 124 [0/1000 (0%)]\tLoss: 69.525284\n",
            "====> Epoch: 124 Average loss: 63.8692\n",
            "Train Epoch: 125 [0/1000 (0%)]\tLoss: 72.107605\n",
            "====> Epoch: 125 Average loss: 63.9365\n",
            "Train Epoch: 126 [0/1000 (0%)]\tLoss: 69.801025\n",
            "====> Epoch: 126 Average loss: 63.7064\n",
            "Train Epoch: 127 [0/1000 (0%)]\tLoss: 72.701744\n",
            "====> Epoch: 127 Average loss: 63.2735\n",
            "Train Epoch: 128 [0/1000 (0%)]\tLoss: 69.881752\n",
            "====> Epoch: 128 Average loss: 63.4225\n",
            "Train Epoch: 129 [0/1000 (0%)]\tLoss: 68.831367\n",
            "====> Epoch: 129 Average loss: 63.3493\n",
            "Train Epoch: 130 [0/1000 (0%)]\tLoss: 68.533600\n",
            "====> Epoch: 130 Average loss: 62.5935\n",
            "Train Epoch: 131 [0/1000 (0%)]\tLoss: 72.164734\n",
            "====> Epoch: 131 Average loss: 63.0197\n",
            "Train Epoch: 132 [0/1000 (0%)]\tLoss: 69.854050\n",
            "====> Epoch: 132 Average loss: 62.5359\n",
            "Train Epoch: 133 [0/1000 (0%)]\tLoss: 68.505402\n",
            "====> Epoch: 133 Average loss: 62.2879\n",
            "Train Epoch: 134 [0/1000 (0%)]\tLoss: 70.621933\n",
            "====> Epoch: 134 Average loss: 62.5372\n",
            "Train Epoch: 135 [0/1000 (0%)]\tLoss: 68.711815\n",
            "====> Epoch: 135 Average loss: 61.9215\n",
            "Train Epoch: 136 [0/1000 (0%)]\tLoss: 67.813988\n",
            "====> Epoch: 136 Average loss: 61.6533\n",
            "Train Epoch: 137 [0/1000 (0%)]\tLoss: 66.624565\n",
            "====> Epoch: 137 Average loss: 61.3356\n",
            "Train Epoch: 138 [0/1000 (0%)]\tLoss: 70.657318\n",
            "====> Epoch: 138 Average loss: 61.2405\n",
            "Train Epoch: 139 [0/1000 (0%)]\tLoss: 67.867104\n",
            "====> Epoch: 139 Average loss: 60.9838\n",
            "Train Epoch: 140 [0/1000 (0%)]\tLoss: 69.315308\n",
            "====> Epoch: 140 Average loss: 60.9496\n",
            "Train Epoch: 141 [0/1000 (0%)]\tLoss: 65.650070\n",
            "====> Epoch: 141 Average loss: 61.0200\n",
            "Train Epoch: 142 [0/1000 (0%)]\tLoss: 65.161972\n",
            "====> Epoch: 142 Average loss: 60.6651\n",
            "Train Epoch: 143 [0/1000 (0%)]\tLoss: 68.192505\n",
            "====> Epoch: 143 Average loss: 60.2411\n",
            "Train Epoch: 144 [0/1000 (0%)]\tLoss: 66.743820\n",
            "====> Epoch: 144 Average loss: 60.1197\n",
            "Train Epoch: 145 [0/1000 (0%)]\tLoss: 66.635544\n",
            "====> Epoch: 145 Average loss: 60.3780\n",
            "Train Epoch: 146 [0/1000 (0%)]\tLoss: 64.720093\n",
            "====> Epoch: 146 Average loss: 59.5472\n",
            "Train Epoch: 147 [0/1000 (0%)]\tLoss: 66.462967\n",
            "====> Epoch: 147 Average loss: 59.8973\n",
            "Train Epoch: 148 [0/1000 (0%)]\tLoss: 66.109642\n",
            "====> Epoch: 148 Average loss: 59.8554\n",
            "Train Epoch: 149 [0/1000 (0%)]\tLoss: 64.549881\n",
            "====> Epoch: 149 Average loss: 59.3640\n"
          ]
        }
      ],
      "source": [
        "for epoch in range(0, n_epochs):\n",
        "  train_ae(ae_model,mnist_train_loader,epoch)"
      ]
    },
    {
      "cell_type": "code",
      "execution_count": 10,
      "metadata": {
        "id": "T8jXjdRyzMy2"
      },
      "outputs": [],
      "source": [
        "def display_images(imgs):\n",
        "  \n",
        "  r = 1\n",
        "  c = imgs.shape[0]\n",
        "  fig, axs = plt.subplots(r, c)\n",
        "  for j in range(c):\n",
        "    #black and white images\n",
        "    axs[j].imshow(pytorch_to_numpy(imgs[j, 0,:,:]), cmap='gray')\n",
        "    axs[j].axis('off')\n",
        "  plt.show()\n",
        "\n",
        "def display_ae_images(ae_model, test_imgs):\n",
        "  n_images = 5\n",
        "  idx = np.random.randint(0, test_imgs.shape[0], n_images)\n",
        "  test_imgs = test_imgs[idx,:,:,:]\n",
        "  print(test_imgs.shape)\n",
        "\n",
        "  #get output images\n",
        "  output_imgs = pytorch_to_numpy(ae_model.forward( test_imgs ))\n",
        "  print(output_imgs.shape)\n",
        "  \n",
        "  r = 2\n",
        "  c = n_images\n",
        "  fig, axs = plt.subplots(r, c)\n",
        "  for j in range(c):\n",
        "    #black and white images\n",
        "    axs[0,j].imshow(test_imgs[j, 0,:,:], cmap='gray')\n",
        "    axs[0,j].axis('off')\n",
        "    axs[1,j].imshow(output_imgs[j, 0,:,:], cmap='gray')\n",
        "    axs[1,j].axis('off')\n",
        "  plt.show()"
      ]
    },
    {
      "cell_type": "code",
      "execution_count": 11,
      "metadata": {
        "colab": {
          "base_uri": "https://localhost:8080/",
          "height": 359
        },
        "id": "9pbXch29d68D",
        "outputId": "e915e93b-9444-4028-d04e-8983a968e83f"
      },
      "outputs": [
        {
          "name": "stdout",
          "output_type": "stream",
          "text": [
            "torch.Size([5, 1, 28, 28])\n",
            "(5, 1, 28, 28)\n"
          ]
        },
        {
          "data": {
            "image/png": "[encoded data removed]",
            "text/plain": [
              "<Figure size 640x480 with 10 Axes>"
            ]
          },
          "metadata": {},
          "output_type": "display_data"
        }
      ],
      "source": [
        "test_imgs = next(iter(mnist_train_loader))[0]\n",
        "display_ae_images(ae_model, test_imgs)"
      ]
    },
    {
      "attachments": {},
      "cell_type": "markdown",
      "metadata": {
        "id": "assPaJqB5sa-"
      },
      "source": [
        "__Question__ Are you satisfied with the results, do they look good ?"
      ]
    },
    {
      "attachments": {},
      "cell_type": "markdown",
      "metadata": {
        "id": "Q7uoWa4O5x8R"
      },
      "source": [
        "__Answer__ They are clearly the same number, but with some blurry not being the same image.   "
      ]
    },
    {
      "attachments": {},
      "cell_type": "markdown",
      "metadata": {
        "id": "zO9ATQEiyr3b"
      },
      "source": [
        "## 2/ Two simple generative models\n",
        "\n",
        "In this section, we consider two naïve approaches to creating generative models. The general idea is the following:\n",
        "\n",
        "- train an autoencoder\n",
        "- estimate different statistics (average, variance) of the data in the latent space\n",
        "- using these statistics, define a model based on a Gaussian distribution\n",
        "- generate data with this distribution\n",
        "\n",
        "We will consider these two situations :\n",
        "\n",
        "- a multivariate Gaussian distribution with __diagonal covariance matrix__ (each latent component is an independent random variable). This requires the average and variance in each latent component\n",
        "- a multivariate Gaussian distribution with __non-diagonal covariance matrix__. This requires the average and covariance matrix of the latent components\n",
        "\n",
        "Obviously, since this is done _a posteriori_ after training the autoencoder, there is nothing which guarantees that the latent codes do indeed follow a Gaussian distribution. Our goal will be to verify that Variational Autoencoders indeed produce better results than such naïve approaches."
      ]
    },
    {
      "attachments": {},
      "cell_type": "markdown",
      "metadata": {
        "id": "x2M1-BRmf56d"
      },
      "source": [
        "## 2.0 Defining and generating random Gaussian latent codes\n",
        "\n",
        "Let $z$ be a latent code and $d$ the dimension of the latent space (called ``z_dim`` in the code). We suppose that the $z$'s follow a multivariate Gaussian distribution, written as:\n",
        "\n",
        "\\begin{equation}\n",
        "z \\sim \\mathcal{N}\\left(\n",
        "\\mu,\n",
        "\\bf{C}\n",
        "\\right),\n",
        "\\end{equation}\n",
        "where $\\mu$ and $\\bf{C}$ are the average vector and covariance matrix of the Gaussian distribution. To define such a generative model, we must therefore determine $\\mu$ and $\\bf{C}$. Once this is done, we can generate a random Gaussian latent code in the following manner:\n",
        "\n",
        "\\begin{equation}\n",
        "z = \\mu + {\\bf{L}} \\varepsilon,\n",
        "\\end{equation}\n",
        "where $\\varepsilon$ is a random vector drawn from a multivariate normal distribution ($\\mu=0$ and ${\\bf{C}} = \\text{Id}$), and $\\bf{L}$ is the Cholesky decomposition of the positive semi-definite covariance matrix. In other words:\n",
        "\n",
        "\\begin{equation}\n",
        "{\\bf{C}} = {\\bf{L}}{\\bf{L}^T}.\n",
        "\\end{equation}\n",
        "\n",
        "This gives a simple method of producing a multivariate Gaussian random variable."
      ]
    },
    {
      "attachments": {},
      "cell_type": "markdown",
      "metadata": {
        "id": "NWpucm972i7j"
      },
      "source": [
        "## 2.1/ A Gaussian model with diagonal covariance\n",
        "\n",
        "The first naïve model is  defined in this first case as:\n",
        "\n",
        "- $\\bf{\\mu}=\\left[\\mu_0, \\mu_1, \\cdots, \\mu_{d-1}\\right]^T$\n",
        "- $\n",
        "  \\bf{C} = \\begin{pmatrix}\n",
        "\\sigma_0^2 & 0 & \\cdots & 0 \\\\\n",
        "0 & \\sigma_1^2 & \\cdots & 0 \\\\\n",
        "\\vdots & \\ddots & \\ddots & \\vdots \\\\\n",
        "0 & 0 & \\cdots & \\sigma_{d-1}^2\n",
        "\\end{pmatrix}$\n",
        "\n",
        "In this situation, therefore, the matrix $\\bf{L}$ can be calculated quite simply, as:\n",
        "- $\n",
        "  \\bf{L} = \\begin{pmatrix}\n",
        "\\sigma_0 & 0 & \\cdots & 0 \\\\\n",
        "0 & \\sigma_1 & \\cdots & 0 \\\\\n",
        "\\vdots & \\ddots & \\ddots & \\vdots \\\\\n",
        "0 & 0 & \\cdots & \\sigma_{d-1}\n",
        "\\end{pmatrix}$\n",
        "\n",
        "In the next cell, calculate the empirical average and variances over a certain number of batches:"
      ]
    },
    {
      "cell_type": "code",
      "execution_count": 54,
      "metadata": {
        "id": "sUXHCtvW2iQ0"
      },
      "outputs": [
        {
          "name": "stdout",
          "output_type": "stream",
          "text": [
            "Average of latent codes: tensor(-1.3214, grad_fn=<MeanBackward0>)\n",
            "Standard deviation of latent codes: tensor(7.5679, grad_fn=<MeanBackward0>)\n"
          ]
        }
      ],
      "source": [
        "n_batches = np.floor( len(mnist_train_loader.dataset.indices)/batch_size ).astype(int)\n",
        "\n",
        "z_average = torch.zeros(n_batches,ae_model.z_dim) #(7,10)\n",
        "z_sigma = torch.zeros(n_batches,ae_model.z_dim) #(7,10)\n",
        "\n",
        "for batch_idx, (data, _) in enumerate(mnist_train_loader):\n",
        "  z = ae_model.encoder(data)\n",
        "  z_average[batch_idx,:] = torch.mean(z, dim=0) # FILL IN CODE HERE\n",
        "  z_sigma[batch_idx,:] = torch.std(z, dim=0) # FILL IN CODE HERE\n",
        "\n",
        "\n",
        "z_average = torch.mean(z_average) # FILL IN CODE HERE\n",
        "z_sigma = torch.mean(z_sigma) # FILL IN CODE HERE\n",
        "\n",
        "print(\"Average of latent codes:\", z_average)\n",
        "print(\"Standard deviation of latent codes:\",z_sigma)"
      ]
    },
    {
      "attachments": {},
      "cell_type": "markdown",
      "metadata": {
        "id": "Lrpc62ML9K4l"
      },
      "source": [
        "Now, in the next cell generate data with this simple generative model using the approach described above. Display these images with the ``display_images`` function. \n",
        "\n",
        "__NB__ You do not actually have to define the matrix $\\bf{L}$ in this case, an element-wise multiplication of two (properly chosen) vectors will suffice. To generate multivariate normal random variables you can use the following Pytorch function:\n",
        "\n",
        "- ```torch.randn```\n"
      ]
    },
    {
      "cell_type": "code",
      "execution_count": 316,
      "metadata": {
        "id": "1_Tekii-9QEo"
      },
      "outputs": [
        {
          "data": {
            "image/png": "[encoded data removed]",
            "text/plain": [
              "<Figure size 640x480 with 5 Axes>"
            ]
          },
          "metadata": {},
          "output_type": "display_data"
        }
      ],
      "source": [
        "def generate_images_diagonal_gaussian(ae_model,z_average,z_sigma, n_images = 5):\n",
        "\n",
        "  epsilon = torch.randn(size=(n_images,ae_model.z_dim)) # FILL IN CODE HERE\n",
        "  z_generated = z_average + torch.mul(epsilon, z_sigma)  # FILL IN CODE HERE\n",
        "  imgs_generated = ae_model.decoder(z_generated) # FILL IN CODE HERE\n",
        "  return(imgs_generated)\n",
        "\n",
        "imgs_generated = generate_images_diagonal_gaussian(ae_model,z_average,z_sigma, n_images=5)\n",
        "display_images(imgs_generated)"
      ]
    },
    {
      "attachments": {},
      "cell_type": "markdown",
      "metadata": {
        "id": "xiNaEgLIloeA"
      },
      "source": [
        "As you should be able to see, these results are not that good. Let's try a slightly more sophisticated model."
      ]
    },
    {
      "attachments": {},
      "cell_type": "markdown",
      "metadata": {
        "id": "WjVPfkRKYMSh"
      },
      "source": [
        "## 2.1 Non-diagonal Gaussian model\n",
        "\n",
        "The second model uses a non-diagonal covariance matrix $\\bf{C}$ in the multivariate Gaussian distribution. In the next cell, calculate the average and covariance matrix over several batches of latent codes.\n",
        "\n",
        "__NB__ You can use the ```torch.cov``` function. Make sure to put the data in the right format for this (see documentation : https://pytorch.org/docs/stable/generated/torch.cov.html)."
      ]
    },
    {
      "cell_type": "code",
      "execution_count": 59,
      "metadata": {
        "id": "ArXgre39CD2H"
      },
      "outputs": [
        {
          "name": "stdout",
          "output_type": "stream",
          "text": [
            "Average of latent codes: tensor([ -4.3167,   0.0579,   5.4114,  -5.2670,  -9.1830,   9.6678,   8.8234,\n",
            "          2.5784,  -8.5171, -12.1526], grad_fn=<MeanBackward1>)\n",
            "Covariance matrix of latent codes:\n",
            " tensor([[ 5.8899e+01, -1.0913e+01, -1.0074e+01, -2.3460e+00, -2.0314e+01,\n",
            "          1.6146e+01, -1.5793e+01,  6.1212e-03,  3.7768e+00,  6.8864e+00],\n",
            "        [-1.0913e+01,  9.1700e+01,  3.1203e+00,  3.8034e+00, -1.5285e+01,\n",
            "          1.4385e+01,  2.2418e+00, -1.3819e+00, -3.4224e+00, -2.9534e+01],\n",
            "        [-1.0074e+01,  3.1203e+00,  2.8858e+01,  1.1921e+01, -1.0325e+01,\n",
            "         -9.8333e+00,  1.9444e+01, -1.1486e+01, -1.4103e+01, -1.5266e+01],\n",
            "        [-2.3460e+00,  3.8034e+00,  1.1921e+01,  7.1889e+01, -1.5045e+01,\n",
            "          5.6800e+00,  8.4520e+00, -4.3913e+00, -7.4770e+00, -1.5719e+01],\n",
            "        [-2.0314e+01, -1.5285e+01, -1.0325e+01, -1.5045e+01,  6.0286e+01,\n",
            "         -8.4625e+00, -2.2172e+01, -2.4250e+00,  2.5011e+01,  2.2479e+01],\n",
            "        [ 1.6146e+01,  1.4385e+01, -9.8333e+00,  5.6800e+00, -8.4625e+00,\n",
            "          5.0967e+01, -1.3676e+01,  1.0410e+01,  5.6083e+00, -7.5996e+00],\n",
            "        [-1.5793e+01,  2.2418e+00,  1.9444e+01,  8.4520e+00, -2.2172e+01,\n",
            "         -1.3676e+01,  7.1970e+01,  3.5141e+00, -2.4634e+01, -1.5094e+01],\n",
            "        [ 6.1212e-03, -1.3819e+00, -1.1486e+01, -4.3913e+00, -2.4250e+00,\n",
            "          1.0410e+01,  3.5141e+00,  2.5931e+01,  1.7545e+01,  9.9149e+00],\n",
            "        [ 3.7768e+00, -3.4224e+00, -1.4103e+01, -7.4770e+00,  2.5011e+01,\n",
            "          5.6083e+00, -2.4634e+01,  1.7545e+01,  8.4179e+01,  1.9576e+01],\n",
            "        [ 6.8864e+00, -2.9534e+01, -1.5266e+01, -1.5719e+01,  2.2479e+01,\n",
            "         -7.5996e+00, -1.5094e+01,  9.9149e+00,  1.9576e+01,  4.9957e+01]],\n",
            "       grad_fn=<MeanBackward1>)\n"
          ]
        }
      ],
      "source": [
        "n_batches = np.floor( len(mnist_train_loader.dataset.indices)/batch_size).astype(int)\n",
        "\n",
        "z_average = torch.zeros(n_batches,ae_model.z_dim) #(7,10)\n",
        "z_covariance = torch.zeros(n_batches,ae_model.z_dim,ae_model.z_dim) #(7,10,10)\n",
        "\n",
        "for batch_idx, (data, _) in enumerate(mnist_train_loader):\n",
        "  z = ae_model.encoder(data)\n",
        "  z_average[batch_idx,:] = torch.mean(z, dim=0) # FILL IN CODE HERE\n",
        "  # we transpose z because cov expects features in rows and observations in columns\n",
        "  z_covariance[batch_idx,:,:] = torch.cov(z.T) # FILL IN CODE HERE  \n",
        "\n",
        "z_average = torch.mean(z_average, dim=0) # FILL IN CODE HERE\n",
        "z_covariance = torch.mean(z_covariance, dim=0) # FILL IN CODE HERE\n",
        "\n",
        "print(\"Average of latent codes:\", z_average)\n",
        "print(\"Covariance matrix of latent codes:\\n\", z_covariance)"
      ]
    },
    {
      "attachments": {},
      "cell_type": "markdown",
      "metadata": {
        "id": "JhXU8cnTZ0E8"
      },
      "source": [
        "Now, generate some samples with this distribution. In this case, you will actually have to calculate the Cholesky decomposition and find $\\bf{L}$. For this, you can use \n",
        "\n",
        "- ```torch.linalg.cholesky```\n",
        "\n",
        "In this model, you will need to carry out matrix multiplication over a batch of latent codes, which is a bit more complicated than the previous naïve model (which used element-wise vector multiplication). So you have two options:\n",
        "\n",
        "- copy the matrix $\\bf{L}$ several times and carry out batch matrix multiplication\n",
        "- simply loop and carry out normal matrix multiplication to produce each image (this has the disadvantage of not taking advantage of any parallelisation, but it should not matter too much).\n",
        "\n",
        "In the first case, you can use the following functions:\n",
        "\n",
        "- ```torch.bmm```\n",
        "- ```torch.tile```\n",
        "\n",
        "Fill in the function to generate images using this model now:"
      ]
    },
    {
      "cell_type": "code",
      "execution_count": 324,
      "metadata": {
        "id": "zXGlJTZ7Z4ed"
      },
      "outputs": [],
      "source": [
        "def generate_images_non_diagonal_gaussian(ae_model, z_average, z_covariance, n_images=5):\n",
        "\n",
        "    # Calculate Cholesky decomposition of covariance matrix: C = L L^T\n",
        "    # Make sure that the first dimension is the batch dimension (with batch size n_images)\n",
        "    # You can use the torch.unsqueeze function for this\n",
        "    L = torch.linalg.cholesky(z_covariance) # (z_dim, z_dim)\n",
        "    L = torch.unsqueeze(L, dim=0) # add a dimension at the beginning (1, z_dim, z_dim)\n",
        "    L = torch.tile(L, (n_images,1,1)) # repeat L n_images times along the first dimension (n_images, z_dim, z_dim)\n",
        "\n",
        "    epsilon = torch.randn(n_images, ae_model.z_dim)  # create a tensor with random values (n_images, z_dim)\n",
        "    epsilon = torch.unsqueeze(epsilon, dim=2) # add a dimension at the end (n_images, z_dim, 1) to be able to multiply with L\n",
        "    batch_mm = torch.bmm(L, epsilon) # multiply L with epsilon (n_images, z_dim, 1)\n",
        "    batch_mm = torch.squeeze(batch_mm, dim=2) # remove the last dimension (n_images, z_dim)\n",
        "    z_generated = z_average + batch_mm  # generate z values (n_images, z_dim)\n",
        "    imgs_generated = ae_model.decoder(z_generated)  # generate images (n_images, n_channels, n_rows, n_cols)\n",
        "    return (imgs_generated)"
      ]
    },
    {
      "cell_type": "code",
      "execution_count": 287,
      "metadata": {},
      "outputs": [
        {
          "name": "stdout",
          "output_type": "stream",
          "text": [
            "torch.Size([5, 1, 28, 28])\n"
          ]
        },
        {
          "data": {
            "image/png": "[encoded data removed]",
            "text/plain": [
              "<Figure size 640x480 with 5 Axes>"
            ]
          },
          "metadata": {},
          "output_type": "display_data"
        }
      ],
      "source": [
        "imgs_generated = generate_images_non_diagonal_gaussian(ae_model, z_average, z_covariance, n_images=5)\n",
        "display_images(imgs_generated)"
      ]
    },
    {
      "attachments": {},
      "cell_type": "markdown",
      "metadata": {
        "id": "qLtsdri6zKEm"
      },
      "source": [
        "You should see some improvement, but we can do better than this. Thus, we turn to the variational autoencoder."
      ]
    },
    {
      "attachments": {},
      "cell_type": "markdown",
      "metadata": {
        "id": "8UqeNhuSdnDt"
      },
      "source": [
        "# 3/ Variational autoencoder\n",
        "\n",
        "Now, we are going to create an variational autoencoder to carry out __image generation__. Let's first recall the idea of a variational autoencoder\n",
        "\n",
        "## Main idea\n",
        "\n",
        "The main idea is to create an autoencoder whose latent codes follow a certain distribution (a Gaussian distribution in practice). This is done with two tools : \n",
        "\n",
        "- A specific architecture, where the encoder produces the average and variance of the latent codes\n",
        "- A specially designed loss function\n",
        "\n",
        "Once the VAE is trained, it is possible to sample in the latent space by producing random normal variables and simply decoding.\n",
        "\n",
        "## Architecture\n",
        "\n",
        "The architecture of the VAE model is as follows:\n",
        "\n",
        "The encoder consists of:\n",
        "\n",
        "Encoder :\n",
        "- Flatten input\n",
        "- Dense layer $+$ ReLU\n",
        "- Dense layer $+$ ReLU\n",
        "- Dense layer (no non-linarity) to produce the average, Dense layer (no non-linarity) to produce the variance (these last two layers are in parallel)\n",
        "\n",
        "Decoder :\n",
        "- Dense layer $+$ ReLU\n",
        "- Dense layer $+$ ReLU\n",
        "- Dense layer $+$ Sigmoid Activation\n",
        "- Reshape, to size $28\\times 28\\times 1$\n",
        "\n",
        "\n",
        "## Variational Autoencoder loss\n",
        "\n",
        "Recall that for the VAE, the loss function is in fact a function to __maximise__. In fact, for implementation, you will see that it is easier to __minimise__ $-\\mathcal{L}$.\n",
        "\n",
        "In the case of an image which is represented by a set of __Bernoulli__ variables (which is relevant for mnist), the original loss function (to maximise) is written :\n",
        "\n",
        "\n",
        "\\begin{align}\n",
        "\\mathcal{L} &= \\log\\left(p_\\theta(x|z)\\right) - KL\\left( q_\\phi(z|x) \\; || \\; p_\\theta(z)\\right) \\\\\n",
        "    &= \\left(\\sum_{i} x_i \\log y_i + (1-x_i) \\log (1-y_i)\\right) - \\left(\\frac{1}{2} \\sum_j \\left( \\sigma_j^2 + \\mu_j^2 - \\log \\sigma_j^2 -1 \\right)\\right)\n",
        "\\end{align}\n",
        "\n",
        "\n",
        "where $i$ is summed over the image pixels, and $j$ is summed over the elements of the latent space. $\\sigma_j^2$ is the $j \\text{th}$ element of the latent space variance, and $\\mu_j$ is the $j \\text{th} $ element of the latent space mean.\n",
        "\n",
        "The left part of the loss (reconstruction error) can be implemented simply as the binary cross-entropy between the input x and the output y. Since we are __maximising__ $-$[binary cross-entropy] (look at the formula), this is equivalent to minimising the binary cross-entropy.\n",
        "\n",
        "For the right part of the equation (KL divergence), you need to implement it manually. \n",
        "\n",
        "The final loss is the average, over the batch size, of the sum of the reconstruction error (left part) and the KL divergence (right part). Be careful, in the formula, the sums over $i$ and $j$ are over the number of pixels and the number of latent elements, respectively. To achieve a sum rather than an average, you can use ```torch.nn.BCELoss(reduction='sum')()```, and the ```torch.sum()``` functions.\n",
        "\n",
        "As in the case of the normal autoencoder, you will need to flatten and then reshape the tensors at the beginning/end of the network."
      ]
    },
    {
      "cell_type": "code",
      "execution_count": 202,
      "metadata": {
        "id": "6siMHQLheM4T"
      },
      "outputs": [],
      "source": [
        "class VAE(torch.nn.Module ):\n",
        "  def __init__(self, x_dim, h_dim1, h_dim2, z_dim,n_rows,n_cols,n_channels):\n",
        "    super(VAE, self).__init__()\n",
        "\n",
        "    self.n_rows = n_rows\n",
        "    self.n_cols = n_cols\n",
        "    self.n_channels = n_channels\n",
        "    self.n_pixels = (self.n_rows)*(self.n_cols)\n",
        "    self.z_dim = z_dim\n",
        "\n",
        "    # encoder part\n",
        "    self.fc1 = nn.Linear(n_pixels,h_dim1) # FILL IN CODE HERE\n",
        "    self.fc2 = nn.Linear(h_dim1, h_dim2) # FILL IN CODE HERE\n",
        "    self.fc31 = nn.Linear(h_dim2, z_dim) # FILL IN CODE HERE\n",
        "    self.fc32 = nn.Linear(h_dim2, z_dim) # FILL IN CODE HERE\n",
        "    # decoder part\n",
        "    self.fc4 = nn.Linear(z_dim, h_dim2) # FILL IN CODE HERE\n",
        "    self.fc5 = nn.Linear(h_dim2, h_dim1) # FILL IN CODE HERE\n",
        "    self.fc6 = nn.Linear(h_dim1, n_pixels) # FILL IN CODE HERE\n",
        "\n",
        "  def encoder(self, x):\n",
        "    h = x.view((-1, n_pixels))# FILL IN CODE HERE\n",
        "    h = nn.ReLU()(self.fc1(h))\n",
        "    h = nn.ReLU()(self.fc2(h))\n",
        "    return self.fc31(h), self.fc32(h)  # FILL IN CODE HERE # mu, log_var\n",
        "  \n",
        "  def decoder(self, z):\n",
        "    h = nn.ReLU()(self.fc4(z)) # FILL IN CODE HERE\n",
        "    h = nn.ReLU()(self.fc5(h)) # FILL IN CODE HERE\n",
        "    h = nn.Sigmoid()(self.fc6(h))\n",
        "    return h.view(-1, self.n_channels, self.n_rows, self.n_cols) # FILL IN CODE HERE\n",
        "\n",
        "  def sampling(self, mu, log_var):\n",
        "    # this function samples a Gaussian distribution, with average (mu) and standard deviation specified (using log_var)\n",
        "    std = torch.exp(0.5*log_var) # FILL IN CODE HERE\n",
        "    eps = torch.randn_like(std) # FILL IN CODE HERE\n",
        "    return eps.mul(std).add_(mu) # return z sample\n",
        "\n",
        "  def forward(self, x):\n",
        "    z_mu, z_log_var = self.encoder(x.view(-1, n_channels * n_rows * n_cols))\n",
        "    z = self.sampling(z_mu, z_log_var)\n",
        "    return self.decoder(z),z_mu, z_log_var\n",
        "\n",
        "  def loss_function(self,x, y, mu, log_var):\n",
        "    reconstruction_error = torch.nn.BCELoss(reduction='sum')(y, x) # FILL IN CODE HERE\n",
        "    var = torch.exp(log_var)\n",
        "    # KLD = -0.5 * torch.sum(var + mu.pow(2) - log_var -1) # FILL IN CODE HERE\n",
        "    KLD = -0.5 * torch.sum(1 + log_var - mu.pow(2) - log_var.exp()) \n",
        "    return (reconstruction_error + KLD) / x.shape[0] # FILL IN CODE HERE"
      ]
    },
    {
      "attachments": {},
      "cell_type": "markdown",
      "metadata": {
        "id": "hk_9fDIphlsi"
      },
      "source": [
        "Now, create the model (similarly as above)"
      ]
    },
    {
      "cell_type": "code",
      "execution_count": 203,
      "metadata": {
        "id": "pVlpC2R3htyU"
      },
      "outputs": [],
      "source": [
        "# create model\n",
        "vae_dim_1 = ae_dim_1\n",
        "vae_dim_2 = ae_dim_2\n",
        "vae_model = VAE(x_dim=n_pixels, h_dim1= vae_dim_1, h_dim2=vae_dim_2, z_dim=z_dim,n_rows=n_rows,n_cols=n_cols,n_channels=n_channels)\n",
        "vae_optimizer = optim.Adam(vae_model.parameters())"
      ]
    },
    {
      "attachments": {},
      "cell_type": "markdown",
      "metadata": {
        "id": "NYKLF_oMh5HO"
      },
      "source": [
        "Finally, train the model. First modify the training function to the case of the vae."
      ]
    },
    {
      "cell_type": "code",
      "execution_count": 204,
      "metadata": {
        "id": "z6DjKTWmmssb"
      },
      "outputs": [],
      "source": [
        "def train_vae(vae_model,data_train_loader,epoch):\n",
        "  train_loss = 0\n",
        "  for batch_idx, (data, _) in enumerate(data_train_loader):\n",
        "    vae_optimizer.zero_grad()\n",
        "    y, z_mu, z_log_var = vae_model.forward(data) # FILL IN CODE HERE\n",
        "    loss_vae = vae_model.loss_function(data, y, z_mu, z_log_var) # FILL IN CODE HERE\n",
        "    loss_vae.backward()\n",
        "    train_loss += loss_vae.item()\n",
        "    vae_optimizer.step() \n",
        "\t\t\n",
        "    if batch_idx % 100 == 0:\n",
        "      print('Train Epoch: {} [{}/{} ({:.0f}%)]\\tLoss: {:.6f}'.format(\n",
        "      epoch, batch_idx * len(data), len(data_train_loader.dataset),\n",
        "      100. * batch_idx / len(data_train_loader), loss_vae.item() / len(data)))\n",
        "  print('====> Epoch: {} Average loss: {:.4f}'.format(epoch, train_loss / len(data_train_loader.dataset)))\n"
      ]
    },
    {
      "cell_type": "code",
      "execution_count": 205,
      "metadata": {
        "id": "L9JUUs6Kh8HB"
      },
      "outputs": [
        {
          "name": "stdout",
          "output_type": "stream",
          "text": [
            "Train Epoch: 0 [0/1000 (0%)]\tLoss: 4.251554\n",
            "====> Epoch: 0 Average loss: 3.1876\n",
            "Train Epoch: 1 [0/1000 (0%)]\tLoss: 2.324847\n",
            "====> Epoch: 1 Average loss: 1.8053\n",
            "Train Epoch: 2 [0/1000 (0%)]\tLoss: 1.706882\n",
            "====> Epoch: 2 Average loss: 1.5449\n",
            "Train Epoch: 3 [0/1000 (0%)]\tLoss: 1.683490\n",
            "====> Epoch: 3 Average loss: 1.4869\n",
            "Train Epoch: 4 [0/1000 (0%)]\tLoss: 1.736177\n",
            "====> Epoch: 4 Average loss: 1.4710\n",
            "Train Epoch: 5 [0/1000 (0%)]\tLoss: 1.654934\n",
            "====> Epoch: 5 Average loss: 1.4533\n",
            "Train Epoch: 6 [0/1000 (0%)]\tLoss: 1.611015\n",
            "====> Epoch: 6 Average loss: 1.4435\n",
            "Train Epoch: 7 [0/1000 (0%)]\tLoss: 1.577133\n",
            "====> Epoch: 7 Average loss: 1.4380\n",
            "Train Epoch: 8 [0/1000 (0%)]\tLoss: 1.584444\n",
            "====> Epoch: 8 Average loss: 1.4248\n",
            "Train Epoch: 9 [0/1000 (0%)]\tLoss: 1.593822\n",
            "====> Epoch: 9 Average loss: 1.4111\n",
            "Train Epoch: 10 [0/1000 (0%)]\tLoss: 1.531602\n",
            "====> Epoch: 10 Average loss: 1.4011\n",
            "Train Epoch: 11 [0/1000 (0%)]\tLoss: 1.547298\n",
            "====> Epoch: 11 Average loss: 1.3952\n",
            "Train Epoch: 12 [0/1000 (0%)]\tLoss: 1.569018\n",
            "====> Epoch: 12 Average loss: 1.3811\n",
            "Train Epoch: 13 [0/1000 (0%)]\tLoss: 1.541215\n",
            "====> Epoch: 13 Average loss: 1.3714\n",
            "Train Epoch: 14 [0/1000 (0%)]\tLoss: 1.532749\n",
            "====> Epoch: 14 Average loss: 1.3608\n",
            "Train Epoch: 15 [0/1000 (0%)]\tLoss: 1.530320\n",
            "====> Epoch: 15 Average loss: 1.3588\n",
            "Train Epoch: 16 [0/1000 (0%)]\tLoss: 1.521913\n",
            "====> Epoch: 16 Average loss: 1.3424\n",
            "Train Epoch: 17 [0/1000 (0%)]\tLoss: 1.504137\n",
            "====> Epoch: 17 Average loss: 1.3187\n",
            "Train Epoch: 18 [0/1000 (0%)]\tLoss: 1.448231\n",
            "====> Epoch: 18 Average loss: 1.3037\n",
            "Train Epoch: 19 [0/1000 (0%)]\tLoss: 1.493596\n",
            "====> Epoch: 19 Average loss: 1.2903\n",
            "Train Epoch: 20 [0/1000 (0%)]\tLoss: 1.419299\n",
            "====> Epoch: 20 Average loss: 1.2766\n",
            "Train Epoch: 21 [0/1000 (0%)]\tLoss: 1.449572\n",
            "====> Epoch: 21 Average loss: 1.2699\n",
            "Train Epoch: 22 [0/1000 (0%)]\tLoss: 1.429693\n",
            "====> Epoch: 22 Average loss: 1.2440\n",
            "Train Epoch: 23 [0/1000 (0%)]\tLoss: 1.440098\n",
            "====> Epoch: 23 Average loss: 1.2404\n",
            "Train Epoch: 24 [0/1000 (0%)]\tLoss: 1.372128\n",
            "====> Epoch: 24 Average loss: 1.2223\n",
            "Train Epoch: 25 [0/1000 (0%)]\tLoss: 1.356683\n",
            "====> Epoch: 25 Average loss: 1.2098\n",
            "Train Epoch: 26 [0/1000 (0%)]\tLoss: 1.333474\n",
            "====> Epoch: 26 Average loss: 1.1923\n",
            "Train Epoch: 27 [0/1000 (0%)]\tLoss: 1.282158\n",
            "====> Epoch: 27 Average loss: 1.1729\n",
            "Train Epoch: 28 [0/1000 (0%)]\tLoss: 1.294141\n",
            "====> Epoch: 28 Average loss: 1.1656\n",
            "Train Epoch: 29 [0/1000 (0%)]\tLoss: 1.219043\n",
            "====> Epoch: 29 Average loss: 1.1556\n",
            "Train Epoch: 30 [0/1000 (0%)]\tLoss: 1.269549\n",
            "====> Epoch: 30 Average loss: 1.1409\n",
            "Train Epoch: 31 [0/1000 (0%)]\tLoss: 1.277372\n",
            "====> Epoch: 31 Average loss: 1.1293\n",
            "Train Epoch: 32 [0/1000 (0%)]\tLoss: 1.239901\n",
            "====> Epoch: 32 Average loss: 1.0983\n",
            "Train Epoch: 33 [0/1000 (0%)]\tLoss: 1.194608\n",
            "====> Epoch: 33 Average loss: 1.0854\n",
            "Train Epoch: 34 [0/1000 (0%)]\tLoss: 1.193469\n",
            "====> Epoch: 34 Average loss: 1.0708\n",
            "Train Epoch: 35 [0/1000 (0%)]\tLoss: 1.172828\n",
            "====> Epoch: 35 Average loss: 1.0624\n",
            "Train Epoch: 36 [0/1000 (0%)]\tLoss: 1.243671\n",
            "====> Epoch: 36 Average loss: 1.0511\n",
            "Train Epoch: 37 [0/1000 (0%)]\tLoss: 1.138224\n",
            "====> Epoch: 37 Average loss: 1.0393\n",
            "Train Epoch: 38 [0/1000 (0%)]\tLoss: 1.182737\n",
            "====> Epoch: 38 Average loss: 1.0337\n",
            "Train Epoch: 39 [0/1000 (0%)]\tLoss: 1.164339\n",
            "====> Epoch: 39 Average loss: 1.0327\n",
            "Train Epoch: 40 [0/1000 (0%)]\tLoss: 1.159719\n",
            "====> Epoch: 40 Average loss: 1.0240\n",
            "Train Epoch: 41 [0/1000 (0%)]\tLoss: 1.119097\n",
            "====> Epoch: 41 Average loss: 1.0134\n",
            "Train Epoch: 42 [0/1000 (0%)]\tLoss: 1.137207\n",
            "====> Epoch: 42 Average loss: 1.0107\n",
            "Train Epoch: 43 [0/1000 (0%)]\tLoss: 1.101585\n",
            "====> Epoch: 43 Average loss: 0.9977\n",
            "Train Epoch: 44 [0/1000 (0%)]\tLoss: 1.121035\n",
            "====> Epoch: 44 Average loss: 0.9965\n",
            "Train Epoch: 45 [0/1000 (0%)]\tLoss: 1.072278\n",
            "====> Epoch: 45 Average loss: 0.9841\n",
            "Train Epoch: 46 [0/1000 (0%)]\tLoss: 1.067526\n",
            "====> Epoch: 46 Average loss: 0.9754\n",
            "Train Epoch: 47 [0/1000 (0%)]\tLoss: 1.044666\n",
            "====> Epoch: 47 Average loss: 0.9696\n",
            "Train Epoch: 48 [0/1000 (0%)]\tLoss: 1.091673\n",
            "====> Epoch: 48 Average loss: 0.9691\n",
            "Train Epoch: 49 [0/1000 (0%)]\tLoss: 1.095761\n",
            "====> Epoch: 49 Average loss: 0.9594\n",
            "Train Epoch: 50 [0/1000 (0%)]\tLoss: 1.117153\n",
            "====> Epoch: 50 Average loss: 0.9562\n",
            "Train Epoch: 51 [0/1000 (0%)]\tLoss: 1.049474\n",
            "====> Epoch: 51 Average loss: 0.9447\n",
            "Train Epoch: 52 [0/1000 (0%)]\tLoss: 1.064995\n",
            "====> Epoch: 52 Average loss: 0.9369\n",
            "Train Epoch: 53 [0/1000 (0%)]\tLoss: 1.054497\n",
            "====> Epoch: 53 Average loss: 0.9361\n",
            "Train Epoch: 54 [0/1000 (0%)]\tLoss: 1.073845\n",
            "====> Epoch: 54 Average loss: 0.9275\n",
            "Train Epoch: 55 [0/1000 (0%)]\tLoss: 1.029249\n",
            "====> Epoch: 55 Average loss: 0.9236\n",
            "Train Epoch: 56 [0/1000 (0%)]\tLoss: 1.003922\n",
            "====> Epoch: 56 Average loss: 0.9260\n",
            "Train Epoch: 57 [0/1000 (0%)]\tLoss: 0.994795\n",
            "====> Epoch: 57 Average loss: 0.9175\n",
            "Train Epoch: 58 [0/1000 (0%)]\tLoss: 0.989972\n",
            "====> Epoch: 58 Average loss: 0.9055\n",
            "Train Epoch: 59 [0/1000 (0%)]\tLoss: 1.003409\n",
            "====> Epoch: 59 Average loss: 0.9076\n",
            "Train Epoch: 60 [0/1000 (0%)]\tLoss: 0.967661\n",
            "====> Epoch: 60 Average loss: 0.8979\n",
            "Train Epoch: 61 [0/1000 (0%)]\tLoss: 1.007904\n",
            "====> Epoch: 61 Average loss: 0.9058\n",
            "Train Epoch: 62 [0/1000 (0%)]\tLoss: 1.021404\n",
            "====> Epoch: 62 Average loss: 0.8977\n",
            "Train Epoch: 63 [0/1000 (0%)]\tLoss: 1.014102\n",
            "====> Epoch: 63 Average loss: 0.8912\n",
            "Train Epoch: 64 [0/1000 (0%)]\tLoss: 0.951613\n",
            "====> Epoch: 64 Average loss: 0.8955\n",
            "Train Epoch: 65 [0/1000 (0%)]\tLoss: 1.009477\n",
            "====> Epoch: 65 Average loss: 0.8898\n",
            "Train Epoch: 66 [0/1000 (0%)]\tLoss: 0.978337\n",
            "====> Epoch: 66 Average loss: 0.8857\n",
            "Train Epoch: 67 [0/1000 (0%)]\tLoss: 0.970199\n",
            "====> Epoch: 67 Average loss: 0.8824\n",
            "Train Epoch: 68 [0/1000 (0%)]\tLoss: 0.992487\n",
            "====> Epoch: 68 Average loss: 0.8772\n",
            "Train Epoch: 69 [0/1000 (0%)]\tLoss: 0.999896\n",
            "====> Epoch: 69 Average loss: 0.8762\n",
            "Train Epoch: 70 [0/1000 (0%)]\tLoss: 0.972132\n",
            "====> Epoch: 70 Average loss: 0.8659\n",
            "Train Epoch: 71 [0/1000 (0%)]\tLoss: 0.957226\n",
            "====> Epoch: 71 Average loss: 0.8703\n",
            "Train Epoch: 72 [0/1000 (0%)]\tLoss: 0.973060\n",
            "====> Epoch: 72 Average loss: 0.8665\n",
            "Train Epoch: 73 [0/1000 (0%)]\tLoss: 0.919719\n",
            "====> Epoch: 73 Average loss: 0.8619\n",
            "Train Epoch: 74 [0/1000 (0%)]\tLoss: 0.926714\n",
            "====> Epoch: 74 Average loss: 0.8639\n",
            "Train Epoch: 75 [0/1000 (0%)]\tLoss: 0.927204\n",
            "====> Epoch: 75 Average loss: 0.8579\n",
            "Train Epoch: 76 [0/1000 (0%)]\tLoss: 0.948456\n",
            "====> Epoch: 76 Average loss: 0.8520\n",
            "Train Epoch: 77 [0/1000 (0%)]\tLoss: 0.930874\n",
            "====> Epoch: 77 Average loss: 0.8513\n",
            "Train Epoch: 78 [0/1000 (0%)]\tLoss: 0.897671\n",
            "====> Epoch: 78 Average loss: 0.8499\n",
            "Train Epoch: 79 [0/1000 (0%)]\tLoss: 0.939580\n",
            "====> Epoch: 79 Average loss: 0.8500\n",
            "Train Epoch: 80 [0/1000 (0%)]\tLoss: 0.918946\n",
            "====> Epoch: 80 Average loss: 0.8469\n",
            "Train Epoch: 81 [0/1000 (0%)]\tLoss: 0.968607\n",
            "====> Epoch: 81 Average loss: 0.8416\n",
            "Train Epoch: 82 [0/1000 (0%)]\tLoss: 0.913177\n",
            "====> Epoch: 82 Average loss: 0.8417\n",
            "Train Epoch: 83 [0/1000 (0%)]\tLoss: 0.934867\n",
            "====> Epoch: 83 Average loss: 0.8412\n",
            "Train Epoch: 84 [0/1000 (0%)]\tLoss: 0.912841\n",
            "====> Epoch: 84 Average loss: 0.8366\n",
            "Train Epoch: 85 [0/1000 (0%)]\tLoss: 0.906419\n",
            "====> Epoch: 85 Average loss: 0.8332\n",
            "Train Epoch: 86 [0/1000 (0%)]\tLoss: 0.960150\n",
            "====> Epoch: 86 Average loss: 0.8305\n",
            "Train Epoch: 87 [0/1000 (0%)]\tLoss: 0.964760\n",
            "====> Epoch: 87 Average loss: 0.8333\n",
            "Train Epoch: 88 [0/1000 (0%)]\tLoss: 0.929418\n",
            "====> Epoch: 88 Average loss: 0.8291\n",
            "Train Epoch: 89 [0/1000 (0%)]\tLoss: 0.917415\n",
            "====> Epoch: 89 Average loss: 0.8255\n",
            "Train Epoch: 90 [0/1000 (0%)]\tLoss: 0.940453\n",
            "====> Epoch: 90 Average loss: 0.8272\n",
            "Train Epoch: 91 [0/1000 (0%)]\tLoss: 0.927549\n",
            "====> Epoch: 91 Average loss: 0.8166\n",
            "Train Epoch: 92 [0/1000 (0%)]\tLoss: 0.907444\n",
            "====> Epoch: 92 Average loss: 0.8168\n",
            "Train Epoch: 93 [0/1000 (0%)]\tLoss: 0.943793\n",
            "====> Epoch: 93 Average loss: 0.8201\n",
            "Train Epoch: 94 [0/1000 (0%)]\tLoss: 0.903860\n",
            "====> Epoch: 94 Average loss: 0.8204\n",
            "Train Epoch: 95 [0/1000 (0%)]\tLoss: 0.890701\n",
            "====> Epoch: 95 Average loss: 0.8203\n",
            "Train Epoch: 96 [0/1000 (0%)]\tLoss: 0.913372\n",
            "====> Epoch: 96 Average loss: 0.8173\n",
            "Train Epoch: 97 [0/1000 (0%)]\tLoss: 0.900075\n",
            "====> Epoch: 97 Average loss: 0.8083\n",
            "Train Epoch: 98 [0/1000 (0%)]\tLoss: 0.899967\n",
            "====> Epoch: 98 Average loss: 0.8071\n",
            "Train Epoch: 99 [0/1000 (0%)]\tLoss: 0.899340\n",
            "====> Epoch: 99 Average loss: 0.8080\n",
            "Train Epoch: 100 [0/1000 (0%)]\tLoss: 0.901019\n",
            "====> Epoch: 100 Average loss: 0.8047\n",
            "Train Epoch: 101 [0/1000 (0%)]\tLoss: 0.918901\n",
            "====> Epoch: 101 Average loss: 0.8027\n",
            "Train Epoch: 102 [0/1000 (0%)]\tLoss: 0.918929\n",
            "====> Epoch: 102 Average loss: 0.7985\n",
            "Train Epoch: 103 [0/1000 (0%)]\tLoss: 0.878328\n",
            "====> Epoch: 103 Average loss: 0.8000\n",
            "Train Epoch: 104 [0/1000 (0%)]\tLoss: 0.891160\n",
            "====> Epoch: 104 Average loss: 0.7989\n",
            "Train Epoch: 105 [0/1000 (0%)]\tLoss: 0.860056\n",
            "====> Epoch: 105 Average loss: 0.7953\n",
            "Train Epoch: 106 [0/1000 (0%)]\tLoss: 0.925813\n",
            "====> Epoch: 106 Average loss: 0.7969\n",
            "Train Epoch: 107 [0/1000 (0%)]\tLoss: 0.861176\n",
            "====> Epoch: 107 Average loss: 0.7949\n",
            "Train Epoch: 108 [0/1000 (0%)]\tLoss: 0.879973\n",
            "====> Epoch: 108 Average loss: 0.7903\n",
            "Train Epoch: 109 [0/1000 (0%)]\tLoss: 0.886546\n",
            "====> Epoch: 109 Average loss: 0.7885\n",
            "Train Epoch: 110 [0/1000 (0%)]\tLoss: 0.844674\n",
            "====> Epoch: 110 Average loss: 0.7861\n",
            "Train Epoch: 111 [0/1000 (0%)]\tLoss: 0.862741\n",
            "====> Epoch: 111 Average loss: 0.7843\n",
            "Train Epoch: 112 [0/1000 (0%)]\tLoss: 0.875298\n",
            "====> Epoch: 112 Average loss: 0.7851\n",
            "Train Epoch: 113 [0/1000 (0%)]\tLoss: 0.865571\n",
            "====> Epoch: 113 Average loss: 0.7805\n",
            "Train Epoch: 114 [0/1000 (0%)]\tLoss: 0.871430\n",
            "====> Epoch: 114 Average loss: 0.7784\n",
            "Train Epoch: 115 [0/1000 (0%)]\tLoss: 0.902701\n",
            "====> Epoch: 115 Average loss: 0.7794\n",
            "Train Epoch: 116 [0/1000 (0%)]\tLoss: 0.865406\n",
            "====> Epoch: 116 Average loss: 0.7780\n",
            "Train Epoch: 117 [0/1000 (0%)]\tLoss: 0.881630\n",
            "====> Epoch: 117 Average loss: 0.7756\n",
            "Train Epoch: 118 [0/1000 (0%)]\tLoss: 0.887461\n",
            "====> Epoch: 118 Average loss: 0.7717\n",
            "Train Epoch: 119 [0/1000 (0%)]\tLoss: 0.845524\n",
            "====> Epoch: 119 Average loss: 0.7718\n",
            "Train Epoch: 120 [0/1000 (0%)]\tLoss: 0.859264\n",
            "====> Epoch: 120 Average loss: 0.7737\n",
            "Train Epoch: 121 [0/1000 (0%)]\tLoss: 0.874654\n",
            "====> Epoch: 121 Average loss: 0.7700\n",
            "Train Epoch: 122 [0/1000 (0%)]\tLoss: 0.826647\n",
            "====> Epoch: 122 Average loss: 0.7665\n",
            "Train Epoch: 123 [0/1000 (0%)]\tLoss: 0.849545\n",
            "====> Epoch: 123 Average loss: 0.7674\n",
            "Train Epoch: 124 [0/1000 (0%)]\tLoss: 0.813942\n",
            "====> Epoch: 124 Average loss: 0.7651\n",
            "Train Epoch: 125 [0/1000 (0%)]\tLoss: 0.874233\n",
            "====> Epoch: 125 Average loss: 0.7655\n",
            "Train Epoch: 126 [0/1000 (0%)]\tLoss: 0.846594\n",
            "====> Epoch: 126 Average loss: 0.7601\n",
            "Train Epoch: 127 [0/1000 (0%)]\tLoss: 0.834272\n",
            "====> Epoch: 127 Average loss: 0.7606\n",
            "Train Epoch: 128 [0/1000 (0%)]\tLoss: 0.830947\n",
            "====> Epoch: 128 Average loss: 0.7603\n",
            "Train Epoch: 129 [0/1000 (0%)]\tLoss: 0.839341\n",
            "====> Epoch: 129 Average loss: 0.7561\n",
            "Train Epoch: 130 [0/1000 (0%)]\tLoss: 0.820627\n",
            "====> Epoch: 130 Average loss: 0.7583\n",
            "Train Epoch: 131 [0/1000 (0%)]\tLoss: 0.826713\n",
            "====> Epoch: 131 Average loss: 0.7530\n",
            "Train Epoch: 132 [0/1000 (0%)]\tLoss: 0.839368\n",
            "====> Epoch: 132 Average loss: 0.7546\n",
            "Train Epoch: 133 [0/1000 (0%)]\tLoss: 0.812577\n",
            "====> Epoch: 133 Average loss: 0.7505\n",
            "Train Epoch: 134 [0/1000 (0%)]\tLoss: 0.833189\n",
            "====> Epoch: 134 Average loss: 0.7474\n",
            "Train Epoch: 135 [0/1000 (0%)]\tLoss: 0.852117\n",
            "====> Epoch: 135 Average loss: 0.7473\n",
            "Train Epoch: 136 [0/1000 (0%)]\tLoss: 0.829689\n",
            "====> Epoch: 136 Average loss: 0.7434\n",
            "Train Epoch: 137 [0/1000 (0%)]\tLoss: 0.850093\n",
            "====> Epoch: 137 Average loss: 0.7452\n",
            "Train Epoch: 138 [0/1000 (0%)]\tLoss: 0.864572\n",
            "====> Epoch: 138 Average loss: 0.7445\n",
            "Train Epoch: 139 [0/1000 (0%)]\tLoss: 0.835690\n",
            "====> Epoch: 139 Average loss: 0.7431\n",
            "Train Epoch: 140 [0/1000 (0%)]\tLoss: 0.819514\n",
            "====> Epoch: 140 Average loss: 0.7426\n",
            "Train Epoch: 141 [0/1000 (0%)]\tLoss: 0.856446\n",
            "====> Epoch: 141 Average loss: 0.7429\n",
            "Train Epoch: 142 [0/1000 (0%)]\tLoss: 0.802167\n",
            "====> Epoch: 142 Average loss: 0.7376\n",
            "Train Epoch: 143 [0/1000 (0%)]\tLoss: 0.843671\n",
            "====> Epoch: 143 Average loss: 0.7383\n",
            "Train Epoch: 144 [0/1000 (0%)]\tLoss: 0.819802\n",
            "====> Epoch: 144 Average loss: 0.7320\n",
            "Train Epoch: 145 [0/1000 (0%)]\tLoss: 0.770349\n",
            "====> Epoch: 145 Average loss: 0.7333\n",
            "Train Epoch: 146 [0/1000 (0%)]\tLoss: 0.839732\n",
            "====> Epoch: 146 Average loss: 0.7371\n",
            "Train Epoch: 147 [0/1000 (0%)]\tLoss: 0.829754\n",
            "====> Epoch: 147 Average loss: 0.7337\n",
            "Train Epoch: 148 [0/1000 (0%)]\tLoss: 0.778878\n",
            "====> Epoch: 148 Average loss: 0.7304\n",
            "Train Epoch: 149 [0/1000 (0%)]\tLoss: 0.824381\n",
            "====> Epoch: 149 Average loss: 0.7304\n"
          ]
        }
      ],
      "source": [
        "# now train the model\n",
        "for epoch in range(0, n_epochs):\n",
        "  train_vae(vae_model,mnist_train_loader,epoch)"
      ]
    },
    {
      "attachments": {},
      "cell_type": "markdown",
      "metadata": {
        "id": "uTfRje_AkKDr"
      },
      "source": [
        "Now, generate some images with the VAE model"
      ]
    },
    {
      "cell_type": "code",
      "execution_count": null,
      "metadata": {
        "id": "41tXdNsFkKk5"
      },
      "outputs": [],
      "source": [
        "def generate_images_vae(vae_model,n_images = 5):\n",
        "\n",
        "  epsilon = torch.randn(n_images, vae_model.z_dim) # FILL IN CODE HERE\n",
        "  imgs_generated = vae_model.decoder(epsilon) # FILL IN CODE HERE\n",
        "  return(imgs_generated)"
      ]
    },
    {
      "cell_type": "code",
      "execution_count": 327,
      "metadata": {},
      "outputs": [
        {
          "data": {
            "image/png": "[encoded data removed]",
            "text/plain": [
              "<Figure size 640x480 with 5 Axes>"
            ]
          },
          "metadata": {},
          "output_type": "display_data"
        }
      ],
      "source": [
        "imgs_generated = generate_images_vae(vae_model,n_images=5)\n",
        "display_images(imgs_generated)"
      ]
    },
    {
      "attachments": {},
      "cell_type": "markdown",
      "metadata": {
        "id": "lGnvKoynzaFN"
      },
      "source": [
        "Do you think the results are better ? What difference can you see ? What advantage does the Variational Autoencoder have over the simple autoencoder model, even though the second autoencoder approach has a more complex probabilistic latent model (a full covariance matrix) ?"
      ]
    },
    {
      "attachments": {},
      "cell_type": "markdown",
      "metadata": {
        "id": "uuYn3_PBzjkI"
      },
      "source": [
        "__Answer__ The results are better. Compared to the AE outputs, the VAE outputs are more blurry, but the numbers created seems to be closer to the numbers in the dataset. Also, some outputs from VAE sometimes seems to be the mixture of two numbers, while there are outputs from AE that are not understandable.  "
      ]
    },
    {
      "attachments": {},
      "cell_type": "markdown",
      "metadata": {
        "id": "uXm-D9Ef9vYm"
      },
      "source": [
        "We will now compare the models quantitavely."
      ]
    },
    {
      "attachments": {},
      "cell_type": "markdown",
      "metadata": {
        "id": "04MddkzuE324"
      },
      "source": [
        "# 3 Evaluating and comparing the models\n",
        "\n",
        "We will evaluate the models, in the following manner:\n",
        "\n",
        "- we train a simple convolutional neural network classifier on mnist, to a good accuracy\n",
        "- we generate images with each model\n",
        "- we find the average of the highest probability of the images according to the classifier, for each model. If this value is high, it means that on average the classifier considers that the images look like a \n",
        "\n",
        "We will use the following convoluional architecture for the classifier:\n",
        "\n",
        "- conv2d, filter size  3×3 , 32 filters, stride=(1,1), padding=\"SAME\"\n",
        "- ReLU\n",
        "- conv2d, filter size  3×3 , 32 filters, stride=(1,1), padding=\"SAME\"\n",
        "- ReLU\n",
        "- MaxPool2D, stride=(2,2)\n",
        "- Flatten\n",
        "- Dense layer\n",
        "\n",
        "Now, define the model. To make things easier, use the ```torch.nn.Sequential``` API (there is no need for a Class in this simple case)."
      ]
    },
    {
      "cell_type": "code",
      "execution_count": 311,
      "metadata": {
        "id": "P87a-DkXFOCv"
      },
      "outputs": [],
      "source": [
        "learning_rate = 0.01\n",
        "n_epochs = 20\n",
        "batch_size = 64\n",
        "nb_classes = int(mnist_trainset.targets.max()+1)\n",
        "\n",
        "# number of convolutional filters to use\n",
        "nb_filters = 32\n",
        "# convolution kernel size\n",
        "kernel_size = (3, 3)\n",
        "# size of pooling area for max pooling\n",
        "pool_size = (2, 2)\n",
        "\n",
        "# --- Size of the successive layers\n",
        "n_h_0 = 1 #greyscale input images\n",
        "n_h_1 = nb_filters\n",
        "n_h_2 = nb_filters\n",
        "\n",
        "mnist_classification_model = torch.nn.Sequential(\n",
        "    nn.Conv2d(n_h_0, n_h_1, kernel_size=kernel_size, stride=(1, 1), padding=\"same\"),\n",
        "    nn.ReLU(),\n",
        "    nn.Conv2d(n_h_1, n_h_2, kernel_size=kernel_size, stride=(1, 1), padding=\"same\"),\n",
        "    nn.ReLU(),\n",
        "    nn.MaxPool2d(pool_size, stride=(2, 2)),\n",
        "    nn.Flatten(),\n",
        "    nn.Linear(14*14*n_h_2, nb_classes),\n",
        ") # FILL IN CODE HERE\n",
        "\n",
        "criterion = nn.CrossEntropyLoss() # FILL IN CODE HERE\n",
        "optimizer = torch.optim.Adam(mnist_classification_model.parameters(), lr=learning_rate)"
      ]
    },
    {
      "attachments": {},
      "cell_type": "markdown",
      "metadata": {
        "id": "_sUZONxw2bnt"
      },
      "source": [
        "Create a function to calculate accuracy, instead of loss"
      ]
    },
    {
      "cell_type": "code",
      "execution_count": 312,
      "metadata": {
        "id": "aOww0ydr2fT0"
      },
      "outputs": [],
      "source": [
        "def get_accuracy(x_pred,x_label):\n",
        "  acc = torch.sum(x_pred == x_label)/(x_pred.shape[0])\n",
        "  return acc"
      ]
    },
    {
      "attachments": {},
      "cell_type": "markdown",
      "metadata": {
        "id": "qw0vkZIqFcse"
      },
      "source": [
        "Now, train the model. You should be able to achieve an accuracy close to 1.00 within 20 epochs"
      ]
    },
    {
      "cell_type": "code",
      "execution_count": 313,
      "metadata": {
        "id": "0FA8YoX2FcHP"
      },
      "outputs": [
        {
          "name": "stdout",
          "output_type": "stream",
          "text": [
            "Epoch:0 Train Loss:0.0062 Accuracy:0.7578\n",
            "Epoch:1 Train Loss:0.0052 Accuracy:0.8359\n",
            "Epoch:2 Train Loss:0.0037 Accuracy:0.8516\n",
            "Epoch:3 Train Loss:0.0021 Accuracy:0.9141\n",
            "Epoch:4 Train Loss:0.0014 Accuracy:0.9375\n",
            "Epoch:5 Train Loss:0.0015 Accuracy:0.9453\n",
            "Epoch:6 Train Loss:0.0008 Accuracy:0.9531\n",
            "Epoch:7 Train Loss:0.0007 Accuracy:0.9609\n",
            "Epoch:8 Train Loss:0.0004 Accuracy:0.9922\n",
            "Epoch:9 Train Loss:0.0001 Accuracy:1.0000\n",
            "Epoch:10 Train Loss:0.0001 Accuracy:1.0000\n",
            "Epoch:11 Train Loss:0.0000 Accuracy:1.0000\n",
            "Epoch:12 Train Loss:0.0000 Accuracy:1.0000\n",
            "Epoch:13 Train Loss:0.0000 Accuracy:1.0000\n",
            "Epoch:14 Train Loss:0.0000 Accuracy:1.0000\n",
            "Epoch:15 Train Loss:0.0000 Accuracy:1.0000\n",
            "Epoch:16 Train Loss:0.0000 Accuracy:1.0000\n",
            "Epoch:17 Train Loss:0.0000 Accuracy:1.0000\n",
            "Epoch:18 Train Loss:0.0000 Accuracy:1.0000\n",
            "Epoch:19 Train Loss:0.0000 Accuracy:1.0000\n"
          ]
        }
      ],
      "source": [
        "train_losses=[]\n",
        "valid_losses=[]\n",
        "\n",
        "for epoch in range(0,n_epochs):\n",
        "  train_loss=0.0\n",
        "\n",
        "  for batch_idx, (imgs, labels) in enumerate(mnist_train_loader):\n",
        "\n",
        "    # set the gradients back to 0\n",
        "    optimizer.zero_grad()\n",
        "    predict=mnist_classification_model(imgs)\n",
        "    # apply loss function\n",
        "    loss=criterion(predict,labels)\n",
        "    acc = get_accuracy(torch.argmax(predict,dim=1),labels)\n",
        "    # backpropagation\n",
        "    loss.backward()\n",
        "    optimizer.step()\n",
        "    train_loss=loss.item()\n",
        "  print('Epoch:{} Train Loss:{:.4f} Accuracy:{:.4f}'.format(epoch,train_loss/imgs.shape[0],acc))"
      ]
    },
    {
      "attachments": {},
      "cell_type": "markdown",
      "metadata": {
        "id": "zFgN5LblFwTa"
      },
      "source": [
        "### Evaluate the average maximum prediction of the images generated by each generative model (higher is better)\n",
        "\n",
        "Now, we will evaluate the models. For each ones, produce a certain number of images, and put those images through the classification network. Then find the maximum class probability of each image, and average it over all the images. We will use this as a metric to evaluate each model.\n",
        "\n",
        "__CAREFUL__: the output of the network does __not__ include the Softmax layer, so you will have to carry it out, with:\n",
        "- ```torch.nn.Softmax()(...)```\n",
        "\n",
        "Define this metric now:"
      ]
    },
    {
      "cell_type": "code",
      "execution_count": 318,
      "metadata": {
        "id": "lCJ_0qqjOXHT"
      },
      "outputs": [],
      "source": [
        "def generative_model_score(imgs_in,classification_model):\n",
        "  # calculate the class probability for each image\n",
        "  softmax_values = F.softmax(classification_model(imgs_in), dim=1)\n",
        "  # take the maximum class probability for each image\n",
        "  maximum_class_prob = torch.max(softmax_values, dim=1).values \n",
        "  # calculate the generative score as the mean of the maximum class probabilities\n",
        "  gen_score = torch.mean(maximum_class_prob)\n",
        "  return(gen_score)"
      ]
    },
    {
      "attachments": {},
      "cell_type": "markdown",
      "metadata": {
        "id": "yGq7YFg51UoP"
      },
      "source": [
        "Now, generate some images with each of the three models, and evaluate these models:"
      ]
    },
    {
      "cell_type": "code",
      "execution_count": 325,
      "metadata": {},
      "outputs": [
        {
          "name": "stdout",
          "output_type": "stream",
          "text": [
            "Diagonal gaussian generative model score :  0.8103694319725037\n",
            "Non diagonal gaussian generative model score :  0.9129528999328613\n",
            "Variational autoencoder model score:  0.9188739061355591\n"
          ]
        }
      ],
      "source": [
        "imgs_diagonal_gaussian = generate_images_diagonal_gaussian(ae_model,z_average,z_sigma,n_images = 50)\n",
        "imgs_non_diagonal_gaussian = generate_images_non_diagonal_gaussian(ae_model,z_average,z_covariance,n_images = 50)\n",
        "imgs_vae = generate_images_vae(vae_model,n_images=50)\n",
        "\n",
        "# average of maximum of first model \n",
        "diagonal_gaussian_score = float(generative_model_score(imgs_diagonal_gaussian,mnist_classification_model))\n",
        "non_diagonal_gaussian_score = float(generative_model_score(imgs_non_diagonal_gaussian,mnist_classification_model))\n",
        "vae_gaussian_score = float(generative_model_score(imgs_vae,mnist_classification_model))\n",
        "\n",
        "print(\"Diagonal gaussian generative model score : \",diagonal_gaussian_score)\n",
        "print(\"Non diagonal gaussian generative model score : \",non_diagonal_gaussian_score)\n",
        "print(\"Variational autoencoder model score: \",vae_gaussian_score) "
      ]
    },
    {
      "attachments": {},
      "cell_type": "markdown",
      "metadata": {
        "id": "sxvsG8FC1gNS"
      },
      "source": [
        "Please answer the following questions:\n",
        "\n",
        "- Which model is better quantitatively ? \n",
        "    - The variational autoencoder model.\n",
        "- Do the quantitative result support the qualitative results ?\n",
        "    - The quantitative the difference between the non diagonal gaussian generative model is lower in comparison to the qualitative difference.\n",
        "- Can you see any drawbacks of this method of evaluation ?\n",
        "    - This metric is vulnerable to overconfident predictions by the classification model. If the classification model assigns high probabilities to certain classes, even if the generated images are not very realistic, the metric could be biased and overestimate the performance of the generative model. In addition, the generative model may only produce a limited set of highly recognizable images, while failing to generate other types of images that are present in the real data, which is not captured by this method of evaluation.\n",
        "- Can you propose any more sophisticated models than the multivariate Gaussian approach (apart from the variational autoencoder) ?\n",
        "    - GAN (Generative Adversarial Networks) is one example of more sophisticated models that can be used for image generation. It consist of a generator network that learns to produce synthetic images that are similar to real images, and a discriminator network that tries to distinguish between real and fake images. The two networks are trained together in an adversarial manner, where the generator tries to produce more realistic images to fool the discriminator, while the discriminator tries to correctly identify the real images."
      ]
    }
  ],
  "metadata": {
    "accelerator": "GPU",
    "colab": {
      "provenance": []
    },
    "kernelspec": {
      "display_name": "ima",
      "language": "python",
      "name": "ima"
    },
    "language_info": {
      "codemirror_mode": {
        "name": "ipython",
        "version": 3
      },
      "file_extension": ".py",
      "mimetype": "text/x-python",
      "name": "python",
      "nbconvert_exporter": "python",
      "pygments_lexer": "ipython3",
      "version": "3.9.7"
    }
  },
  "nbformat": 4,
  "nbformat_minor": 0
}
