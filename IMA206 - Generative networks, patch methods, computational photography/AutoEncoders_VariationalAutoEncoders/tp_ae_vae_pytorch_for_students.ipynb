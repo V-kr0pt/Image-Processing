{
  "nbformat": 4,
  "nbformat_minor": 0,
  "metadata": {
    "colab": {
      "provenance": []
    },
    "kernelspec": {
      "name": "python3",
      "display_name": "Python 3"
    },
    "language_info": {
      "name": "python"
    },
    "accelerator": "GPU"
  },
  "cells": [
    {
      "cell_type": "markdown",
      "metadata": {
        "id": "TdpPHz2Lp6VD"
      },
      "source": [
        "# TP Coding autoencoders and variational autoencoders in Pytorch\n",
        "\n",
        "\n",
        "Author : Alasdair Newson\n",
        "\n",
        "alasdair.newson@telecom-paris.fr\n",
        "\n",
        "## Objective:\n",
        "\n",
        "The goal of this TP is to explore autoencoders and variational autoencoders applied to a simple dataset. In this first part, we will look at an autoencoder applied to MNIST. We recall that an autoencoder is a neural network with the following general architecture:\n",
        "\n",
        "\n",
        "![AUTOENCODER](https://perso.telecom-paristech.fr/anewson/doc/images/autoencoder_illustration_2.png)\n",
        "\n",
        "The tensor $z$ in the middle of the network is called a __latent code__, and it belongs to the latent space. It is this latent space which is interesting in autoencoders (for image synthesis, editing, etc).\n",
        "\n",
        "### Your task:\n",
        "You need to add the missing parts in the code (parts between # --- START CODE HERE and # --- END CODE HERE or # FILL IN CODE)\n",
        "\n",
        "\n",
        "First of all, let's load some packages"
      ]
    },
    {
      "cell_type": "code",
      "metadata": {
        "id": "JqNeIJ8Op8Ao"
      },
      "source": [
        "import torch\n",
        "import torch.nn as nn\n",
        "import torch.nn.functional as F\n",
        "import torch.optim as optim\n",
        "from torchvision import datasets, transforms\n",
        "from torch.autograd import Variable\n",
        "from torchvision.utils import save_image\n",
        "\n",
        "import pdb\n",
        "import numpy as np\n",
        "import matplotlib.pyplot as plt\n",
        "\n",
        "def pytorch_to_numpy(x):\n",
        "  return x.detach().numpy()"
      ],
      "execution_count": null,
      "outputs": []
    },
    {
      "cell_type": "markdown",
      "metadata": {
        "id": "Hyj5dj_eui9D"
      },
      "source": [
        "First, we load the mnist dataset."
      ]
    },
    {
      "cell_type": "code",
      "metadata": {
        "id": "4YPLKlPrufSk"
      },
      "source": [
        "\n",
        "batch_size = 128\n",
        "\n",
        "# MNIST Dataset\n",
        "mnist_trainset = datasets.MNIST(root='./mnist_data/', train=True, transform=transforms.ToTensor(), download=True)\n",
        "mnist_testset = datasets.MNIST(root='./mnist_data/', train=False, transform=transforms.ToTensor(), download=False)\n",
        "\n",
        "#create data loader with smaller dataset size\n",
        "max_mnist_size = 1000\n",
        "mnist_trainset_reduced = torch.utils.data.random_split(mnist_trainset, [max_mnist_size, len(mnist_trainset)-max_mnist_size])[0] \n",
        "mnist_train_loader = torch.utils.data.DataLoader(mnist_trainset_reduced, batch_size=batch_size, shuffle=True,drop_last=True)\n",
        "\n",
        "# download test dataset\n",
        "max_mnist_size = 512\n",
        "mnist_testset_reduced = torch.utils.data.random_split(mnist_testset, [max_mnist_size, len(mnist_testset)-max_mnist_size])[0] \n",
        "mnist_test_loader = torch.utils.data.DataLoader(mnist_testset_reduced, batch_size=batch_size, shuffle=True,drop_last=True)\n"
      ],
      "execution_count": null,
      "outputs": []
    },
    {
      "cell_type": "code",
      "source": [
        "mnist_trainset_reduced.dataset.train_data.shape"
      ],
      "metadata": {
        "id": "r7YhlBT2PN9I"
      },
      "execution_count": null,
      "outputs": []
    },
    {
      "cell_type": "markdown",
      "metadata": {
        "id": "t-bkK4ktwfvC"
      },
      "source": [
        "# 1 Vanilla Autoencoder\n",
        "\n",
        "Now, we define the general parameters of the autoencoder"
      ]
    },
    {
      "cell_type": "code",
      "metadata": {
        "id": "mD56EDzbvUxq"
      },
      "source": [
        "# autoencoder parameters\n",
        "n_rows = mnist_trainset_reduced.dataset.train_data.shape[1]\n",
        "n_cols = mnist_trainset_reduced.dataset.train_data.shape[2]\n",
        "n_channels = 1\n",
        "n_pixels = n_rows*n_cols\n",
        "\n",
        "img_shape = (n_rows, n_cols, n_channels)\n",
        "n_epochs = 150"
      ],
      "execution_count": null,
      "outputs": []
    },
    {
      "cell_type": "markdown",
      "metadata": {
        "id": "6jLa2-jQwxSI"
      },
      "source": [
        "Now, define the autoencoder architecture. In the first part, we will use the following MLP architecture :\n",
        "\n",
        "Encoder :\n",
        "- Flatten input\n",
        "- Dense layer, output size h_dim_1 + ReLU\n",
        "- Dense layer, output size h_dim_2 + ReLU\n",
        "- Dense layer, output size z_dim (no non-linearity)\n",
        "\n",
        "Decoder :\n",
        "- Dense layer, output size h_dim_2 + ReLU\n",
        "- Dense layer, output size h_dim_1 + ReLU\n",
        "- Dense layer, output size x_dim + Sigmoid Activation\n",
        "- Reshape, to size $28\\times 28\\times 1$\n",
        "\n",
        "For the Reshape operation, use the ```A.view(dim_1,dim_2,...)``` function, where ```A``` is your tensor."
      ]
    },
    {
      "cell_type": "code",
      "source": [
        "class AE(torch.nn.Module ):\n",
        "  def __init__(self, x_dim, h_dim1, h_dim2, z_dim,n_rows,n_cols,n_channels):\n",
        "    super(AE, self).__init__()\n",
        "\n",
        "    self.n_rows = n_rows\n",
        "    self.n_cols = n_cols\n",
        "    self.n_channels = n_channels\n",
        "    self.n_pixels = (self.n_rows)*(self.n_cols)\n",
        "    self.z_dim = z_dim\n",
        "\n",
        "    # encoder part\n",
        "    self.fc1 = ... # FILL IN CODE HERE\n",
        "    self.fc2 = ... # FILL IN CODE HERE\n",
        "    self.fc3 = ... # FILL IN CODE HERE\n",
        "    # decoder part\n",
        "    self.fc4 = ... # FILL IN CODE HERE\n",
        "    self.fc5 = ... # FILL IN CODE HERE\n",
        "    self.fc6 = ... # FILL IN CODE HERE\n",
        "\n",
        "  def encoder(self, x):\n",
        "    h = ... # FILL IN CODE HERE\n",
        "    h = ... # FILL IN CODE HERE\n",
        "    return ... # FILL IN CODE HERE\n",
        "  def decoder(self, z):\n",
        "    h = ... # FILL IN CODE HERE\n",
        "    h = ... # FILL IN CODE HERE\n",
        "    return ... # FILL IN CODE HERE\n",
        "  def forward(self, x):\n",
        "    y = ... # FILL IN CODE HERE\n",
        "    return(y)\n",
        "  def loss_function(self,x, y):\n",
        "    bce_loss = ... # FILL IN CODE HERE\n",
        "    return torch.mean(bce_loss)"
      ],
      "metadata": {
        "id": "tEuZfnUlXxMl"
      },
      "execution_count": null,
      "outputs": []
    },
    {
      "cell_type": "code",
      "source": [
        "# create model\n",
        "ae_dim_1 = 512\n",
        "ae_dim_2 = 256\n",
        "z_dim = 10\n",
        "ae_model = AE(x_dim=n_pixels, h_dim1= ae_dim_1, h_dim2=ae_dim_2, z_dim=z_dim,n_rows=n_rows,n_cols=n_cols,n_channels=n_channels)\n",
        "ae_optimizer = optim.Adam(ae_model.parameters())"
      ],
      "metadata": {
        "id": "oV40vRMQRoG1"
      },
      "execution_count": null,
      "outputs": []
    },
    {
      "cell_type": "markdown",
      "metadata": {
        "id": "-659aM36xvXX"
      },
      "source": [
        "Now, define a generic function to train the model for one epoch"
      ]
    },
    {
      "cell_type": "code",
      "metadata": {
        "id": "wfqX6Brlxjyi"
      },
      "source": [
        "def train_ae(ae_model,data_train_loader,epoch):\n",
        "\ttrain_loss = 0\n",
        "\tfor batch_idx, (data, _) in enumerate(data_train_loader):\n",
        "\t\tae_optimizer.zero_grad()\n",
        "\t\t\n",
        "\t\ty = ... # FILL IN CODE HERE\n",
        "\t\tloss_ae = ... # FILL IN CODE HERE\n",
        "  \n",
        "\t\tloss_ae.backward()\n",
        "\t\ttrain_loss += loss_ae.item()\n",
        "\t\tae_optimizer.step()\n",
        "\t\t\n",
        "\t\tif batch_idx % 100 == 0:\n",
        "\t\t\tprint('Train Epoch: {} [{}/{} ({:.0f}%)]\\tLoss: {:.6f}'.format(\n",
        "\t\t\t\tepoch, batch_idx * len(data), len(data_train_loader.dataset),\n",
        "\t\t\t\t100. * batch_idx / len(data_train_loader), loss_ae.item() / len(data)))\n",
        "\tprint('====> Epoch: {} Average loss: {:.4f}'.format(epoch, train_loss / len(data_train_loader.dataset)))\n"
      ],
      "execution_count": null,
      "outputs": []
    },
    {
      "cell_type": "markdown",
      "metadata": {
        "id": "w3EbmswSzJdK"
      },
      "source": [
        "We define a function to carry out testing on the autoencoder model"
      ]
    },
    {
      "cell_type": "code",
      "source": [
        "for epoch in range(0, n_epochs):\n",
        "  train_ae(ae_model,mnist_train_loader,epoch)"
      ],
      "metadata": {
        "id": "11q_0PSibZk-"
      },
      "execution_count": null,
      "outputs": []
    },
    {
      "cell_type": "code",
      "metadata": {
        "id": "T8jXjdRyzMy2"
      },
      "source": [
        "def display_images(imgs):\n",
        "  \n",
        "  r = 1\n",
        "  c = imgs.shape[0]\n",
        "  fig, axs = plt.subplots(r, c)\n",
        "  for j in range(c):\n",
        "    #black and white images\n",
        "    axs[j].imshow(pytorch_to_numpy(imgs[j, 0,:,:]), cmap='gray')\n",
        "    axs[j].axis('off')\n",
        "  plt.show()\n",
        "\n",
        "def display_ae_images(ae_model, test_imgs):\n",
        "  n_images = 5\n",
        "  idx = np.random.randint(0, test_imgs.shape[0], n_images)\n",
        "  test_imgs = test_imgs[idx,:,:,:]\n",
        "  print(test_imgs.shape)\n",
        "\n",
        "  #get output images\n",
        "  output_imgs = pytorch_to_numpy(ae_model.forward( test_imgs ))\n",
        "  print(output_imgs.shape)\n",
        "  \n",
        "  r = 2\n",
        "  c = n_images\n",
        "  fig, axs = plt.subplots(r, c)\n",
        "  for j in range(c):\n",
        "    #black and white images\n",
        "    axs[0,j].imshow(test_imgs[j, 0,:,:], cmap='gray')\n",
        "    axs[0,j].axis('off')\n",
        "    axs[1,j].imshow(output_imgs[j, 0,:,:], cmap='gray')\n",
        "    axs[1,j].axis('off')\n",
        "  plt.show()"
      ],
      "execution_count": null,
      "outputs": []
    },
    {
      "cell_type": "code",
      "source": [
        "test_imgs = next(iter(mnist_train_loader))[0]\n",
        "display_ae_images(ae_model, test_imgs)"
      ],
      "metadata": {
        "id": "9pbXch29d68D"
      },
      "execution_count": null,
      "outputs": []
    },
    {
      "cell_type": "markdown",
      "source": [
        "__Question__ Are you satisfied with the results, do they look good ?"
      ],
      "metadata": {
        "id": "assPaJqB5sa-"
      }
    },
    {
      "cell_type": "markdown",
      "source": [
        "__Answer__"
      ],
      "metadata": {
        "id": "Q7uoWa4O5x8R"
      }
    },
    {
      "cell_type": "markdown",
      "metadata": {
        "id": "zO9ATQEiyr3b"
      },
      "source": [
        "## 2/ Two simple generative models\n",
        "\n",
        "In this section, we consider two naïve approaches to creating generative models. The general idea is the following:\n",
        "\n",
        "- train an autoencoder\n",
        "- estimate different statistics (average, variance) of the data in the latent space\n",
        "- using these statistics, define a model based on a Gaussian distribution\n",
        "- generate data with this distribution\n",
        "\n",
        "We will consider these two situations :\n",
        "\n",
        "- a multivariate Gaussian distribution with __diagonal covariance matrix__ (each latent component is an independent random variable). This requires the average and variance in each latent component\n",
        "- a multivariate Gaussian distribution with __non-diagonal covariance matrix__. This requires the average and covariance matrix of the latent components\n",
        "\n",
        "Obviously, since this is done _a posteriori_ after training the autoencoder, there is nothing which guarantees that the latent codes do indeed follow a Gaussian distribution. Our goal will be to verify that Variational Autoencoders indeed produce better results than such naïve approaches."
      ]
    },
    {
      "cell_type": "markdown",
      "source": [
        "## 2.0 Defining and generating random Gaussian latent codes\n",
        "\n",
        "Let $z$ be a latent code and $d$ the dimension of the latent space (called ``z_dim`` in the code). We suppose that the $z$'s follow a multivariate Gaussian distribution, written as:\n",
        "\n",
        "\\begin{equation}\n",
        "z \\sim \\mathcal{N}\\left(\n",
        "\\mu,\n",
        "\\bf{C}\n",
        "\\right),\n",
        "\\end{equation}\n",
        "where $\\mu$ and $\\bf{C}$ are the average vector and covariance matrix of the Gaussian distribution. To define such a generative model, we must therefore determine $\\mu$ and $\\bf{C}$. Once this is done, we can generate a random Gaussian latent code in the following manner:\n",
        "\n",
        "\\begin{equation}\n",
        "z = \\mu + {\\bf{L}} \\varepsilon,\n",
        "\\end{equation}\n",
        "where $\\varepsilon$ is a random vector drawn from a multivariate normal distribution ($\\mu=0$ and ${\\bf{C}} = \\text{Id}$), and $\\bf{L}$ is the Cholesky decomposition of the positive semi-definite covariance matrix. In other words:\n",
        "\n",
        "\\begin{equation}\n",
        "{\\bf{C}} = {\\bf{L}}{\\bf{L}^T}.\n",
        "\\end{equation}\n",
        "\n",
        "This gives a simple method of producing a multivariate Gaussian random variable."
      ],
      "metadata": {
        "id": "x2M1-BRmf56d"
      }
    },
    {
      "cell_type": "markdown",
      "source": [
        "## 2.1/ A Gaussian model with diagonal covariance\n",
        "\n",
        "The first naïve model is  defined in this first case as:\n",
        "\n",
        "- $\\bf{\\mu}=\\left[\\mu_0, \\mu_1, \\cdots, \\mu_{d-1}\\right]^T$\n",
        "- $\n",
        "  \\bf{C} = \\begin{pmatrix}\n",
        "\\sigma_0^2 & 0 & \\cdots & 0 \\\\\n",
        "0 & \\sigma_1^2 & \\cdots & 0 \\\\\n",
        "\\vdots & \\ddots & \\ddots & \\vdots \\\\\n",
        "0 & 0 & \\cdots & \\sigma_{d-1}^2\n",
        "\\end{pmatrix}$\n",
        "\n",
        "In this situation, therefore, the matrix $\\bf{L}$ can be calculated quite simply, as:\n",
        "- $\n",
        "  \\bf{L} = \\begin{pmatrix}\n",
        "\\sigma_0 & 0 & \\cdots & 0 \\\\\n",
        "0 & \\sigma_1 & \\cdots & 0 \\\\\n",
        "\\vdots & \\ddots & \\ddots & \\vdots \\\\\n",
        "0 & 0 & \\cdots & \\sigma_{d-1}\n",
        "\\end{pmatrix}$\n",
        "\n",
        "In the next cell, calculate the empirical average and variances over a certain number of batches:"
      ],
      "metadata": {
        "id": "NWpucm972i7j"
      }
    },
    {
      "cell_type": "code",
      "metadata": {
        "id": "sUXHCtvW2iQ0"
      },
      "source": [
        "n_batches = np.floor( len(mnist_train_loader.dataset.indices)/batch_size ).astype(int)\n",
        "\n",
        "z_average = torch.zeros(n_batches,ae_model.z_dim)\n",
        "z_sigma = torch.zeros(n_batches,ae_model.z_dim)\n",
        "\n",
        "for batch_idx, (data, _) in enumerate(mnist_train_loader):\n",
        "  z = ae_model.encoder(data)\n",
        "  z_average[batch_idx,:] = ... # FILL IN CODE HERE\n",
        "  z_sigma[batch_idx,:] = ... # FILL IN CODE HERE\n",
        "\n",
        "z_average = ... # FILL IN CODE HERE\n",
        "z_sigma = ... # FILL IN CODE HERE\n",
        "\n",
        "print(\"Average of latent codes:\",z_average)\n",
        "print(\"Standard deviation of latent codes:\",z_sigma)"
      ],
      "execution_count": null,
      "outputs": []
    },
    {
      "cell_type": "markdown",
      "source": [
        "Now, in the next cell generate data with this simple generative model using the approach described above. Display these images with the ``display_images`` function. \n",
        "\n",
        "__NB__ You do not actually have to define the matrix $\\bf{L}$ in this case, an element-wise multiplication of two (properly chosen) vectors will suffice. To generate multivariate normal random variables you can use the following Pytorch function:\n",
        "\n",
        "- ```torch.randn```\n"
      ],
      "metadata": {
        "id": "Lrpc62ML9K4l"
      }
    },
    {
      "cell_type": "code",
      "source": [
        "def generate_images_diagonal_gaussian(ae_model,z_average,z_sigma,n_images = 5):\n",
        "\n",
        "  epsilon = ... # FILL IN CODE HERE\n",
        "  z_generated = ... # FILL IN CODE HERE\n",
        "  imgs_generated = ... # FILL IN CODE HERE\n",
        "  return(imgs_generated)\n",
        "\n",
        "imgs_generated = generate_images_diagonal_gaussian(ae_model,z_average,z_sigma,n_images=5)\n",
        "display_images(imgs_generated)"
      ],
      "metadata": {
        "id": "1_Tekii-9QEo"
      },
      "execution_count": null,
      "outputs": []
    },
    {
      "cell_type": "markdown",
      "source": [
        "As you should be able to see, these results are not that good. Let's try a slightly more sophisticated model."
      ],
      "metadata": {
        "id": "xiNaEgLIloeA"
      }
    },
    {
      "cell_type": "markdown",
      "source": [
        "## 2.1 Non-diagonal Gaussian model\n",
        "\n",
        "The second model uses a non-diagonal covariance matrix $\\bf{C}$ in the multivariate Gaussian distribution. In the next cell, calculate the average and covariance matrix over several batches of latent codes.\n",
        "\n",
        "__NB__ You can use the ```torch.cov``` function. Make sure to put the data in the right format for this (see documentation : https://pytorch.org/docs/stable/generated/torch.cov.html)."
      ],
      "metadata": {
        "id": "WjVPfkRKYMSh"
      }
    },
    {
      "cell_type": "code",
      "source": [
        "n_batches = np.floor( len(mnist_train_loader.dataset.indices)/batch_size ).astype(int)\n",
        "\n",
        "z_average = torch.zeros(n_batches,ae_model.z_dim)\n",
        "z_covariance = torch.zeros(n_batches,ae_model.z_dim,ae_model.z_dim)\n",
        "\n",
        "for batch_idx, (data, _) in enumerate(mnist_train_loader):\n",
        "  z = ae_model.encoder(data)\n",
        "  z_average[batch_idx,:] = ... # FILL IN CODE HERE\n",
        "  z_covariance[batch_idx,:,:] = ... # FILL IN CODE HERE\n",
        "\n",
        "z_average = ... # FILL IN CODE HERE\n",
        "z_covariance = ... # FILL IN CODE HERE\n",
        "\n",
        "print(\"Average of latent codes:\",z_average)\n",
        "print(\"Covariance matrix of latent codes:\",z_covariance)"
      ],
      "metadata": {
        "id": "ArXgre39CD2H"
      },
      "execution_count": null,
      "outputs": []
    },
    {
      "cell_type": "markdown",
      "source": [
        "Now, generate some samples with this distribution. In this case, you will actually have to calculate the Cholesky decomposition and find $\\bf{L}$. For this, you can use \n",
        "\n",
        "- ```torch.linalg.cholesky```\n",
        "\n",
        "In this model, you will need to carry out matrix multiplication over a batch of latent codes, which is a bit more complicated than the previous naïve model (which used element-wise vector multiplication). So you have two options:\n",
        "\n",
        "- copy the matrix $\\bf{L}$ several times and carry out batch matrix multiplication\n",
        "- simply loop and carry out normal matrix multiplication to produce each image (this has the disadvantage of not taking advantage of any parallelisation, but it should not matter too much).\n",
        "\n",
        "In the first case, you can use the following functions:\n",
        "\n",
        "- ```torch.bmm```\n",
        "- ```torch.tile```\n",
        "\n",
        "Fill in the function to generate images using this model now:"
      ],
      "metadata": {
        "id": "JhXU8cnTZ0E8"
      }
    },
    {
      "cell_type": "code",
      "source": [
        "def generate_images_non_diagonal_gaussian(ae_model,z_average,z_covariance,n_images = 5):\n",
        "\n",
        "  #calcualte Cholesky decomposition of covariance matrix : C = L L^T\n",
        "  # Make sure that the first dimension is the batch dimension (with batch size n_images)\n",
        "  # You can use the torch.unsqueeze function for this\n",
        "  L = ... # FILL IN CODE HERE\n",
        "\n",
        "  epsilon = ... # FILL IN CODE HERE\n",
        "  z_generated = ... # FILL IN CODE HERE\n",
        "  imgs_generated = ... # FILL IN CODE HERE\n",
        "  return(imgs_generated)\n",
        "\n",
        "\n",
        "imgs_generated = generate_images_non_diagonal_gaussian(ae_model,z_average,z_covariance,n_images = 5)\n",
        "display_images(imgs_generated)"
      ],
      "metadata": {
        "id": "zXGlJTZ7Z4ed"
      },
      "execution_count": null,
      "outputs": []
    },
    {
      "cell_type": "markdown",
      "source": [
        "You should see some improvement, but we can do better than this. Thus, we turn to the variational autoencoder."
      ],
      "metadata": {
        "id": "qLtsdri6zKEm"
      }
    },
    {
      "cell_type": "markdown",
      "source": [
        "# 3/ Variational autoencoder\n",
        "\n",
        "Now, we are going to create an variational autoencoder to carry out __image generation__. Let's first recall the idea of a variational autoencoder\n",
        "\n",
        "## Main idea\n",
        "\n",
        "The main idea is to create an autoencoder whose latent codes follow a certain distribution (a Gaussian distribution in practice). This is done with two tools : \n",
        "\n",
        "- A specific architecture, where the encoder produces the average and variance of the latent codes\n",
        "- A specially designed loss function\n",
        "\n",
        "Once the VAE is trained, it is possible to sample in the latent space by producing random normal variables and simply decoding.\n",
        "\n",
        "## Architecture\n",
        "\n",
        "The architecture of the VAE model is as follows:\n",
        "\n",
        "The encoder consists of:\n",
        "\n",
        "Encoder :\n",
        "- Flatten input\n",
        "- Dense layer $+$ ReLU\n",
        "- Dense layer $+$ ReLU\n",
        "- Dense layer (no non-linarity) to produce the average, Dense layer (no non-linarity) to produce the variance (these last two layers are in parallel)\n",
        "\n",
        "Decoder :\n",
        "- Dense layer $+$ ReLU\n",
        "- Dense layer $+$ ReLU\n",
        "- Dense layer $+$ Sigmoid Activation\n",
        "- Reshape, to size $28\\times 28\\times 1$\n",
        "\n",
        "\n",
        "## Variational Autoencoder loss\n",
        "\n",
        "Recall that for the VAE, the loss function is in fact a function to __maximise__. In fact, for implementation, you will see that it is easier to __minimise__ $-\\mathcal{L}$.\n",
        "\n",
        "In the case of an image which is represented by a set of __Bernoulli__ variables (which is relevant for mnist), the original loss function (to maximise) is written :\n",
        "\n",
        "\n",
        "\\begin{align}\n",
        "\\mathcal{L} &= \\log\\left(p_\\theta(x|z)\\right) - KL\\left( q_\\phi(z|x) \\; || \\; p_\\theta(z)\\right) \\\\\n",
        "    &= \\left(\\sum_{i} x_i \\log y_i + (1-x_i) \\log (1-y_i)\\right) - \\left(\\frac{1}{2} \\sum_j \\left( \\sigma_j^2 + \\mu_j^2 - \\log \\sigma_j^2 -1 \\right)\\right)\n",
        "\\end{align}\n",
        "\n",
        "\n",
        "where $i$ is summed over the image pixels, and $j$ is summed over the elements of the latent space. $\\sigma_j^2$ is the $j$th element of the latent space variance, and $\\mu_j$ is the $j$th element of the latent space mean.\n",
        "\n",
        "The left part of the loss (reconstruction error) can be implemented simply as the binary cross-entropy between the input x and the output y. Since we are __maximising__ $-$[binary cross-entropy] (look at the formula), this is equivalent to minimising the binary cross-entropy.\n",
        "\n",
        "For the right part of the equation (KL divergence), you need to implement it manually. \n",
        "\n",
        "The final loss is the average, over the batch size, of the sum of the reconstruction error (left part) and the KL divergence (right part). Be careful, in the formula, the sums over $i$ and $j$ are over the number of pixels and the number of latent elements, respectively. To achieve a sum rather than an average, you can use ```torch.nn.BCELoss(reduction='sum')()```, and the ```torch.sum()``` functions.\n",
        "\n",
        "As in the case of the normal autoencoder, you will need to flatten and then reshape the tensors at the beginning/end of the network."
      ],
      "metadata": {
        "id": "8UqeNhuSdnDt"
      }
    },
    {
      "cell_type": "code",
      "source": [
        "class VAE(torch.nn.Module ):\n",
        "  def __init__(self, x_dim, h_dim1, h_dim2, z_dim,n_rows,n_cols,n_channels):\n",
        "    super(VAE, self).__init__()\n",
        "\n",
        "    self.n_rows = n_rows\n",
        "    self.n_cols = n_cols\n",
        "    self.n_channels = n_channels\n",
        "    self.n_pixels = (self.n_rows)*(self.n_cols)\n",
        "    self.z_dim = z_dim\n",
        "\n",
        "    # encoder part\n",
        "    self.fc1 = ... # FILL IN CODE HERE\n",
        "    self.fc2 = ... # FILL IN CODE HERE\n",
        "    self.fc31 = ... # FILL IN CODE HERE\n",
        "    self.fc32 = ... # FILL IN CODE HERE\n",
        "    # decoder part\n",
        "    self.fc4 = ... # FILL IN CODE HERE\n",
        "    self.fc5 = ... # FILL IN CODE HERE\n",
        "    self.fc6 = ... # FILL IN CODE HERE\n",
        "\n",
        "  def encoder(self, x):\n",
        "    h = ... # FILL IN CODE HERE\n",
        "    h = ... # FILL IN CODE HERE\n",
        "    return ... # FILL IN CODE HERE # mu, log_var\n",
        "  def decoder(self, z):\n",
        "    h = ... # FILL IN CODE HERE\n",
        "    h = ... # FILL IN CODE HERE\n",
        "    return ... # FILL IN CODE HERE\n",
        "\n",
        "  def sampling(self, mu, log_var):\n",
        "    # this function samples a Gaussian distribution, with average (mu) and standard deviation specified (using log_var)\n",
        "    std = ... # FILL IN CODE HERE\n",
        "    eps = ... # FILL IN CODE HERE\n",
        "    return eps.mul(std).add_(mu) # return z sample\n",
        "\n",
        "  def forward(self, x):\n",
        "    z_mu, z_log_var = self.encoder(x)\n",
        "    z = self.sampling(z_mu, z_log_var)\n",
        "    return self.decoder(z),z_mu, z_log_var\n",
        "\n",
        "  def loss_function(self,x, y, mu, log_var):\n",
        "    reconstruction_error = ... # FILL IN CODE HERE\n",
        "   \n",
        "    KLD = ... # FILL IN CODE HERE\n",
        "\n",
        "\n",
        "    return ... # FILL IN CODE HERE"
      ],
      "metadata": {
        "id": "6siMHQLheM4T"
      },
      "execution_count": null,
      "outputs": []
    },
    {
      "cell_type": "markdown",
      "source": [
        "Now, create the model (similarly as above)"
      ],
      "metadata": {
        "id": "hk_9fDIphlsi"
      }
    },
    {
      "cell_type": "code",
      "source": [
        "# create model\n",
        "vae_dim_1 = ae_dim_1\n",
        "vae_dim_2 = ae_dim_2\n",
        "vae_model = VAE(x_dim=n_pixels, h_dim1= vae_dim_1, h_dim2=vae_dim_2, z_dim=z_dim,n_rows=n_rows,n_cols=n_cols,n_channels=n_channels)\n",
        "vae_optimizer = optim.Adam(vae_model.parameters())"
      ],
      "metadata": {
        "id": "pVlpC2R3htyU"
      },
      "execution_count": null,
      "outputs": []
    },
    {
      "cell_type": "markdown",
      "source": [
        "Finally, train the model. First modify the training function to the case of the vae."
      ],
      "metadata": {
        "id": "NYKLF_oMh5HO"
      }
    },
    {
      "cell_type": "code",
      "source": [
        "def train_vae(vae_model,data_train_loader,epoch):\n",
        "  train_loss = 0\n",
        "  for batch_idx, (data, _) in enumerate(data_train_loader):\n",
        "    vae_optimizer.zero_grad()\n",
        "\n",
        "    y, z_mu, z_log_var = ... # FILL IN CODE HERE\n",
        "    loss_vae = ... # FILL IN CODE HERE\n",
        "    loss_vae.backward()\n",
        "    train_loss += loss_vae.item()\n",
        "    vae_optimizer.step() \n",
        "\t\t\n",
        "    if batch_idx % 100 == 0:\n",
        "      print('Train Epoch: {} [{}/{} ({:.0f}%)]\\tLoss: {:.6f}'.format(\n",
        "      epoch, batch_idx * len(data), len(data_train_loader.dataset),\n",
        "      100. * batch_idx / len(data_train_loader), loss_vae.item() / len(data)))\n",
        "  print('====> Epoch: {} Average loss: {:.4f}'.format(epoch, train_loss / len(data_train_loader.dataset)))\n"
      ],
      "metadata": {
        "id": "z6DjKTWmmssb"
      },
      "execution_count": null,
      "outputs": []
    },
    {
      "cell_type": "code",
      "source": [
        "# now train the model\n",
        "for epoch in range(0, n_epochs):\n",
        "  train_vae(vae_model,mnist_train_loader,epoch)"
      ],
      "metadata": {
        "id": "L9JUUs6Kh8HB"
      },
      "execution_count": null,
      "outputs": []
    },
    {
      "cell_type": "markdown",
      "source": [
        "Now, generate some images with the VAE model"
      ],
      "metadata": {
        "id": "uTfRje_AkKDr"
      }
    },
    {
      "cell_type": "code",
      "source": [
        "def generate_images_vae(vae_model,n_images = 5):\n",
        "\n",
        "  epsilon = ... # FILL IN CODE HERE\n",
        "  imgs_generated = ... # FILL IN CODE HERE\n",
        "  return(imgs_generated)\n",
        "\n",
        "imgs_generated = generate_images_vae(vae_model,n_images=5)\n",
        "display_images(imgs_generated)"
      ],
      "metadata": {
        "id": "41tXdNsFkKk5"
      },
      "execution_count": null,
      "outputs": []
    },
    {
      "cell_type": "markdown",
      "source": [
        "Do you think the results are better ? What difference can you see ? What advantage does the Variational Autoencoder have over the simple autoencoder model, even though the second autoencoder approach has a more complex probabilistic latent model (a full covariance matrix) ?"
      ],
      "metadata": {
        "id": "lGnvKoynzaFN"
      }
    },
    {
      "cell_type": "markdown",
      "source": [
        "__Answer__"
      ],
      "metadata": {
        "id": "uuYn3_PBzjkI"
      }
    },
    {
      "cell_type": "markdown",
      "source": [
        "We will now compare the models quantitavely."
      ],
      "metadata": {
        "id": "uXm-D9Ef9vYm"
      }
    },
    {
      "cell_type": "markdown",
      "source": [
        "# 3 Evaluating and comparing the models\n",
        "\n",
        "We will evaluate the models, in the following manner:\n",
        "\n",
        "- we train a simple convolutional neural network classifier on mnist, to a good accuracy\n",
        "- we generate images with each model\n",
        "- we find the average of the highest probability of the images according to the classifier, for each model. If this value is high, it means that on average the classifier considers that the images look like a \n",
        "\n",
        "We will use the following convoluional architecture for the classifier:\n",
        "\n",
        "- conv2d, filter size  3×3 , 32 filters, stride=(2,2), padding=\"SAME\"\n",
        "- ReLU\n",
        "- conv2d, filter size  3×3 , 32 filters, stride=(2,2), padding=\"SAME\"\n",
        "- ReLU\n",
        "- MaxPool2D, stride=(2,2)\n",
        "- Flatten\n",
        "- Dense layer\n",
        "\n",
        "Now, define the model. To make things easier, use the ```torch.nn.Sequential``` API (there is no need for a Class in this simple case)."
      ],
      "metadata": {
        "id": "04MddkzuE324"
      }
    },
    {
      "cell_type": "code",
      "source": [
        "learning_rate = 0.01\n",
        "n_epochs = 20\n",
        "batch_size = 64\n",
        "nb_classes = int(mnist_trainset.targets.max()+1)\n",
        "\n",
        "# number of convolutional filters to use\n",
        "nb_filters = 32\n",
        "# convolution kernel size\n",
        "kernel_size = (3, 3)\n",
        "# size of pooling area for max pooling\n",
        "pool_size = (2, 2)\n",
        "\n",
        "# --- Size of the successive layers\n",
        "n_h_0 = 1 #greyscale input images\n",
        "n_h_1 = nb_filters\n",
        "n_h_2 = nb_filters\n",
        "\n",
        "mnist_classification_model = ... # FILL IN CODE HERE\n",
        "\n",
        "criterion = ... # FILL IN CODE HERE\n",
        "optimizer = torch.optim.Adam(mnist_classification_model.parameters(), lr=learning_rate)"
      ],
      "metadata": {
        "id": "P87a-DkXFOCv"
      },
      "execution_count": null,
      "outputs": []
    },
    {
      "cell_type": "markdown",
      "source": [
        "Create a function to calculate accuracy, instead of loss"
      ],
      "metadata": {
        "id": "_sUZONxw2bnt"
      }
    },
    {
      "cell_type": "code",
      "source": [
        "def get_accuracy(x_pred,x_label):\n",
        "  acc = torch.sum(x_pred == x_label)/(x_pred.shape[0])\n",
        "  return acc"
      ],
      "metadata": {
        "id": "aOww0ydr2fT0"
      },
      "execution_count": null,
      "outputs": []
    },
    {
      "cell_type": "markdown",
      "source": [
        "Now, train the model. You should be able to achieve an accuracy close to 1.00 within 20 epochs"
      ],
      "metadata": {
        "id": "qw0vkZIqFcse"
      }
    },
    {
      "cell_type": "code",
      "source": [
        "train_losses=[]\n",
        "valid_losses=[]\n",
        "\n",
        "for epoch in range(0,n_epochs):\n",
        "  train_loss=0.0\n",
        "\n",
        "  for batch_idx, (imgs, labels) in enumerate(mnist_train_loader):\n",
        "\n",
        "    # set the gradients back to 0\n",
        "    optimizer.zero_grad()\n",
        "    predict=mnist_classification_model(imgs)\n",
        "    # apply loss function\n",
        "    loss=criterion(predict,labels)\n",
        "    acc = get_accuracy(torch.argmax(predict,dim=1),labels)\n",
        "    # backpropagation\n",
        "    loss.backward()\n",
        "    optimizer.step()\n",
        "    train_loss=loss.item()\n",
        "  print('Epoch:{} Train Loss:{:.4f} Accuracy:{:.4f}'.format(epoch,train_loss/imgs.shape[0],acc))"
      ],
      "metadata": {
        "id": "0FA8YoX2FcHP"
      },
      "execution_count": null,
      "outputs": []
    },
    {
      "cell_type": "markdown",
      "source": [
        "### Evaluate the average maximum prediction of the images generated by each generative model (higher is better)\n",
        "\n",
        "Now, we will evaluate the models. For each ones, produce a certain number of images, and put those images through the classification network. Then find the maximum class probability of each image, and average it over all the images. We will use this as a metric to evaluate each model.\n",
        "\n",
        "__CAREFUL__: the output of the network does __not__ include the Softmax layer, so you will have to carry it out, with:\n",
        "- ```torch.nn.Softmax()(...)```\n",
        "\n",
        "Define this metric now:"
      ],
      "metadata": {
        "id": "zFgN5LblFwTa"
      }
    },
    {
      "cell_type": "code",
      "source": [
        "def generative_model_score(imgs_in,classification_model):\n",
        "  gen_score = ... # FILL IN CODE HERE\n",
        "  return(gen_score)"
      ],
      "metadata": {
        "id": "lCJ_0qqjOXHT"
      },
      "execution_count": null,
      "outputs": []
    },
    {
      "cell_type": "markdown",
      "source": [
        "Now, generate some images with each of the three models, and evaluate these models:"
      ],
      "metadata": {
        "id": "yGq7YFg51UoP"
      }
    },
    {
      "cell_type": "code",
      "source": [
        "imgs_diagonal_gaussian = generate_images_diagonal_gaussian(ae_model,z_average,z_sigma,n_images = 50)\n",
        "imgs_non_diagonal_gaussian = generate_images_non_diagonal_gaussian(ae_model,z_average,z_covariance,n_images = 50)\n",
        "imgs_vae = generate_images_vae(vae_model,n_images=50)\n",
        "\n",
        "# average of maximum of first model \n",
        "diagonal_gaussian_score = float(generative_model_score(imgs_diagonal_gaussian,mnist_classification_model))\n",
        "non_diagonal_gaussian_score = float(generative_model_score(imgs_non_diagonal_gaussian,mnist_classification_model))\n",
        "vae_gaussian_score = float(generative_model_score(imgs_vae,mnist_classification_model))\n",
        "\n",
        "print(\"Diagonal gaussian generative model score : \",diagonal_gaussian_score)\n",
        "print(\"Non diagonal gaussian generative model score : \",non_diagonal_gaussian_score)\n",
        "print(\"Variational autoencoder model score: \",vae_gaussian_score) "
      ],
      "metadata": {
        "id": "4-L4u2jhILFx"
      },
      "execution_count": null,
      "outputs": []
    },
    {
      "cell_type": "markdown",
      "source": [
        "Please answer the following questions:\n",
        "\n",
        "- Which model is better quantitatively ? \n",
        "- Do the quantitative result support the qualitative results ?\n",
        "- Can you see any drawbacks of this method of evaluation ?\n",
        "- Can you propose any more sophisticated models than the multivariate Gaussian approach (apart from the variational autoencoder) ? "
      ],
      "metadata": {
        "id": "sxvsG8FC1gNS"
      }
    },
    {
      "cell_type": "markdown",
      "source": [
        "__Answer__"
      ],
      "metadata": {
        "id": "3SYCyfKR3G7Y"
      }
    }
  ]
}