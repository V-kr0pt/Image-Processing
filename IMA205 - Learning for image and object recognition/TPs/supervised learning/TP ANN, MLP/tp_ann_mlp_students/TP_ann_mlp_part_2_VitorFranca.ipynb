{
  "cells": [
    {
      "cell_type": "markdown",
      "metadata": {
        "id": "RIjFqlgERHAq"
      },
      "source": [
        "# IMA-205\n",
        "# TP ANN (part B)\n",
        "\n",
        "## Coding a Multi-Layer Perceptron with Tensorflow\n",
        "Author : Alasdair Newson"
      ]
    },
    {
      "cell_type": "markdown",
      "metadata": {
        "id": "oG_lwX5GRHAs"
      },
      "source": [
        "In the second part of this TP, we will be looking at the Multi-Layer Perceptron (MLP) using Tensorflow (http://www.tensorflow.org)\n",
        "\n",
        "We will be using the following packages :\n",
        "   \n",
        "   - Scikit-learn (http://scikit-learn.org/)\n",
        "   - Tensorflow (http://www.tensorflow.org)\n",
        "\n",
        "The following commands will make sure that you have all the necessary packages"
      ]
    },
    {
      "cell_type": "code",
      "execution_count": 4,
      "metadata": {
        "id": "sCGFw05kRHAs"
      },
      "outputs": [
        {
          "name": "stderr",
          "output_type": "stream",
          "text": [
            "2023-04-03 10:14:56.335212: I tensorflow/tsl/cuda/cudart_stub.cc:28] Could not find cuda drivers on your machine, GPU will not be used.\n",
            "2023-04-03 10:14:56.403680: I tensorflow/tsl/cuda/cudart_stub.cc:28] Could not find cuda drivers on your machine, GPU will not be used.\n",
            "2023-04-03 10:14:56.404115: I tensorflow/core/platform/cpu_feature_guard.cc:182] This TensorFlow binary is optimized to use available CPU instructions in performance-critical operations.\n",
            "To enable the following instructions: AVX2 FMA, in other operations, rebuild TensorFlow with the appropriate compiler flags.\n",
            "2023-04-03 10:14:58.189967: W tensorflow/compiler/tf2tensorrt/utils/py_utils.cc:38] TF-TRT Warning: Could not find TensorRT\n"
          ]
        },
        {
          "name": "stdout",
          "output_type": "stream",
          "text": [
            "2.12.0\n"
          ]
        }
      ],
      "source": [
        "%matplotlib inline                      \n",
        "\n",
        "import numpy as np\n",
        "import matplotlib.pyplot as plt\n",
        "import os\n",
        "import pdb\n",
        "\n",
        "import sklearn  # scikit-learn\n",
        "import tensorflow as tf\n",
        "\n",
        "# import tensorflow models\n",
        "from tensorflow.keras.models import Sequential, Model\n",
        "from tensorflow.keras.layers import Dense, Dropout, Activation, Flatten, Input\n",
        "from tensorflow.keras.layers import Conv2D, MaxPooling2D\n",
        "from tensorflow.keras import optimizers\n",
        "print(tf.keras.__version__)"
      ]
    },
    {
      "cell_type": "markdown",
      "metadata": {
        "id": "dxgAcMrMRHAt"
      },
      "source": [
        "# 1 - Multi-Layer Perceptron with Tensorflow"
      ]
    },
    {
      "cell_type": "markdown",
      "metadata": {
        "id": "OjK-B5mkRHAt"
      },
      "source": [
        "## Introduction to TensorFlow"
      ]
    },
    {
      "cell_type": "markdown",
      "metadata": {
        "id": "gzVmdesCRHAu"
      },
      "source": [
        "Tensorflow is an environment written by Google which allows easy implementation of deep neural networks. In particular, it provides automatic differentiation so that the user does not have to determine gradients manually, which can be extremely long even for simple networks, as you have seen in the previous TP*.\n",
        "\n",
        "This, in turn allows a user to apply techniques such as stochastic gradient descent for training purposes. The differentiation graph is created symbolically when the network is created. Since a neural network is simply a cascade (or concatenation) of simple functions, the network in Tensorflow is simply a sequence of functions which are applied to one or several variables. The output of the final function is the output of the network.\n",
        "\n",
        "For instance, if the input were ```x``` and the network consisted of two functions ```a``` and ```b```, you could create the network simply by writing :\n",
        "\n",
        "```y = b(a(x))```\n",
        "\n",
        "However, it is clear that these functions and variables must be of some special type, so that the computer can figure out how to carry out the automatic differentiation for training. Tensorflow provides these functions and variables, which must be created with the Tensorflow package.\n",
        "\n",
        "Previously, Tensorflow required a strict separation between the creation (declaration) of variables and their execution (giving a numerical value, using the ```Session``` function). With Keras and Tensorflow 2, this separation has been removed, and the language has become simpler, in particular for creating and training networks.\n",
        "\n",
        "## Creating a network\n",
        "\n",
        "To create a network, there are two (main) methods :\n",
        "\n",
        "### Creating a model using the Sequential API\n",
        "\n",
        "Tensorflow has a simple way of adding layers to create a neural network. First, you can indicate to Tensorflow that the model is 'sequential' (a simple model, with not many tweaks). For this, you can use the following function :\n",
        "- ```model = Sequential()```\n",
        "\n",
        "After this, you can add layers with the function.\n",
        "\n",
        "- ```model.add()```\n",
        "\n",
        "You can then use the ```Dense``` (and other) functions to specify different layer types.  __Note that in the case of this approach, you will have to specify the input image size in the first layer of the network, inside the first layer function.__ So, for example, if the first layer is a dense layer with a relu activation, with n_out output neurons, and n_input neurons :\n",
        "\n",
        "- model = Sequential()\n",
        "- model.add(Dense(n_out,activation,input_shape=(n_in,),activation='relu'))\n",
        "\n",
        "Otherwise, the network does not know how many weights to create. __Be careful of this special case (the first layer)__ \n",
        "\n",
        "### Creating a model using the standard API\n",
        "\n",
        "Otherwise, another approach to creating the model is to explicitly create the input variable, and just cascade the different functions, as in Tensorflow. So, for the same example, we would have :\n",
        "\n",
        "- input = Input(shape=(n_in,))\n",
        "- output = Dense(n_in,n_out,activation='relu')(input)\n",
        "- model = Model(input, output)\n",
        "\n",
        "\n",
        "For now, let's use the Sequential API (however, if you want to try the standard API, go ahead).\n",
        "\n",
        "## Training and testing a network\n",
        "\n",
        "Tensorflow allows the easy training of a network with the following functions :\n",
        "\n",
        "- model.compile(loss='binary_crossentropy', optimizer=optimizers.Adam(lr=learning_rate)) : create the loss function and define the optimiser used. This function can do many other useful things (such as specifying different metrics to look at the model's performance\n",
        "\n",
        "- model.fit(...) : train the model\n",
        "- model.evaluate(...) : test the model\n",
        "- model.predict(...) : carry out a simple forward pass on the model\n",
        "\n",
        "Please look at the Tensorflow documenation for further details on these functions.\n"
      ]
    },
    {
      "cell_type": "markdown",
      "metadata": {
        "id": "UYFxzt5mRHAy"
      },
      "source": [
        "# MLP with TensorFlow\n",
        "\n",
        "We are now going to create an MLP with tensorflow. We will start with an MLP with one hidden layer. The network should consist of the following operations, in the following order :\n",
        "\n",
        "- Fully connected layer, with 50 output neurons\n",
        "- ReLU activation\n",
        "- Fully connected layer, with 50 output neurons\n",
        "- ReLU activation\n",
        "- Fully connected layer, with 1 output neuron (because we have a binary classification problem)\n",
        "- Sigmoid output activation\n",
        "\n",
        "We are going to be solving a binary classification \n",
        "problem, so the output of the network should be a scalar between 0 and 1 (thus the last layer is a Sigmoid activation).\n",
        "\n",
        "The loss function should be defined as the binary cross-entropy between the predicted class and the true class\n"
      ]
    },
    {
      "cell_type": "markdown",
      "metadata": {
        "id": "jdGVzE6NRHAy"
      },
      "source": [
        "First, we load the data."
      ]
    },
    {
      "cell_type": "code",
      "execution_count": 2,
      "metadata": {
        "id": "EfiJwuLmRHAy"
      },
      "outputs": [
        {
          "data": {
            "image/png": "[encoded data removed]",
            "text/plain": [
              "<Figure size 640x480 with 1 Axes>"
            ]
          },
          "metadata": {},
          "output_type": "display_data"
        }
      ],
      "source": [
        "from sklearn import datasets\n",
        "from sklearn.preprocessing import MinMaxScaler\n",
        "from sklearn.model_selection import train_test_split\n",
        "\n",
        "X, Y = datasets.make_circles(n_samples=1000, noise=0.05, factor=0.5)\n",
        "# X, y = datasets.make_moons(n_samples=1000, random_state=42)  # try with 2 moons\n",
        "X = MinMaxScaler().fit_transform(X)\n",
        "\n",
        "#show data in plot\n",
        "plt.plot(X[Y == 1, 0], X[Y == 1, 1], 'ro')\n",
        "plt.plot(X[Y == 0, 0], X[Y == 0, 1], 'bo')\n",
        "plt.grid('on')"
      ]
    },
    {
      "cell_type": "markdown",
      "metadata": {
        "id": "cRL1c6UyRHAy"
      },
      "source": [
        "We are now going to define some useful auxillary functions.\n",
        "\n",
        "First, a function that shows the decision boundary of our network. This works only for 2D input data"
      ]
    },
    {
      "cell_type": "code",
      "execution_count": 3,
      "metadata": {
        "id": "x0cUhY8xRHAz"
      },
      "outputs": [],
      "source": [
        "# THIS CODE IS GIVEN\n",
        "\n",
        "def plot_decision_function_2d(model_mlp, X, Y):\n",
        "   # create a mesh to plot in\n",
        "    h = .02  # step size in the mesh\n",
        "    offset = 0.1\n",
        "    x_min, x_max = X[:, 0].min() - offset, X[:, 0].max() + offset\n",
        "    y_min, y_max = X[:, 1].min() - offset, X[:, 1].max() + offset\n",
        "    xx, yy = np.meshgrid(np.arange(x_min, x_max, h),\n",
        "                         np.arange(y_min, y_max, h))\n",
        "\n",
        "    # Plot the decision boundary. For that, we will assign a color to each\n",
        "    # point in the mesh [x_min, x_max]x[y_min, y_max].\n",
        "    Z = model_mlp.predict(np.c_[xx.ravel(), yy.ravel()])\n",
        "    print(Z.shape)\n",
        "    print(Z)\n",
        "    \n",
        "    Z = Z<0.5\n",
        "    # Put the result into a color plot\n",
        "    Z = Z.reshape(xx.shape)\n",
        "    plt.figure()\n",
        "    plt.contourf(xx, yy, Z, cmap=plt.cm.Paired)\n",
        "\n",
        "    plt.plot(X[Y == 1, 0], X[Y == 1, 1], 'yo')\n",
        "    plt.plot(X[Y == 0, 0], X[Y == 0, 1], 'ko')\n",
        "\n",
        "    plt.title(\"Decision surface\")\n",
        "    plt.axis('tight')"
      ]
    },
    {
      "cell_type": "markdown",
      "metadata": {
        "id": "CKtZJ5iQRHA0"
      },
      "source": [
        "## CREATING AND TRAINING THE MODEL\n",
        "\n",
        "We are now ready to create our network with a Tensorflow Session and to carry out training on our training dataset."
      ]
    },
    {
      "cell_type": "code",
      "execution_count": 17,
      "metadata": {
        "id": "WO8dHtrGRHA0"
      },
      "outputs": [
        {
          "name": "stdout",
          "output_type": "stream",
          "text": [
            "(850, 2)\n",
            "Training\n",
            "Epoch 1/20\n",
            "14/14 [==============================] - 1s 2ms/step - loss: 0.6804 - accuracy: 0.7588\n",
            "Epoch 2/20\n",
            "14/14 [==============================] - 0s 2ms/step - loss: 0.6709 - accuracy: 0.7976\n",
            "Epoch 3/20\n",
            "14/14 [==============================] - 0s 2ms/step - loss: 0.6622 - accuracy: 0.7729\n",
            "Epoch 4/20\n",
            "14/14 [==============================] - 0s 2ms/step - loss: 0.6521 - accuracy: 0.7494\n",
            "Epoch 5/20\n",
            "14/14 [==============================] - 0s 2ms/step - loss: 0.6402 - accuracy: 0.7482\n",
            "Epoch 6/20\n",
            "14/14 [==============================] - 0s 2ms/step - loss: 0.6275 - accuracy: 0.7212\n",
            "Epoch 7/20\n",
            "14/14 [==============================] - 0s 2ms/step - loss: 0.6130 - accuracy: 0.6941\n",
            "Epoch 8/20\n",
            "14/14 [==============================] - 0s 2ms/step - loss: 0.5993 - accuracy: 0.7482\n",
            "Epoch 9/20\n",
            "14/14 [==============================] - 0s 2ms/step - loss: 0.5831 - accuracy: 0.7294\n",
            "Epoch 10/20\n",
            "14/14 [==============================] - 0s 2ms/step - loss: 0.5686 - accuracy: 0.7118\n",
            "Epoch 11/20\n",
            "14/14 [==============================] - 0s 2ms/step - loss: 0.5531 - accuracy: 0.7859\n",
            "Epoch 12/20\n",
            "14/14 [==============================] - 0s 2ms/step - loss: 0.5373 - accuracy: 0.7647\n",
            "Epoch 13/20\n",
            "14/14 [==============================] - 0s 2ms/step - loss: 0.5220 - accuracy: 0.7694\n",
            "Epoch 14/20\n",
            "14/14 [==============================] - 0s 2ms/step - loss: 0.5084 - accuracy: 0.7906\n",
            "Epoch 15/20\n",
            "14/14 [==============================] - 0s 2ms/step - loss: 0.4935 - accuracy: 0.7906\n",
            "Epoch 16/20\n",
            "14/14 [==============================] - 0s 2ms/step - loss: 0.4790 - accuracy: 0.7929\n",
            "Epoch 17/20\n",
            "14/14 [==============================] - 0s 2ms/step - loss: 0.4677 - accuracy: 0.8071\n",
            "Epoch 18/20\n",
            "14/14 [==============================] - 0s 2ms/step - loss: 0.4506 - accuracy: 0.8118\n",
            "Epoch 19/20\n",
            "14/14 [==============================] - 0s 2ms/step - loss: 0.4340 - accuracy: 0.8224\n",
            "Epoch 20/20\n",
            "14/14 [==============================] - 0s 2ms/step - loss: 0.4179 - accuracy: 0.8329\n",
            "Testing\n",
            "5/5 - 0s - loss: 0.4121 - accuracy: 0.8200 - 107ms/epoch - 21ms/step\n"
          ]
        },
        {
          "data": {
            "text/plain": [
              "[0.41208821535110474, 0.8199999928474426]"
            ]
          },
          "execution_count": 17,
          "metadata": {},
          "output_type": "execute_result"
        }
      ],
      "source": [
        "# FILL IN CODE BY STUDENTS IN THIS SECTION\n",
        "\n",
        "#We split up the data into training and test data, using a function from Scikit-learn :\n",
        "X_train, X_test, Y_train, Y_test = train_test_split(X, Y, test_size=0.15)\n",
        "print(X_train.shape)\n",
        "\n",
        "# Layer sizes\n",
        "n_input = X.shape[1]  # Number of input features\n",
        "n_hidden = 50  # Number of hidden nodes\n",
        "\n",
        "# create the model (using the sequential API)\n",
        "model_mlp = Sequential([Input(shape=(n_input,)),\n",
        "                        Dense(n_hidden, activation = 'relu'),\n",
        "                        Dense(n_hidden, activation = 'relu'),\n",
        "                        Dense(1, activation = 'sigmoid')\n",
        "                        ])   # FILL IN STUDENTS\n",
        "\n",
        "# create the loss and optimiser\n",
        "learning_rate = 0.01\n",
        "model_mlp.compile(loss='BinaryCrossentropy', optimizer=\"Adam\", metrics=[\"accuracy\"]) # TO FILL IN\n",
        "\n",
        "# Run optimisation algorithm\n",
        "n_epochs = 20\n",
        "batch_size = 64\n",
        "\n",
        "print('Training')\n",
        "model_mlp.fit(X_train, Y_train, epochs=n_epochs, batch_size=batch_size) # TO FILL IN\n",
        "\n",
        "print('Testing')\n",
        "model_mlp.evaluate(X_test, Y_test, verbose=2) # TO FILL IN\n"
      ]
    },
    {
      "cell_type": "code",
      "execution_count": 18,
      "metadata": {
        "id": "lpBaU1rcc0oY"
      },
      "outputs": [
        {
          "name": "stdout",
          "output_type": "stream",
          "text": [
            "107/107 [==============================] - 0s 1ms/step\n",
            "(3422, 1)\n",
            "[[0.14440705]\n",
            " [0.15841596]\n",
            " [0.17259446]\n",
            " ...\n",
            " [0.5167339 ]\n",
            " [0.51921415]\n",
            " [0.52169365]]\n"
          ]
        },
        {
          "data": {
            "image/png": "[encoded data removed]",
            "text/plain": [
              "<Figure size 640x480 with 1 Axes>"
            ]
          },
          "metadata": {},
          "output_type": "display_data"
        }
      ],
      "source": [
        "plot_decision_function_2d(model_mlp, X_test, Y_test)"
      ]
    },
    {
      "cell_type": "markdown",
      "metadata": {
        "id": "6oni6Q5vRHA0"
      },
      "source": [
        "# MLP with several hidden layers\n",
        "\n",
        "We are now going to create an MLP with more hidden layers. We are going to use a more complicated dataset : the MNIST dataset, which contains images of handwritten digits. There are 10 classes, one for each digit.\n",
        "\n",
        "We are going to implement the following architecture :\n",
        "\n",
        "- Fully connected layer\n",
        "- Relu activation\n",
        "- Fully connected layer\n",
        "- Relu activation\n",
        "- Fully connected layer\n",
        "- Relu activation\n",
        "- Fully connected layer\n",
        "- Softmax output activation\n",
        "\n",
        "__IMPORTANT Note__ The sigmoid layer has been replaced by a softmax layer (at the end). This is normal, since we have a multi-class problem.\n",
        "\n",
        "\n",
        "First, we load the MNIST dataset."
      ]
    },
    {
      "cell_type": "code",
      "execution_count": 36,
      "metadata": {
        "id": "Z0cGLMKRRHA0"
      },
      "outputs": [],
      "source": [
        "# Import MNIST data\n",
        "mnist = tf.keras.datasets.mnist\n",
        "(X_train, y_train),(X_test, y_test) = mnist.load_data()\n",
        "\n",
        "Y_train = tf.keras.utils.to_categorical(y_train)  # in order to convert y to a matrix with (num_examples, num_classes) (one-hot encoding)\n",
        "Y_test = tf.keras.utils.to_categorical(y_test)  # in order to convert y to a matrix with (num_examples, num_classes) (one-hot encoding)\n",
        "\n",
        "#reshape the input images : flatten the last two dimensions\n",
        "X_train = np.reshape(X_train,(X_train.shape[0],X_train.shape[1]*X_train.shape[2]))\n",
        "X_test = np.reshape(X_test,(X_test.shape[0],X_test.shape[1]*X_test.shape[2]))\n"
      ]
    },
    {
      "cell_type": "markdown",
      "metadata": {
        "id": "EzMV_9-NRHA1"
      },
      "source": [
        "Finally, fill in the following code to create and train your MLP"
      ]
    },
    {
      "cell_type": "code",
      "execution_count": 40,
      "metadata": {
        "id": "2G7AToqyRHA1"
      },
      "outputs": [
        {
          "name": "stdout",
          "output_type": "stream",
          "text": [
            "Training\n",
            "Epoch 1/20\n",
            "938/938 [==============================] - 6s 5ms/step - loss: 1.1560 - accuracy: 0.8892\n",
            "Epoch 2/20\n",
            "938/938 [==============================] - 5s 5ms/step - loss: 0.1889 - accuracy: 0.9498\n",
            "Epoch 3/20\n",
            "938/938 [==============================] - 5s 6ms/step - loss: 0.1385 - accuracy: 0.9615\n",
            "Epoch 4/20\n",
            "938/938 [==============================] - 4s 5ms/step - loss: 0.1122 - accuracy: 0.9674\n",
            "Epoch 5/20\n",
            "938/938 [==============================] - 4s 5ms/step - loss: 0.0979 - accuracy: 0.9716\n",
            "Epoch 6/20\n",
            "938/938 [==============================] - 4s 5ms/step - loss: 0.0903 - accuracy: 0.9737\n",
            "Epoch 7/20\n",
            "938/938 [==============================] - 4s 5ms/step - loss: 0.0803 - accuracy: 0.9764\n",
            "Epoch 8/20\n",
            "938/938 [==============================] - 4s 5ms/step - loss: 0.0778 - accuracy: 0.9774\n",
            "Epoch 9/20\n",
            "938/938 [==============================] - 4s 5ms/step - loss: 0.0754 - accuracy: 0.9782\n",
            "Epoch 10/20\n",
            "938/938 [==============================] - 4s 5ms/step - loss: 0.0591 - accuracy: 0.9829\n",
            "Epoch 11/20\n",
            "938/938 [==============================] - 5s 6ms/step - loss: 0.0649 - accuracy: 0.9813\n",
            "Epoch 12/20\n",
            "938/938 [==============================] - 5s 5ms/step - loss: 0.0541 - accuracy: 0.9850\n",
            "Epoch 13/20\n",
            "938/938 [==============================] - 5s 5ms/step - loss: 0.0523 - accuracy: 0.9860\n",
            "Epoch 14/20\n",
            "938/938 [==============================] - 5s 5ms/step - loss: 0.0468 - accuracy: 0.9875\n",
            "Epoch 15/20\n",
            "938/938 [==============================] - 5s 5ms/step - loss: 0.0505 - accuracy: 0.9871\n",
            "Epoch 16/20\n",
            "938/938 [==============================] - 4s 5ms/step - loss: 0.0388 - accuracy: 0.9888\n",
            "Epoch 17/20\n",
            "938/938 [==============================] - 5s 5ms/step - loss: 0.0415 - accuracy: 0.9893\n",
            "Epoch 18/20\n",
            "938/938 [==============================] - 5s 5ms/step - loss: 0.0362 - accuracy: 0.9904\n",
            "Epoch 19/20\n",
            "938/938 [==============================] - 5s 6ms/step - loss: 0.0331 - accuracy: 0.9912\n",
            "Epoch 20/20\n",
            "938/938 [==============================] - 5s 6ms/step - loss: 0.0348 - accuracy: 0.9912\n",
            "Testing\n",
            "313/313 - 1s - loss: 0.1177 - accuracy: 0.9773 - 506ms/epoch - 2ms/step\n"
          ]
        },
        {
          "data": {
            "text/plain": [
              "[0.11771506071090698, 0.9772999882698059]"
            ]
          },
          "execution_count": 40,
          "metadata": {},
          "output_type": "execute_result"
        }
      ],
      "source": [
        "\n",
        "# Network Parameters\n",
        "n_hidden_1 = 256 # 1st layer number of neurons\n",
        "n_hidden_2 = 256 # 2nd layer number of neurons\n",
        "n_hidden_3 = 128 # 2nd layer number of neurons\n",
        "\n",
        "n_input = X_train.shape[1]\n",
        "n_classes = Y_train.shape[1] # MNIST total classes (0-9 digits)\n",
        "\n",
        "# TO CODE BY STUDENTS\n",
        "\n",
        "# 4 dense\n",
        "model_mlp_multi_layer = Sequential([\n",
        "                        Input(shape=(n_input,)),\n",
        "                        Dense(n_hidden_1, activation = 'relu'),\n",
        "                        Dense(n_hidden_2, activation = 'relu'),\n",
        "                        Dense(n_hidden_3, activation = 'relu'),\n",
        "                        Dense(n_classes, activation = 'sigmoid')\n",
        "                        ])   \n",
        "\n",
        "# create the loss and optimiser, use 'categorical_crossentropy' in loss\n",
        "model_mlp_multi_layer.compile(loss='categorical_crossentropy', optimizer=\"Adam\", metrics=[\"accuracy\"])\n",
        "\n",
        "# Run optimisation algorithm\n",
        "n_epochs = 20\n",
        "batch_size = 64\n",
        "\n",
        "print('Training')\n",
        "model_mlp_multi_layer.fit(X_train, Y_train, epochs=n_epochs, batch_size=batch_size)\n",
        "print('Testing')\n",
        "model_mlp_multi_layer.evaluate(X_test,  Y_test, verbose=2)"
      ]
    },
    {
      "cell_type": "code",
      "execution_count": 41,
      "metadata": {
        "id": "s6Q-JntxluxG"
      },
      "outputs": [],
      "source": [
        "# THIS CODE IS GIVEN\n",
        "\n",
        "def test_mnist_images(model_mlp_multi_layer,X_test):\n",
        "  plt.figure(figsize=(10, 6))\n",
        "  for idx in range(0,10):\n",
        "      plt.subplot(2, 5, idx+1)\n",
        "      rand_ind = np.random.randint(0,X_test.shape[0])\n",
        "      plt.imshow(np.reshape(X_test[rand_ind,:],(28,28)),cmap='gray')\n",
        "      # get prediction\n",
        "      model_prediction = np.argmax(model_mlp_multi_layer.predict(np.expand_dims( X_test[rand_ind,:], axis=0)),axis=1)\n",
        "      plt.title(int(model_prediction))"
      ]
    },
    {
      "cell_type": "code",
      "execution_count": 42,
      "metadata": {
        "id": "r2D9RE4apVWW"
      },
      "outputs": [
        {
          "name": "stdout",
          "output_type": "stream",
          "text": [
            "1/1 [==============================] - 0s 58ms/step\n",
            "1/1 [==============================] - 0s 19ms/step\n",
            "1/1 [==============================] - 0s 15ms/step\n",
            "1/1 [==============================] - 0s 16ms/step\n",
            "1/1 [==============================] - 0s 16ms/step\n",
            "1/1 [==============================] - 0s 17ms/step\n",
            "1/1 [==============================] - 0s 18ms/step\n",
            "1/1 [==============================] - 0s 15ms/step\n",
            "1/1 [==============================] - 0s 17ms/step\n",
            "1/1 [==============================] - 0s 17ms/step\n"
          ]
        },
        {
          "data": {
            "image/png": "[encoded data removed]",
            "text/plain": [
              "<Figure size 1000x600 with 10 Axes>"
            ]
          },
          "metadata": {},
          "output_type": "display_data"
        }
      ],
      "source": [
        "test_mnist_images(model_mlp_multi_layer,X_test)"
      ]
    },
    {
      "cell_type": "markdown",
      "metadata": {
        "id": "lItdBVnfu7xK"
      },
      "source": [
        "You may observe some difficulties in getting good performance in this case. To improve training, we can turn to __batch_normalisation__ and __regularisation__"
      ]
    },
    {
      "cell_type": "markdown",
      "metadata": {
        "id": "Vgao_U5XRHA2"
      },
      "source": [
        "## BATCH NORMALISATION\n",
        "\n",
        "One approach to improving the convergence of neural network training which we have seen during the lesson is known as batch normalisation, which we have seen during the lesson. This can be implemented very simply in Tensorflow by adding the following layer :\n",
        "\n",
        "- ```BatchNormalization()```\n",
        "\n",
        "Change your model below, and implement this using your code above"
      ]
    },
    {
      "cell_type": "code",
      "execution_count": 45,
      "metadata": {
        "id": "6Ela5-4XRHA2"
      },
      "outputs": [
        {
          "name": "stdout",
          "output_type": "stream",
          "text": [
            "Training\n",
            "Epoch 1/20\n",
            "938/938 [==============================] - 7s 6ms/step - loss: 0.2008 - accuracy: 0.9385\n",
            "Epoch 2/20\n",
            "938/938 [==============================] - 5s 6ms/step - loss: 0.0918 - accuracy: 0.9711\n",
            "Epoch 3/20\n",
            "938/938 [==============================] - 5s 5ms/step - loss: 0.0703 - accuracy: 0.9771\n",
            "Epoch 4/20\n",
            "938/938 [==============================] - 5s 5ms/step - loss: 0.0537 - accuracy: 0.9828\n",
            "Epoch 5/20\n",
            "938/938 [==============================] - 5s 5ms/step - loss: 0.0450 - accuracy: 0.9850\n",
            "Epoch 6/20\n",
            "938/938 [==============================] - 5s 5ms/step - loss: 0.0395 - accuracy: 0.9870\n",
            "Epoch 7/20\n",
            "938/938 [==============================] - 5s 5ms/step - loss: 0.0349 - accuracy: 0.9882\n",
            "Epoch 8/20\n",
            "938/938 [==============================] - 5s 5ms/step - loss: 0.0285 - accuracy: 0.9905\n",
            "Epoch 9/20\n",
            "938/938 [==============================] - 5s 5ms/step - loss: 0.0263 - accuracy: 0.9913\n",
            "Epoch 10/20\n",
            "938/938 [==============================] - 5s 5ms/step - loss: 0.0221 - accuracy: 0.9923\n",
            "Epoch 11/20\n",
            "938/938 [==============================] - 5s 5ms/step - loss: 0.0236 - accuracy: 0.9924\n",
            "Epoch 12/20\n",
            "938/938 [==============================] - 5s 6ms/step - loss: 0.0192 - accuracy: 0.9933\n",
            "Epoch 13/20\n",
            "938/938 [==============================] - 5s 5ms/step - loss: 0.0189 - accuracy: 0.9938\n",
            "Epoch 14/20\n",
            "938/938 [==============================] - 6s 7ms/step - loss: 0.0167 - accuracy: 0.9944\n",
            "Epoch 15/20\n",
            "938/938 [==============================] - 6s 6ms/step - loss: 0.0156 - accuracy: 0.9950\n",
            "Epoch 16/20\n",
            "938/938 [==============================] - 5s 6ms/step - loss: 0.0174 - accuracy: 0.9944\n",
            "Epoch 17/20\n",
            "938/938 [==============================] - 6s 6ms/step - loss: 0.0133 - accuracy: 0.9954\n",
            "Epoch 18/20\n",
            "938/938 [==============================] - 5s 6ms/step - loss: 0.0141 - accuracy: 0.9951\n",
            "Epoch 19/20\n",
            "938/938 [==============================] - 5s 6ms/step - loss: 0.0104 - accuracy: 0.9966\n",
            "Epoch 20/20\n",
            "938/938 [==============================] - 6s 6ms/step - loss: 0.0134 - accuracy: 0.9954\n",
            "Testing\n",
            "313/313 - 1s - loss: 0.0820 - accuracy: 0.9813 - 574ms/epoch - 2ms/step\n"
          ]
        },
        {
          "data": {
            "text/plain": [
              "[0.08200743794441223, 0.9812999963760376]"
            ]
          },
          "execution_count": 45,
          "metadata": {},
          "output_type": "execute_result"
        }
      ],
      "source": [
        "from tensorflow.keras.layers import Dense, BatchNormalization\n",
        "\n",
        "# TO CODE BY STUDENTS\n",
        "\n",
        "model_mlp_multi_layer = Sequential([\n",
        "                        Input(shape=(n_input,)),\n",
        "                        Dense(n_hidden_1, activation = 'relu'),\n",
        "                        BatchNormalization(),\n",
        "                        Dense(n_hidden_2, activation = 'relu'),\n",
        "                        BatchNormalization(),\n",
        "                        Dense(n_hidden_3, activation = 'relu'),\n",
        "                        BatchNormalization(),\n",
        "                        Dense(n_classes, activation = 'sigmoid')\n",
        "                        ])   \n",
        "\n",
        "model_mlp_multi_layer.compile(loss='categorical_crossentropy', optimizer=\"Adam\", metrics=[\"accuracy\"])\n",
        "\n",
        "# Run optimisation algorithm\n",
        "n_epochs = 20\n",
        "batch_size = 64\n",
        "\n",
        "print('Training')\n",
        "model_mlp_multi_layer.fit(X_train, Y_train, epochs=n_epochs, batch_size=batch_size)\n",
        "print('Testing')\n",
        "model_mlp_multi_layer.evaluate(X_test,  Y_test, verbose=2)"
      ]
    },
    {
      "cell_type": "code",
      "execution_count": 46,
      "metadata": {
        "id": "cSxGzvQ3pg3u"
      },
      "outputs": [
        {
          "name": "stdout",
          "output_type": "stream",
          "text": [
            "1/1 [==============================] - 0s 92ms/step\n",
            "1/1 [==============================] - 0s 17ms/step\n",
            "1/1 [==============================] - 0s 16ms/step\n",
            "1/1 [==============================] - 0s 17ms/step\n",
            "1/1 [==============================] - 0s 18ms/step\n",
            "1/1 [==============================] - 0s 17ms/step\n",
            "1/1 [==============================] - 0s 17ms/step\n",
            "1/1 [==============================] - 0s 18ms/step\n",
            "1/1 [==============================] - 0s 17ms/step\n",
            "1/1 [==============================] - 0s 22ms/step\n"
          ]
        },
        {
          "data": {
            "image/png": "[encoded data removed]",
            "text/plain": [
              "<Figure size 1000x600 with 10 Axes>"
            ]
          },
          "metadata": {},
          "output_type": "display_data"
        }
      ],
      "source": [
        "test_mnist_images(model_mlp_multi_layer,X_test)"
      ]
    },
    {
      "cell_type": "markdown",
      "metadata": {
        "id": "iQPJDop31Nci"
      },
      "source": [
        "## Dropout\n",
        "\n",
        "Often in the process of training neural networks, there is a difference between the training accuracy and the testing accuracy. This is the problem of overfitting. To alleviate this problem, we can turn to _dropout_:\n",
        "\n",
        "```tf.keras.layers.Dropout(rate,...)```\n",
        "\n",
        "where rate is the probability that an input neuron to a layer will get set to 0. You can do this in any layer. Use the previous architecture and try out the dropout. Set the dropout rate to 0.1 on the first layer as a test. Then try it out on all layers (you may not see a great difference here since the mnist database is relatively simple, this is just to show you how it is done). "
      ]
    },
    {
      "cell_type": "code",
      "execution_count": 47,
      "metadata": {
        "id": "x-BF-fpo1PpW"
      },
      "outputs": [
        {
          "name": "stdout",
          "output_type": "stream",
          "text": [
            "Training\n",
            "Epoch 1/20\n",
            "938/938 [==============================] - 7s 6ms/step - loss: 0.2182 - accuracy: 0.9336\n",
            "Epoch 2/20\n",
            "938/938 [==============================] - 5s 5ms/step - loss: 0.1081 - accuracy: 0.9660\n",
            "Epoch 3/20\n",
            "938/938 [==============================] - 6s 6ms/step - loss: 0.0796 - accuracy: 0.9747\n",
            "Epoch 4/20\n",
            "938/938 [==============================] - 5s 6ms/step - loss: 0.0656 - accuracy: 0.9786\n",
            "Epoch 5/20\n",
            "938/938 [==============================] - 5s 5ms/step - loss: 0.0565 - accuracy: 0.9814\n",
            "Epoch 6/20\n",
            "938/938 [==============================] - 5s 6ms/step - loss: 0.0482 - accuracy: 0.9842\n",
            "Epoch 7/20\n",
            "938/938 [==============================] - 5s 5ms/step - loss: 0.0416 - accuracy: 0.9866\n",
            "Epoch 8/20\n",
            "938/938 [==============================] - 5s 5ms/step - loss: 0.0386 - accuracy: 0.9869\n",
            "Epoch 9/20\n",
            "938/938 [==============================] - 5s 5ms/step - loss: 0.0330 - accuracy: 0.9892\n",
            "Epoch 10/20\n",
            "938/938 [==============================] - 5s 5ms/step - loss: 0.0317 - accuracy: 0.9891\n",
            "Epoch 11/20\n",
            "938/938 [==============================] - 6s 6ms/step - loss: 0.0277 - accuracy: 0.9908\n",
            "Epoch 12/20\n",
            "938/938 [==============================] - 6s 6ms/step - loss: 0.0271 - accuracy: 0.9908\n",
            "Epoch 13/20\n",
            "938/938 [==============================] - 6s 6ms/step - loss: 0.0244 - accuracy: 0.9920\n",
            "Epoch 14/20\n",
            "938/938 [==============================] - 6s 7ms/step - loss: 0.0242 - accuracy: 0.9918\n",
            "Epoch 15/20\n",
            "938/938 [==============================] - 5s 6ms/step - loss: 0.0212 - accuracy: 0.9930\n",
            "Epoch 16/20\n",
            "938/938 [==============================] - 6s 6ms/step - loss: 0.0196 - accuracy: 0.9935\n",
            "Epoch 17/20\n",
            "938/938 [==============================] - 6s 6ms/step - loss: 0.0181 - accuracy: 0.9938\n",
            "Epoch 18/20\n",
            "938/938 [==============================] - 6s 6ms/step - loss: 0.0187 - accuracy: 0.9936\n",
            "Epoch 19/20\n",
            "938/938 [==============================] - 6s 7ms/step - loss: 0.0169 - accuracy: 0.9943\n",
            "Epoch 20/20\n",
            "938/938 [==============================] - 6s 6ms/step - loss: 0.0171 - accuracy: 0.9946\n",
            "Testing\n",
            "313/313 - 1s - loss: 0.0734 - accuracy: 0.9810 - 523ms/epoch - 2ms/step\n"
          ]
        },
        {
          "data": {
            "text/plain": [
              "[0.0734138935804367, 0.9810000061988831]"
            ]
          },
          "execution_count": 47,
          "metadata": {},
          "output_type": "execute_result"
        }
      ],
      "source": [
        "from tensorflow.keras.layers import Dense, BatchNormalization, Dropout\n",
        "\n",
        "# TO CODE BY STUDENTS\n",
        "\n",
        "model_mlp_multi_layer = Sequential([\n",
        "                        Input(shape=(n_input,)),\n",
        "                        Dense(n_hidden_1, activation = 'relu'),\n",
        "                        BatchNormalization(),\n",
        "                        Dropout(0.1),\n",
        "                        Dense(n_hidden_2, activation = 'relu'),\n",
        "                        BatchNormalization(),\n",
        "                        Dense(n_hidden_3, activation = 'relu'),\n",
        "                        BatchNormalization(),\n",
        "                        Dense(n_classes, activation = 'sigmoid')\n",
        "                        ])   \n",
        "\n",
        "model_mlp_multi_layer.compile(loss='categorical_crossentropy', optimizer=\"Adam\", metrics=[\"accuracy\"])\n",
        "\n",
        "# Run optimisation algorithm\n",
        "n_epochs = 20\n",
        "batch_size = 64\n",
        "\n",
        "print('Training')\n",
        "model_mlp_multi_layer.fit(X_train, Y_train, epochs=n_epochs, batch_size=batch_size)\n",
        "print('Testing')\n",
        "model_mlp_multi_layer.evaluate(X_test,  Y_test, verbose=2)"
      ]
    },
    {
      "cell_type": "code",
      "execution_count": 48,
      "metadata": {},
      "outputs": [
        {
          "name": "stdout",
          "output_type": "stream",
          "text": [
            "Training\n",
            "Epoch 1/20\n",
            "938/938 [==============================] - 8s 7ms/step - loss: 0.2415 - accuracy: 0.9259\n",
            "Epoch 2/20\n",
            "938/938 [==============================] - 6s 6ms/step - loss: 0.1181 - accuracy: 0.9640\n",
            "Epoch 3/20\n",
            "938/938 [==============================] - 6s 7ms/step - loss: 0.0913 - accuracy: 0.9711\n",
            "Epoch 4/20\n",
            "938/938 [==============================] - 7s 7ms/step - loss: 0.0761 - accuracy: 0.9758\n",
            "Epoch 5/20\n",
            "938/938 [==============================] - 6s 6ms/step - loss: 0.0663 - accuracy: 0.9783\n",
            "Epoch 6/20\n",
            "938/938 [==============================] - 6s 6ms/step - loss: 0.0579 - accuracy: 0.9811\n",
            "Epoch 7/20\n",
            "938/938 [==============================] - 6s 6ms/step - loss: 0.0513 - accuracy: 0.9834\n",
            "Epoch 8/20\n",
            "938/938 [==============================] - 6s 7ms/step - loss: 0.0437 - accuracy: 0.9859\n",
            "Epoch 9/20\n",
            "938/938 [==============================] - 7s 7ms/step - loss: 0.0439 - accuracy: 0.9861\n",
            "Epoch 10/20\n",
            "938/938 [==============================] - 6s 7ms/step - loss: 0.0398 - accuracy: 0.9865\n",
            "Epoch 11/20\n",
            "938/938 [==============================] - 6s 7ms/step - loss: 0.0353 - accuracy: 0.9884\n",
            "Epoch 12/20\n",
            "938/938 [==============================] - 6s 6ms/step - loss: 0.0331 - accuracy: 0.9893\n",
            "Epoch 13/20\n",
            "938/938 [==============================] - 6s 6ms/step - loss: 0.0303 - accuracy: 0.9897\n",
            "Epoch 14/20\n",
            "938/938 [==============================] - 6s 6ms/step - loss: 0.0302 - accuracy: 0.9899\n",
            "Epoch 15/20\n",
            "938/938 [==============================] - 6s 6ms/step - loss: 0.0270 - accuracy: 0.9911\n",
            "Epoch 16/20\n",
            "938/938 [==============================] - 6s 6ms/step - loss: 0.0257 - accuracy: 0.9912\n",
            "Epoch 17/20\n",
            "938/938 [==============================] - 6s 6ms/step - loss: 0.0254 - accuracy: 0.9910\n",
            "Epoch 18/20\n",
            "938/938 [==============================] - 6s 6ms/step - loss: 0.0222 - accuracy: 0.9927\n",
            "Epoch 19/20\n",
            "938/938 [==============================] - 6s 7ms/step - loss: 0.0227 - accuracy: 0.9923\n",
            "Epoch 20/20\n",
            "938/938 [==============================] - 6s 6ms/step - loss: 0.0218 - accuracy: 0.9926\n",
            "Testing\n",
            "313/313 - 1s - loss: 0.0662 - accuracy: 0.9837 - 536ms/epoch - 2ms/step\n"
          ]
        },
        {
          "data": {
            "text/plain": [
              "[0.0662292018532753, 0.9836999773979187]"
            ]
          },
          "execution_count": 48,
          "metadata": {},
          "output_type": "execute_result"
        }
      ],
      "source": [
        "from tensorflow.keras.layers import Dense, BatchNormalization, Dropout\n",
        "\n",
        "# TO CODE BY STUDENTS\n",
        "\n",
        "model_mlp_multi_layer = Sequential([\n",
        "                        Input(shape=(n_input,)),\n",
        "                        Dense(n_hidden_1, activation = 'relu'),\n",
        "                        BatchNormalization(),\n",
        "                        Dropout(0.1),\n",
        "                        Dense(n_hidden_2, activation = 'relu'),\n",
        "                        BatchNormalization(),\n",
        "                        Dropout(0.1),\n",
        "                        Dense(n_hidden_3, activation = 'relu'),\n",
        "                        BatchNormalization(),\n",
        "                        Dropout(0.1),\n",
        "                        Dense(n_classes, activation = 'sigmoid')\n",
        "                        ])   \n",
        "\n",
        "model_mlp_multi_layer.compile(loss='categorical_crossentropy', optimizer=\"Adam\", metrics=[\"accuracy\"])\n",
        "\n",
        "# Run optimisation algorithm\n",
        "n_epochs = 20\n",
        "batch_size = 64\n",
        "\n",
        "print('Training')\n",
        "model_mlp_multi_layer.fit(X_train, Y_train, epochs=n_epochs, batch_size=batch_size)\n",
        "print('Testing')\n",
        "model_mlp_multi_layer.evaluate(X_test,  Y_test, verbose=2)"
      ]
    },
    {
      "cell_type": "code",
      "execution_count": 49,
      "metadata": {},
      "outputs": [
        {
          "name": "stdout",
          "output_type": "stream",
          "text": [
            "1/1 [==============================] - 0s 84ms/step\n",
            "1/1 [==============================] - 0s 15ms/step\n",
            "1/1 [==============================] - 0s 17ms/step\n",
            "1/1 [==============================] - 0s 16ms/step\n",
            "1/1 [==============================] - 0s 16ms/step\n",
            "1/1 [==============================] - 0s 16ms/step\n",
            "1/1 [==============================] - 0s 15ms/step\n",
            "1/1 [==============================] - 0s 16ms/step\n",
            "1/1 [==============================] - 0s 15ms/step\n",
            "1/1 [==============================] - 0s 16ms/step\n"
          ]
        },
        {
          "data": {
            "image/png": "[encoded data removed]",
            "text/plain": [
              "<Figure size 1000x600 with 10 Axes>"
            ]
          },
          "metadata": {},
          "output_type": "display_data"
        }
      ],
      "source": [
        "test_mnist_images(model_mlp_multi_layer,X_test)"
      ]
    },
    {
      "cell_type": "markdown",
      "metadata": {
        "id": "Y2CWgKZeRHA2"
      },
      "source": [
        "#### Documentation:\n",
        "\n",
        "  - http://www.tensorflow.org\n",
        "  - http://www.deeplearningbook.org/"
      ]
    }
  ],
  "metadata": {
    "accelerator": "GPU",
    "colab": {
      "provenance": []
    },
    "kernelspec": {
      "display_name": "Python 3",
      "language": "python",
      "name": "python3"
    },
    "language_info": {
      "codemirror_mode": {
        "name": "ipython",
        "version": 3
      },
      "file_extension": ".py",
      "mimetype": "text/x-python",
      "name": "python",
      "nbconvert_exporter": "python",
      "pygments_lexer": "ipython3",
      "version": "3.9.7"
    }
  },
  "nbformat": 4,
  "nbformat_minor": 0
}
