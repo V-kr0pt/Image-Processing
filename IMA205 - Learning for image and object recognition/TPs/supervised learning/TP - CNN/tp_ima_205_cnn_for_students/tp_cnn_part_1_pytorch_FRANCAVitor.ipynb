{
  "nbformat": 4,
  "nbformat_minor": 0,
  "metadata": {
    "kernelspec": {
      "name": "python3",
      "display_name": "Python 3"
    },
    "language_info": {
      "codemirror_mode": {
        "name": "ipython",
        "version": 3
      },
      "file_extension": ".py",
      "mimetype": "text/x-python",
      "name": "python",
      "nbconvert_exporter": "python",
      "pygments_lexer": "ipython3",
      "version": "3.7.4"
    },
    "colab": {
      "provenance": []
    },
    "accelerator": "GPU"
  },
  "cells": [
    {
      "cell_type": "markdown",
      "metadata": {
        "id": "Es_iHEzxW190"
      },
      "source": [
        "# TP Coding Convolutional Neural Networks in Pytorch - part 1\n",
        "\n",
        "For any remark or suggestion, please feel free to contact me at:\n",
        "\n",
        "- alasdair.newson@telecom-paris.fr\n",
        "\n",
        "### Objective:\n",
        "\n",
        "We want to implement a Convolutional Neural Network (CNN) for image recognition. For this we will use two well-known datasets, the first simpler and the second more complicated :\n",
        "\n",
        "- MNIST (images of digits)\n",
        "- CIFAR-10 dataset https://www.cs.toronto.edu/~kriz/cifar.html.\n",
        "\n",
        "The CIFAR-10 dataset consists of 60000 32x32 colour images in 10 classes, with 6000 images per class. There are 50000 training images and 10000 test images.\n",
        "\n",
        "We will first code the simple ConvNet described below using the Pytorch environment : https://pytorch.org/.\n",
        "\n",
        "- In general, the input of a classification CNN is a set of (c,m,n) image tensors, where are the image sizes, and c is the number of channels of the image. For mnist, the number of channels is c=1, and for CIFAR10, it is c=3.\n",
        "- For the first case of mnist images, we apply the following layers: \n",
        "    - a Convolutional layer of 32 filters of shape (3,3), with stride (1,1) and padding='same' (i.e. we apply zero-padding)\n",
        "    - additive biases\n",
        "    - a ReLu activation function\n",
        "    - a Convolutional layer of 32 filters of shape (3,3), with stride (1,1) and padding='same' (i.e. we apply zero-padding)\n",
        "    - additive biases\n",
        "    - a ReLu activation function\n",
        "    - a Max Pooling Layer of shape (2,2) and stride (2,2) (i.e. we reduce by two the size in each dimension)\n",
        "    - We then Flatten the data (reduce them to a vector in order to be able to apply a Fully-Connected layer to it)\n",
        "    - A softmax activation function which outputs are the $P(y_c | X)$ (multi-class problem)\n",
        "\n",
        "Here is a visual example of the above architecture, with c=3:\n",
        "\n",
        "<IMG SRC='https://perso.telecom-paristech.fr/anewson/doc/ima_205/images/TP_ima_CNN.png'>\n",
        "        \n",
        "### Your task:\n",
        "You need to add the missing parts in the code (parts between # --- START CODE HERE and # --- END CODE HERE)"
      ]
    },
    {
      "cell_type": "markdown",
      "metadata": {
        "id": "Cgyu2GBVW192"
      },
      "source": [
        "# Load packages"
      ]
    },
    {
      "cell_type": "code",
      "metadata": {
        "id": "1Qj5KY79W192"
      },
      "source": [
        "%matplotlib inline\n",
        "import matplotlib.pyplot as plt\n",
        "import numpy as np\n",
        "\n",
        "import torch\n",
        "import torch.nn as nn\n",
        "import torch.nn.functional as F\n",
        "import torch.optim as optim\n",
        "import torchvision.datasets as datasets\n",
        "import torchvision.transforms as transforms"
      ],
      "execution_count": null,
      "outputs": []
    },
    {
      "cell_type": "code",
      "source": [
        "from google.colab import drive\n",
        "drive.mount('/content/drive')"
      ],
      "metadata": {
        "colab": {
          "base_uri": "https://localhost:8080/"
        },
        "id": "hGN4joBYZBzS",
        "outputId": "4be048b5-a524-44ee-a834-42cb6412f3a7"
      },
      "execution_count": null,
      "outputs": [
        {
          "output_type": "stream",
          "name": "stdout",
          "text": [
            "Drive already mounted at /content/drive; to attempt to forcibly remount, call drive.mount(\"/content/drive\", force_remount=True).\n"
          ]
        }
      ]
    },
    {
      "cell_type": "markdown",
      "source": [
        "### CNN model in Pytorch\n",
        "\n",
        "There are several ways to write a CNN model in pytorch. In this lab, you will be using the _Sequential_ class of pytorch (similarly to Tensorflow). We will see the syntax further on.\n",
        "\n"
      ],
      "metadata": {
        "id": "OHJ17JDiliHA"
      }
    },
    {
      "cell_type": "markdown",
      "metadata": {
        "id": "Q_S76Wi_W199"
      },
      "source": [
        "## Import data\n",
        "\n",
        "We first import MNIST dataset. We use the ```torch.utils.data.DataLoader``` function of Pytorch to easily iterate over mini-batches of data."
      ]
    },
    {
      "cell_type": "code",
      "metadata": {
        "id": "BrYw9LK9W19-",
        "colab": {
          "base_uri": "https://localhost:8080/"
        },
        "outputId": "e149c0c0-c671-4551-a664-468795850cd8"
      },
      "source": [
        "# convert input to Pytorch tensors\n",
        "input_transform=transforms.Compose( [transforms.ToTensor()])\n",
        "# extract mnist data\n",
        "mnist_trainset = datasets.MNIST(root='./data',train=True,download=True,transform=input_transform)\n",
        "print(mnist_trainset)\n",
        "\n",
        "#create data loader with smaller dataset size\n",
        "max_mnist_size = 1000\n",
        "mnist_trainset_reduced = torch.utils.data.random_split(mnist_trainset, [max_mnist_size, len(mnist_trainset)-max_mnist_size])[0] \n",
        "mnist_train_loader = torch.utils.data.DataLoader(mnist_trainset_reduced, batch_size=256, shuffle=True)\n",
        "\n",
        "# download test dataset\n",
        "mnist_testset = datasets.MNIST(root='./data',train=False,download=True,transform=input_transform)\n",
        "mnist_test_loader = torch.utils.data.DataLoader(mnist_testset, batch_size=256, shuffle=True)\n",
        "\n",
        "# extract the actual data and labels\n",
        "X_train = torch.unsqueeze(mnist_trainset.data,axis=1)[0:max_mnist_size]/255.0\n",
        "Y_train = mnist_trainset.targets[0:max_mnist_size]\n",
        "X_test = torch.unsqueeze(mnist_testset.data,axis=1)/255.0\n",
        "Y_test = mnist_testset.targets\n"
      ],
      "execution_count": null,
      "outputs": [
        {
          "output_type": "stream",
          "name": "stdout",
          "text": [
            "Dataset MNIST\n",
            "    Number of datapoints: 60000\n",
            "    Root location: ./data\n",
            "    Split: Train\n",
            "    StandardTransform\n",
            "Transform: Compose(\n",
            "               ToTensor()\n",
            "           )\n"
          ]
        }
      ]
    },
    {
      "cell_type": "markdown",
      "source": [
        "### Exploring the data\n",
        "\n",
        "The mnist data is downloaded into ```mnist_trainset```. We can explore the dataset manually, although when we will train it, we will use the ```DataLoader``` of Pytorch. ```torch.utils.data.DataLoader``` is a useful function to extract batches of data from a dataset, applying the transformations which we have specified (conversion to Pytorch tensor, normalisation etc).\n",
        "\n",
        "The images are contained in a sub-structure of ```mnist_trainset``` called ```data```. The labels are contained in another sub-structure of ```mnist_trainset``` called ```targets```. Note that these are kept in their native format (the transformations are not applied to them), so to use them we have to apply the transformation manually, as above.\n",
        "\n",
        "__NOTE__ In general, if you want to find out what a structure contains, use the command ```dir()```, this will give you a list of the sub-structures."
      ],
      "metadata": {
        "id": "Ss6fBjWrAS4U"
      }
    },
    {
      "cell_type": "code",
      "source": [
        "print(dir(mnist_trainset))\n",
        "\n",
        "print(\"Size of training data : \", mnist_trainset.data.shape)\n",
        "print(\"Size of training labels : \", mnist_trainset.targets.shape)\n"
      ],
      "metadata": {
        "id": "rMqnFhbH9bcq",
        "colab": {
          "base_uri": "https://localhost:8080/"
        },
        "outputId": "4b8fe62e-8b2b-47ac-849f-d8a47c22895f"
      },
      "execution_count": null,
      "outputs": [
        {
          "output_type": "stream",
          "name": "stdout",
          "text": [
            "['__add__', '__class__', '__class_getitem__', '__delattr__', '__dict__', '__dir__', '__doc__', '__eq__', '__format__', '__ge__', '__getattribute__', '__getitem__', '__gt__', '__hash__', '__init__', '__init_subclass__', '__le__', '__len__', '__lt__', '__module__', '__ne__', '__new__', '__orig_bases__', '__parameters__', '__reduce__', '__reduce_ex__', '__repr__', '__setattr__', '__sizeof__', '__slots__', '__str__', '__subclasshook__', '__weakref__', '_check_exists', '_check_legacy_exist', '_format_transform_repr', '_is_protocol', '_load_data', '_load_legacy_data', '_repr_indent', 'class_to_idx', 'classes', 'data', 'download', 'extra_repr', 'mirrors', 'processed_folder', 'raw_folder', 'resources', 'root', 'target_transform', 'targets', 'test_data', 'test_file', 'test_labels', 'train', 'train_data', 'train_labels', 'training_file', 'transform', 'transforms']\n",
            "Size of training data :  torch.Size([60000, 28, 28])\n",
            "Size of training labels :  torch.Size([60000])\n"
          ]
        }
      ]
    },
    {
      "cell_type": "markdown",
      "metadata": {
        "id": "MnTkYmu-W1-E"
      },
      "source": [
        "The mnist dataset has 10 classes. These are the following :"
      ]
    },
    {
      "cell_type": "code",
      "metadata": {
        "id": "kvJ7McU7W1-F"
      },
      "source": [
        "mnist_list = [ '0', '1','2','3','4','5','6','7','8','9']"
      ],
      "execution_count": null,
      "outputs": []
    },
    {
      "cell_type": "markdown",
      "metadata": {
        "id": "6f_7d1NnW1-L"
      },
      "source": [
        "### Display some of the images"
      ]
    },
    {
      "cell_type": "code",
      "metadata": {
        "id": "9OcnfCwbW1-M",
        "colab": {
          "base_uri": "https://localhost:8080/",
          "height": 468
        },
        "outputId": "a0377c62-5ee1-4965-c904-fba1bc0b1bd9"
      },
      "source": [
        "plt.figure(figsize=(10, 6))\n",
        "for idx in range(0,10):\n",
        "    plt.subplot(2, 5, idx+1)\n",
        "    rand_ind = np.random.randint(0,mnist_trainset.data.shape[0])\n",
        "    plt.imshow(mnist_trainset.data[rand_ind,:,:],cmap='gray')\n",
        "    plt.title(mnist_list[int(mnist_trainset.targets[rand_ind])])"
      ],
      "execution_count": null,
      "outputs": [
        {
          "output_type": "display_data",
          "data": {
            "text/plain": [
              "<Figure size 1000x600 with 10 Axes>"
            ],
            "image/png": "[encoded data removed]"
          },
          "metadata": {}
        }
      ]
    },
    {
      "cell_type": "markdown",
      "source": [
        "## Defining the model for MNIST\n",
        "\n",
        "We will now define the simple CNN described above, for use with MNIST. The input of the CNN is a set of (28,28,1) image tensors. We apply the following layers:\n",
        "\n",
        "    - a Convolutional layer of 32 filters of shape (3,3), with stride (1,1) and padding='same'\n",
        "    - a ReLu activation function\n",
        "    \n",
        "    - a Convolutional layer of 32 filters of shape (3,3), with stride (1,1) and padding='same'\n",
        "    - a ReLu activation function\n",
        "    - a Max Pooling Layer of shape (2,2) and stride (2,2) (i.e. we reduce by two the size in each dimension)\n",
        "    \n",
        "    - We then Flatten the data: reduce them to a vector in order to be able to apply a Fully-Connected layer to it\n",
        "    - Dense (fully connected) layer. Note, you will have to determine the input size, that is to say the number of elements after the last Max Pooling layer.\n",
        "\n",
        "__VERY IMPORTANT NOTE !!!__\n",
        "\n",
        "Pytorch carries out the softmax which we would expect at the end of our network automatically, so there is no need to add it. Nevertheless, you must understand that the output is a vector which is _not_ normalised to be a probability distributuion. This will be important later on.\n",
        "\n",
        "Now, we define the following hyper-parameters of the model :"
      ],
      "metadata": {
        "id": "YzRfY8QTBIX-"
      }
    },
    {
      "cell_type": "code",
      "source": [
        "learning_rate = 0.01\n",
        "n_epochs = 10\n",
        "batch_size = 64\n",
        "nb_classes = int(mnist_trainset.targets.max()+1)\n",
        "\n",
        "# number of convolutional filters to use\n",
        "nb_filters = 32\n",
        "# convolution kernel size\n",
        "kernel_size = (3, 3)\n",
        "# size of pooling area for max pooling\n",
        "pool_size = (2, 2)\n",
        "\n",
        "# --- Size of the successive layers\n",
        "n_h_0 = 1 #greyscale input images\n",
        "n_h_1 = nb_filters\n",
        "n_h_2 = nb_filters"
      ],
      "metadata": {
        "id": "3T9d8TYFBONz"
      },
      "execution_count": null,
      "outputs": []
    },
    {
      "cell_type": "markdown",
      "metadata": {
        "id": "5MOihxZ-W1-W"
      },
      "source": [
        "# 1. Model 1 : defining a CNN with the Sequential API of Pytorch for MNIST\n",
        "\n",
        "We are now going to create the CNN with Pytorch.\n",
        "\n",
        "The Sequential approach is quite similar to that of Tensorflow. To define a model, just write:\n",
        "\n",
        "```my_model = torch.nn.Sequential( first_layer, second_layer, ...)```\n",
        "\n",
        "Each layer must be a function imported from the Pytorch. You can use the following functions:\n",
        "\n",
        "- ```torch.nn.Conv2d()```\n",
        "- ```torch.nn.ReLU()```\n",
        "- ```torch.nn.MaxPool2d()```\n",
        "- ```torch.nn.Flatten()```\n",
        "- ```torch.nn.Linear()```\n",
        "\n",
        "Look at the documentation online to find the correct parameters. For example:\n",
        "\n",
        "- https://pytorch.org/docs/stable/generated/torch.nn.Conv2d.html\n"
      ]
    },
    {
      "cell_type": "code",
      "metadata": {
        "id": "npx-4C1SW1-X"
      },
      "source": [
        "# BEGIN STUDENT CODE\n",
        "#(28,28,1)\n",
        "mnist_model = torch.nn.Sequential(torch.nn.Conv2d(n_h_0, n_h_1, kernel_size, stride=1, padding='same'),\n",
        "                                  torch.nn.ReLU(), \n",
        "                                  torch.nn.Conv2d(n_h_1, n_h_2, kernel_size, stride=1, padding='same'),\n",
        "                                  torch.nn.ReLU(), \n",
        "                                  torch.nn.MaxPool2d(pool_size),                                \n",
        "                                  torch.nn.Flatten(),\n",
        "                                  torch.nn.Linear(28*28*(3*3-1),nb_classes)                                  \n",
        "                                )\n",
        "# END STUDENT CODE"
      ],
      "execution_count": null,
      "outputs": []
    },
    {
      "cell_type": "markdown",
      "source": [
        "### Define loss function and optimiser\n",
        "\n",
        "Pytorch provides an easy way to define the loss criterion to optimise. The syntax is (considering that the Adam optimiser is used):\n",
        "\n",
        "- ```criterion = torch.nn.BCELoss()``` or ```criterion = torch.nn.CrossEntropyLoss()```, etc., depending on your problem.\n",
        "- ```optimizer = torch.optim.Adam(mnist_model.parameters(), lr=learning_rate)```\n",
        "\n",
        "Fill in the following code, choosing the correct criterion to optimise."
      ],
      "metadata": {
        "id": "7FJS2SGeEwHF"
      }
    },
    {
      "cell_type": "code",
      "source": [
        "# BEGIN STUDENT CODE \n",
        "criterion = torch.nn.CrossEntropyLoss()\n",
        "optimizer = torch.optim.Adam(mnist_model.parameters(), lr=learning_rate)\n",
        "# END STUDENT CODE"
      ],
      "metadata": {
        "id": "AK1pxqFCE090"
      },
      "execution_count": null,
      "outputs": []
    },
    {
      "cell_type": "markdown",
      "source": [
        "### CNN prediction conversion\n",
        "\n",
        "We recall here that the output of the classification CNN in Pytorch is a vector which is __NOT__ normalised to be a probability distribution. Therefore, for the purposes of finding the prediction of the CNN, we create a function which first converts an input vector to a probability distribution, and then determines the most likely class for each vector. The output should be, for each vector, an integer between 0 and (number of classes) $-1$.\n",
        "\n",
        "The inputs to this function will be Pytorch tensors, so you can use the following Pytorch functions on them :\n",
        "\n",
        "- ```torch.nn.Softmax()```\n",
        "- ```torch.argmax()```\n",
        "\n",
        "Create this function now."
      ],
      "metadata": {
        "id": "42zy2XwsNfTQ"
      }
    },
    {
      "cell_type": "code",
      "source": [
        "def vector_to_class(x):\n",
        "  # BEGIN STUDENT CODE\n",
        "  softmax = torch.nn.Softmax(dim=1) \n",
        "  y = torch.argmax(softmax(x), dim=1)\n",
        "  # END STUDENT CODE\n",
        "  return y"
      ],
      "metadata": {
        "id": "TqCPink-N1LB"
      },
      "execution_count": null,
      "outputs": []
    },
    {
      "cell_type": "markdown",
      "source": [
        "### Accuracy\n",
        "\n",
        "Now, define a function which calcualtes the accuracy of the output of the neural network, with respect to the input labels. We consider that the input is a vector of class numbers (the final prediction of the CNN)."
      ],
      "metadata": {
        "id": "sYzRpoTgGhpG"
      }
    },
    {
      "cell_type": "code",
      "source": [
        "def cnn_accuracy(predict,labels):\n",
        "  # BEGIN STUDENT CODE\n",
        "  accuracy = (labels == predict).sum()/len(labels)\n",
        "  # END STUDENT CODE\n",
        "  return accuracy"
      ],
      "metadata": {
        "id": "f4V5LKDhGsQT"
      },
      "execution_count": null,
      "outputs": []
    },
    {
      "cell_type": "markdown",
      "metadata": {
        "id": "ljHi0tfiW1-h"
      },
      "source": [
        "## Training the model\n",
        "\n",
        "Now, we carry out the actual training of the model."
      ]
    },
    {
      "cell_type": "code",
      "metadata": {
        "id": "HVe9ZWAdW1-h",
        "colab": {
          "base_uri": "https://localhost:8080/"
        },
        "outputId": "bbe73ac4-344f-4d21-da76-667d78683f8a"
      },
      "source": [
        "\n",
        "train_losses=[]\n",
        "valid_losses=[]\n",
        "\n",
        "for epoch in range(0,n_epochs):\n",
        "  train_loss=0.0\n",
        "\n",
        "  for batch_idx, (imgs, labels) in enumerate(mnist_train_loader):\n",
        "\n",
        "    # set the gradients back to 0\n",
        "    optimizer.zero_grad()\n",
        "    predict = mnist_model(imgs) # FILL IN STUDENT\n",
        "    # apply loss function\n",
        "    loss = criterion(predict,labels)\n",
        "    # backpropagation\n",
        "    loss.backward()\n",
        "    optimizer.step()\n",
        "    train_loss=loss.item()\n",
        "  print('Epoch:{} Train Loss:{:.4f}'.format(epoch,train_loss/imgs.shape[0]))\n",
        "  # calculate accuracy\n",
        "\n",
        "  print('Accuracy:{:.4f}'.format(cnn_accuracy(vector_to_class(predict),labels)))"
      ],
      "execution_count": null,
      "outputs": [
        {
          "output_type": "stream",
          "name": "stdout",
          "text": [
            "Epoch:0 Train Loss:0.0094\n",
            "Accuracy:0.5129\n",
            "Epoch:1 Train Loss:0.0069\n",
            "Accuracy:0.6121\n",
            "Epoch:2 Train Loss:0.0033\n",
            "Accuracy:0.7414\n",
            "Epoch:3 Train Loss:0.0024\n",
            "Accuracy:0.8233\n",
            "Epoch:4 Train Loss:0.0017\n",
            "Accuracy:0.8750\n",
            "Epoch:5 Train Loss:0.0012\n",
            "Accuracy:0.9138\n",
            "Epoch:6 Train Loss:0.0012\n",
            "Accuracy:0.9224\n",
            "Epoch:7 Train Loss:0.0006\n",
            "Accuracy:0.9483\n",
            "Epoch:8 Train Loss:0.0006\n",
            "Accuracy:0.9655\n",
            "Epoch:9 Train Loss:0.0002\n",
            "Accuracy:0.9871\n"
          ]
        }
      ]
    },
    {
      "cell_type": "code",
      "source": [
        "# Calculate accuracy on the training set and the test set\n",
        "\n",
        "# BEGIN FILL IN STUDENT (use X_train, Y_train, X_test, Y_test)\n",
        "predict_train = mnist_model(X_train)\n",
        "predict_test = mnist_model(X_test)\n",
        "\n",
        "train_accuracy = cnn_accuracy(vector_to_class(predict_train), Y_train)\n",
        "test_accuracy = cnn_accuracy(vector_to_class(predict_test), Y_test)\n",
        "# END FILL IN STUDENT\n",
        "print(\"Train Accuracy:\", train_accuracy)\n",
        "print(\"Test Accuracy:\", test_accuracy)\n",
        "\n",
        "    "
      ],
      "metadata": {
        "id": "rOsF40hkEqx1",
        "colab": {
          "base_uri": "https://localhost:8080/"
        },
        "outputId": "5ede2b50-6df3-48d0-be96-03cb366c9fea"
      },
      "execution_count": null,
      "outputs": [
        {
          "output_type": "stream",
          "name": "stdout",
          "text": [
            "Train Accuracy: tensor(0.9190)\n",
            "Test Accuracy: tensor(0.9292)\n"
          ]
        }
      ]
    },
    {
      "cell_type": "code",
      "source": [
        "print(\"Visual results : \")\n",
        "\n",
        "plt.figure(figsize=(10, 6))\n",
        "for idx in range(0,10):\n",
        "    plt.subplot(2, 5, idx+1)\n",
        "    rand_ind = np.random.randint(0,X_test.shape[0])\n",
        "    test_img = torch.unsqueeze(X_test[rand_ind,:,:,:],axis=1)\n",
        "    predicted_class = vector_to_class(mnist_model(test_img))\n",
        "    plt.imshow(test_img.squeeze(),cmap='gray')\n",
        "    plt.title(mnist_list[int(predicted_class)])"
      ],
      "metadata": {
        "id": "cRxCNvMO5Yzm",
        "colab": {
          "base_uri": "https://localhost:8080/",
          "height": 485
        },
        "outputId": "eb2c2eda-e8d2-4fa7-cef2-216c1aeeb291"
      },
      "execution_count": null,
      "outputs": [
        {
          "output_type": "stream",
          "name": "stdout",
          "text": [
            "Visual results : \n"
          ]
        },
        {
          "output_type": "display_data",
          "data": {
            "text/plain": [
              "<Figure size 1000x600 with 10 Axes>"
            ],
            "image/png": "[encoded data removed]"
          },
          "metadata": {}
        }
      ]
    },
    {
      "cell_type": "markdown",
      "metadata": {
        "id": "M5D5BY20W1-m"
      },
      "source": [
        "## Model 2: create a CNN on CIFAR10\n",
        "\n",
        "We are now going to train the same network architecture on a more difficult dataset : CIFAR10\n",
        "\n",
        "First, we import the CIFAR10 data and carry out some pre-processing :"
      ]
    },
    {
      "cell_type": "code",
      "metadata": {
        "id": "k15abDeRW1-m",
        "colab": {
          "base_uri": "https://localhost:8080/"
        },
        "outputId": "8e17b49c-df1c-4ac2-cbda-f368245828e3"
      },
      "source": [
        "# convert input to Pytorch tensors\n",
        "input_transform = transforms.Compose( [transforms.ToTensor()])\n",
        "\n",
        "# extract cifar10 data\n",
        "cifar_trainset = datasets.CIFAR10(root='./data',train=True,download=True,transform=input_transform)\n",
        "print(cifar_trainset)\n",
        "\n",
        "#create data loader with smaller dataset size\n",
        "max_cifar_size = 2000\n",
        "cifar_trainset_reduced = torch.utils.data.random_split(cifar_trainset, [max_cifar_size, len(cifar_trainset)-max_cifar_size])[0] \n",
        "cifar_train_loader = torch.utils.data.DataLoader(cifar_trainset_reduced, batch_size=256, shuffle=True)\n",
        "\n",
        "# download test dataset\n",
        "cifar_testset = datasets.CIFAR10(root='./data',train=False,download=True,transform=input_transform)\n",
        "cifar_test_loader = torch.utils.data.DataLoader(cifar_testset, batch_size=256, shuffle=True)\n",
        "\n",
        "# extract the actual data and labels\n",
        "X_train = cifar_trainset.data[0:max_cifar_size]/255.0\n",
        "Y_train = cifar_trainset.targets[0:max_cifar_size]\n",
        "X_test = cifar_testset.data/255.0\n",
        "Y_test = cifar_testset.targets\n",
        "\n",
        "nb_channels = X_train.shape[-1]\n"
      ],
      "execution_count": null,
      "outputs": [
        {
          "output_type": "stream",
          "name": "stdout",
          "text": [
            "Files already downloaded and verified\n",
            "Dataset CIFAR10\n",
            "    Number of datapoints: 50000\n",
            "    Root location: ./data\n",
            "    Split: Train\n",
            "    StandardTransform\n",
            "Transform: Compose(\n",
            "               ToTensor()\n",
            "           )\n",
            "Files already downloaded and verified\n"
          ]
        }
      ]
    },
    {
      "cell_type": "code",
      "source": [
        "# the CIFAR10 categories\n",
        "cifar_10_list = [ 'airplane', 'automobile','bird','cat','deer','dog','frog','horse','ship','truck']\n",
        "\n",
        "#modify the number of input channels \n",
        "n_h_0 = nb_channels\n",
        "# add more epochs\n",
        "n_epochs = 30"
      ],
      "metadata": {
        "id": "5Al5b-S37T4A"
      },
      "execution_count": null,
      "outputs": []
    },
    {
      "cell_type": "markdown",
      "metadata": {
        "id": "WpM3zdF_W1-x"
      },
      "source": [
        "### Display some of the images"
      ]
    },
    {
      "cell_type": "code",
      "metadata": {
        "id": "PeFaoz2AW1-y",
        "colab": {
          "base_uri": "https://localhost:8080/",
          "height": 468
        },
        "outputId": "0f9b1a4b-c277-490b-ddd9-0d3190555a86"
      },
      "source": [
        "plt.figure(figsize=(10, 6))\n",
        "for idx in range(0,10):\n",
        "    plt.subplot(2, 5, idx+1)\n",
        "    rand_ind = np.random.randint(0,X_test.shape[0])\n",
        "    plt.imshow(X_test[rand_ind,:,:,:])\n",
        "    plt.title(cifar_10_list[int(Y_test[rand_ind])])"
      ],
      "execution_count": null,
      "outputs": [
        {
          "output_type": "display_data",
          "data": {
            "text/plain": [
              "<Figure size 1000x600 with 10 Axes>"
            ],
            "image/png": "[encoded data removed]"
          },
          "metadata": {}
        }
      ]
    },
    {
      "cell_type": "markdown",
      "metadata": {
        "id": "XrGI_L3OW1-3"
      },
      "source": [
        "## Define the architecture again, for CIFAR10\n",
        "\n",
        "In this case, we are going to add a layer because the data is more complex. Therefore, we use the following architecture :\n",
        "\n",
        "    - a Convolutional layer of 32 filters of shape (3,3), with stride (1,1) and padding='same'\n",
        "    - additive biases\n",
        "    - a ReLu activation function\n",
        "    \n",
        "    - a Convolutional layer of 32 filters of shape (3,3), with stride (1,1) and padding='same'\n",
        "    - additive biases\n",
        "    - a ReLu activation function\n",
        "    - a Max Pooling Layer of shape (2,2) and stride (2,2) (i.e. we reduce by two the size in each dimension)\n",
        "    \n",
        "    - a Convolutional layer of 32 filters of shape (3,3), with stride (1,1) and padding='same'\n",
        "    - additive biases\n",
        "    - a ReLu activation function\n",
        "    - a Max Pooling Layer of shape (2,2) and stride (2,2) (i.e. we reduce by two the size in each dimension)\n",
        "    \n",
        "    - We then Flatten the data (reduce them to a vector in order to be able to apply a Fully-Connected layer to it)\n",
        "    - Dense (fully connected) layer. Note, you will have to determine the input size, that is to say the number of elements after the last Max Pooling layer.\n",
        "    - ReLU activation function\n",
        "    - Dense (fully connected) layer"
      ]
    },
    {
      "cell_type": "code",
      "metadata": {
        "id": "OEs-EnXLW1-4"
      },
      "source": [
        "\n",
        "learning_rate = 0.01\n",
        "n_epochs = 50\n",
        "batch_size = 64\n",
        "\n",
        "# number of convolutional filters to use\n",
        "nb_filters = 32\n",
        "# convolution kernel size\n",
        "kernel_size = (3, 3)\n",
        "# size of pooling area for max pooling\n",
        "pool_size = (2, 2)\n",
        "\n",
        "\n",
        "# --- Size of the successive layers\n",
        "n_h_0 = nb_channels\n",
        "n_h_1 = nb_filters\n",
        "n_h_2 = nb_filters\n",
        "n_h_3 = nb_filters"
      ],
      "execution_count": null,
      "outputs": []
    },
    {
      "cell_type": "markdown",
      "metadata": {
        "id": "I0ACZkTFW1-7"
      },
      "source": [
        "Now, modify the previous code (you can copy/paste/modify the necessary parts) to define the model for CIFAR10."
      ]
    },
    {
      "cell_type": "code",
      "metadata": {
        "id": "RmbX6oq0W1-7"
      },
      "source": [
        "# BEGIN STUDENT CODE\n",
        "nb_classes = len(cifar_10_list)\n",
        "dense_shape = 32*32*(3*3-1)//(2*2)\n",
        "\n",
        "cifar_model = torch.nn.Sequential(torch.nn.Conv2d(n_h_0, n_h_1, kernel_size, stride=1, padding='same'),\n",
        "                                  torch.nn.ReLU(),\n",
        "                                  torch.nn.Conv2d(n_h_1, n_h_2, kernel_size, stride=1, padding='same'),\n",
        "                                  torch.nn.ReLU(),\n",
        "                                  torch.nn.MaxPool2d(pool_size, stride=2),\n",
        "                                  torch.nn.Conv2d(n_h_2, n_h_3, kernel_size, stride=1, padding='same'),\n",
        "                                  torch.nn.ReLU(),\n",
        "                                  torch.nn.MaxPool2d(pool_size, stride=2),\n",
        "                                  torch.nn.Flatten(),\n",
        "                                  torch.nn.Linear(dense_shape, dense_shape),\n",
        "                                  torch.nn.ReLU(),\n",
        "                                  torch.nn.Linear(dense_shape, nb_classes)\n",
        "                                  )\n",
        "\n",
        "criterion = torch.nn.CrossEntropyLoss()\n",
        "optimizer = torch.optim.Adam(mnist_model.parameters(), lr=learning_rate)\n",
        "# END STUDENT CODE"
      ],
      "execution_count": null,
      "outputs": []
    },
    {
      "cell_type": "markdown",
      "source": [
        "Now, carry out training on the CIFAR10 dataset (use the previous code as an example)."
      ],
      "metadata": {
        "id": "KUmQKIEe8_QU"
      }
    },
    {
      "cell_type": "code",
      "source": [
        "# BEGIN STUDENT CODE\n",
        "\n",
        "train_losses=[]\n",
        "valid_losses=[]\n",
        "\n",
        "for epoch in range(0,n_epochs):\n",
        "  train_loss=0.0\n",
        "\n",
        "  for batch_idx, (imgs, labels) in enumerate(cifar_test_loader):\n",
        "\n",
        "    # set the gradients back to 0\n",
        "    optimizer.zero_grad()\n",
        "    predict = cifar_model(imgs) # FILL IN STUDENT\n",
        "    # apply loss function\n",
        "    loss = criterion(predict,labels)\n",
        "    # backpropagation\n",
        "    loss.backward()\n",
        "    optimizer.step()\n",
        "    train_loss=loss.item()\n",
        "  print('Epoch:{} Train Loss:{:.4f}'.format(epoch,train_loss/imgs.shape[0]))\n",
        "  # calculate accuracy\n",
        "\n",
        "  print('Accuracy:{:.4f}'.format(cnn_accuracy(vector_to_class(predict),labels)))\n",
        "# END STUDENT CODE"
      ],
      "metadata": {
        "id": "pyEwLnLR9gv0",
        "colab": {
          "base_uri": "https://localhost:8080/"
        },
        "outputId": "e118677b-3866-42ee-de34-4d608d063773"
      },
      "execution_count": null,
      "outputs": [
        {
          "output_type": "stream",
          "name": "stdout",
          "text": [
            "Epoch:0 Train Loss:0.1435\n",
            "Accuracy:0.1250\n",
            "Epoch:1 Train Loss:0.1437\n",
            "Accuracy:0.0625\n",
            "Epoch:2 Train Loss:0.1440\n",
            "Accuracy:0.0625\n",
            "Epoch:3 Train Loss:0.1440\n",
            "Accuracy:0.0625\n",
            "Epoch:4 Train Loss:0.1438\n",
            "Accuracy:0.0625\n",
            "Epoch:5 Train Loss:0.1439\n",
            "Accuracy:0.0625\n",
            "Epoch:6 Train Loss:0.1441\n",
            "Accuracy:0.1875\n",
            "Epoch:7 Train Loss:0.1434\n",
            "Accuracy:0.2500\n",
            "Epoch:8 Train Loss:0.1440\n",
            "Accuracy:0.1250\n",
            "Epoch:9 Train Loss:0.1443\n",
            "Accuracy:0.0625\n",
            "Epoch:10 Train Loss:0.1437\n",
            "Accuracy:0.1875\n",
            "Epoch:11 Train Loss:0.1443\n",
            "Accuracy:0.0000\n",
            "Epoch:12 Train Loss:0.1442\n",
            "Accuracy:0.0000\n",
            "Epoch:13 Train Loss:0.1436\n",
            "Accuracy:0.0625\n",
            "Epoch:14 Train Loss:0.1440\n",
            "Accuracy:0.1875\n",
            "Epoch:15 Train Loss:0.1436\n",
            "Accuracy:0.1875\n",
            "Epoch:16 Train Loss:0.1437\n",
            "Accuracy:0.2500\n",
            "Epoch:17 Train Loss:0.1442\n",
            "Accuracy:0.1250\n",
            "Epoch:18 Train Loss:0.1437\n",
            "Accuracy:0.1875\n",
            "Epoch:19 Train Loss:0.1436\n",
            "Accuracy:0.2500\n",
            "Epoch:20 Train Loss:0.1439\n",
            "Accuracy:0.1875\n",
            "Epoch:21 Train Loss:0.1440\n",
            "Accuracy:0.1250\n",
            "Epoch:22 Train Loss:0.1440\n",
            "Accuracy:0.1250\n",
            "Epoch:23 Train Loss:0.1439\n",
            "Accuracy:0.0625\n",
            "Epoch:24 Train Loss:0.1440\n",
            "Accuracy:0.1250\n",
            "Epoch:25 Train Loss:0.1442\n",
            "Accuracy:0.0625\n",
            "Epoch:26 Train Loss:0.1440\n",
            "Accuracy:0.1250\n",
            "Epoch:27 Train Loss:0.1439\n",
            "Accuracy:0.1875\n",
            "Epoch:28 Train Loss:0.1441\n",
            "Accuracy:0.0000\n",
            "Epoch:29 Train Loss:0.1436\n",
            "Accuracy:0.1250\n",
            "Epoch:30 Train Loss:0.1437\n",
            "Accuracy:0.1875\n",
            "Epoch:31 Train Loss:0.1440\n",
            "Accuracy:0.0625\n",
            "Epoch:32 Train Loss:0.1435\n",
            "Accuracy:0.1875\n",
            "Epoch:33 Train Loss:0.1441\n",
            "Accuracy:0.0000\n",
            "Epoch:34 Train Loss:0.1438\n",
            "Accuracy:0.0625\n",
            "Epoch:35 Train Loss:0.1437\n",
            "Accuracy:0.0625\n",
            "Epoch:36 Train Loss:0.1439\n",
            "Accuracy:0.1250\n",
            "Epoch:37 Train Loss:0.1438\n",
            "Accuracy:0.1250\n",
            "Epoch:38 Train Loss:0.1439\n",
            "Accuracy:0.0625\n",
            "Epoch:39 Train Loss:0.1444\n",
            "Accuracy:0.0000\n",
            "Epoch:40 Train Loss:0.1435\n",
            "Accuracy:0.1250\n",
            "Epoch:41 Train Loss:0.1438\n",
            "Accuracy:0.0625\n",
            "Epoch:42 Train Loss:0.1438\n",
            "Accuracy:0.1250\n",
            "Epoch:43 Train Loss:0.1439\n",
            "Accuracy:0.1250\n",
            "Epoch:44 Train Loss:0.1434\n",
            "Accuracy:0.2500\n",
            "Epoch:45 Train Loss:0.1441\n",
            "Accuracy:0.1875\n",
            "Epoch:46 Train Loss:0.1439\n",
            "Accuracy:0.0625\n",
            "Epoch:47 Train Loss:0.1434\n",
            "Accuracy:0.0625\n",
            "Epoch:48 Train Loss:0.1441\n",
            "Accuracy:0.1250\n",
            "Epoch:49 Train Loss:0.1442\n",
            "Accuracy:0.0625\n"
          ]
        }
      ]
    },
    {
      "cell_type": "markdown",
      "metadata": {
        "id": "afxhSlTZW1_A"
      },
      "source": [
        " What do you think about the results (better or worse than MNIST) ? Why do you think this is ? How could you improve the results ?"
      ]
    },
    {
      "cell_type": "markdown",
      "source": [
        "The results are clearly worse than the ones from MNIST. This can be explained by the complexity of the database since there are more different cars than different types of ones, for exemple. The results could be improved by change some hyperparameters such as the learning rate (as we can see that it seems to be stuck in a local minimum) and the number of neurons in our dense layer."
      ],
      "metadata": {
        "id": "5Fhf7cX2By7d"
      }
    },
    {
      "cell_type": "markdown",
      "metadata": {
        "id": "sIvS5eHEW1_A"
      },
      "source": [
        "## Visualising the convolutional weights\n",
        "\n",
        "You can explore the network parameters easily with Pytorch. Indeed, your model ```cifar_model``` is simply a list of layers, thus you can access the first layer with :\n",
        "- ```cifar_model[0]```\n",
        "\n",
        "If you want to find out the contents of this layer, use :\n",
        "\n",
        "```dir(cifar_model[0])```\n",
        "\n",
        "In particular, the convolutional weights are contained in the ```weights``` sub-structure (a multi-dimensional array). Note that this weight's size is : \n",
        "\n",
        "- $[n_{filters}, y_{size}, x_{size},n_{channels}]$\n",
        "\n",
        "Now, display all (32) trained filters of the first convolutional layer, taking only the first channel of each filter :"
      ]
    },
    {
      "cell_type": "code",
      "source": [
        "plt.figure(figsize=(10, 6))\n",
        "for num in range(0,32):\n",
        "    plt.subplot(8, 4, num+1)\n",
        "    # --- START CODE HERE\n",
        "    plt.imshow( (cifar_model[0].weight[num, 0, :, :]).detach().numpy(),cmap='gray')\n",
        "    # --- END CODE HERE    "
      ],
      "metadata": {
        "id": "BahI3aUN-3fG",
        "colab": {
          "base_uri": "https://localhost:8080/",
          "height": 522
        },
        "outputId": "2a527ef7-7d80-4292-ce1f-38cc5bb2ae98"
      },
      "execution_count": null,
      "outputs": [
        {
          "output_type": "display_data",
          "data": {
            "text/plain": [
              "<Figure size 1000x600 with 32 Axes>"
            ],
            "image/png": "[encoded data removed]"
          },
          "metadata": {}
        }
      ]
    },
    {
      "cell_type": "code",
      "source": [
        "cifar_model[0].weight.shape"
      ],
      "metadata": {
        "colab": {
          "base_uri": "https://localhost:8080/"
        },
        "id": "5enFeIk3SOfH",
        "outputId": "b1071c89-1b89-4c00-dec5-a836eecf34ef"
      },
      "execution_count": null,
      "outputs": [
        {
          "output_type": "execute_result",
          "data": {
            "text/plain": [
              "torch.Size([32, 3, 3, 3])"
            ]
          },
          "metadata": {},
          "execution_count": 108
        }
      ]
    },
    {
      "cell_type": "markdown",
      "source": [
        "What do you think ? Pretty incomprehensible no ? Do not spend too long trying to interpret these filters, that way madness lies. Indeed, they say that you can find some researchers locked in their offices staring at convolutional filters, trying to find some semblance of meaning ...\n",
        "\n",
        "So, it seems that understanding a CNN by just looking at the filters is an exercise in futility. How can we do better ? Well, take a look at part 2 of the lab !"
      ],
      "metadata": {
        "id": "zX6yNSiKBXDH"
      }
    }
  ]
}