{
  "cells": [
    {
      "cell_type": "code",
      "execution_count": 205,
      "metadata": {
        "colab": {
          "base_uri": "https://localhost:8080/"
        },
        "id": "wyV4-NOCHcRe",
        "outputId": "11f3244f-a970-4be1-ee88-518b81119483"
      },
      "outputs": [],
      "source": [
        "#from google.colab import drive\n",
        "#drive.mount('/content/drive')"
      ]
    },
    {
      "cell_type": "code",
      "execution_count": 206,
      "metadata": {
        "id": "QgzAt1Tw0evD"
      },
      "outputs": [],
      "source": [
        "import numpy as np\n",
        "import random\n",
        "#import scipy.ndimage as ndim\n",
        "import imageio as io\n",
        "import matplotlib.pyplot as plt"
      ]
    },
    {
      "cell_type": "code",
      "execution_count": 207,
      "metadata": {
        "id": "qB3611P41Ht4"
      },
      "outputs": [],
      "source": [
        "##path for the image in my computer\n",
        "#path = './images/maison.tif'\n",
        "##loading a 32x32 pixels image\n",
        "#im_orig = io.imread(path)\n",
        "#plt.title('Original Image')\n",
        "#plt.imshow(im_orig, cmap='gray')"
      ]
    },
    {
      "cell_type": "code",
      "execution_count": 208,
      "metadata": {},
      "outputs": [
        {
          "data": {
            "text/plain": [
              "(2, 2)"
            ]
          },
          "execution_count": 208,
          "metadata": {},
          "output_type": "execute_result"
        },
        {
          "data": {
            "image/png": "[encoded data removed]",
            "text/plain": [
              "<Figure size 640x480 with 1 Axes>"
            ]
          },
          "metadata": {},
          "output_type": "display_data"
        }
      ],
      "source": [
        "# Creating an image\n",
        "u = 64*np.ones((2,2))\n",
        "u[1,1] = 255\n",
        "plt.imshow(u, cmap='gray')\n",
        "plt.title('Original Image')\n",
        "u.shape"
      ]
    },
    {
      "cell_type": "code",
      "execution_count": 209,
      "metadata": {},
      "outputs": [],
      "source": [
        "im_orig = u"
      ]
    },
    {
      "cell_type": "markdown",
      "metadata": {},
      "source": [
        "## DEFINING FUNCTIONS"
      ]
    },
    {
      "cell_type": "markdown",
      "metadata": {},
      "source": [
        "### grain centers"
      ]
    },
    {
      "cell_type": "code",
      "execution_count": 210,
      "metadata": {},
      "outputs": [],
      "source": [
        "def creat_grain_centers(im, r, e=0.01):\n",
        "  ''']\n",
        "    Return a list of grains centers position in image\n",
        "    The list dimention can be interpreted as: (pixel, grain in the pixel, grain_center_position (x,y))\n",
        "  '''\n",
        "  #image dimensions\n",
        "  dimx = im.shape[0]\n",
        "  dimy = im.shape[1]\n",
        "\n",
        "  #list for save centers\n",
        "  grain_center_list = []\n",
        "\n",
        "  #initializing normalized image\n",
        "  im_norm = np.zeros(im.shape)\n",
        "\n",
        "  #initializing array of lambdas  \n",
        "  lbd = np.zeros(im.shape)\n",
        "  \n",
        "  #for each image pixel\n",
        "  for i in range(dimx):\n",
        "    for j in range(dimy):\n",
        "\n",
        "      #image normalization\n",
        "      im_norm[i,j] = im[i,j]/(255 + e)\n",
        "\n",
        "      #piecewise constant lambda of Poisson Distribution for \n",
        "      lbd[i,j] = 1/(np.pi*r**2) * np.log10(1/(1-im_norm[i,j])) \n",
        "\n",
        "      Q = np.random.poisson(lbd[i,j]) #Quantity of grain for each pixel \n",
        "      x = [] #initializing list of grain centers\n",
        "\n",
        "      for _ in range(Q): \n",
        "        c_x = np.random.uniform(i, i+1) #random uniform distribution of position x \n",
        "        c_y = np.random.uniform(j, j+1) #random uniform distribution of position y\n",
        "        x.append((c_x,c_y)) #adding a tuple of sorted grain center \n",
        "      grain_center_list.append(x) #adding the list of grains centers to the final list\n",
        "  \n",
        "  return grain_center_list"
      ]
    },
    {
      "cell_type": "markdown",
      "metadata": {},
      "source": [
        "### grain image"
      ]
    },
    {
      "cell_type": "code",
      "execution_count": 211,
      "metadata": {
        "id": "7JuAvaKFYaGp"
      },
      "outputs": [],
      "source": [
        "#grain_image \n",
        "def grain_image(img_size, grain_centers, r, zoom=1):\n",
        "  '''\n",
        "    return the grained image\n",
        "  '''\n",
        "\n",
        "  new_sizex = zoom*img_size[0]\n",
        "  new_sizey = zoom*img_size[1]\n",
        "\n",
        "  grain_centers = grain_centers*zoom\n",
        "\n",
        "  #inicializing grains img\n",
        "  y = np.zeros((new_sizex,new_sizey)) \n",
        "  count = 0\n",
        "  #for each pixel on image\n",
        "  for i in range(new_sizex): \n",
        "    for j in range(new_sizey):\n",
        "      for center in grain_centers:\n",
        "        #if the pixel is in the circle, turn it white\n",
        "        dist = (center - np.array((i+0.5,j+0.5)))**2\n",
        "        dist = np.sum(dist)\n",
        "        if dist < (r*zoom)**2:\n",
        "          y[i,j] = 255\n",
        "          break\n",
        "      \n",
        "      \n",
        "  return y"
      ]
    },
    {
      "cell_type": "markdown",
      "metadata": {},
      "source": [
        "## Final image"
      ]
    },
    {
      "cell_type": "code",
      "execution_count": 215,
      "metadata": {},
      "outputs": [
        {
          "data": {
            "text/plain": [
              "(95, 2)"
            ]
          },
          "execution_count": 215,
          "metadata": {},
          "output_type": "execute_result"
        }
      ],
      "source": [
        "#defining radius\n",
        "r = 0.1 #r = 0.2\n",
        "#obtaining centers list\n",
        "grain_center_list = creat_grain_centers(im_orig, r, e=0.1)\n",
        "\n",
        "#transforming centers list into a matrix\n",
        "grain_center_array = grain_center_list[0] #x_grains get the origin pixel grains (0,0)\n",
        "qt_of_pixels = len(grain_center_list)  #quantity of pixels\n",
        "\n",
        "for p in range(1, qt_of_pixels): #for each pixel \n",
        "  if (grain_center_list[p]): #if there are grains in pixel\n",
        "    grain_center_array = np.concatenate((grain_center_array, grain_center_list[p]), axis=0)\n",
        "\n",
        "#results: a matrix with each grain center position joined along rows\n",
        "grain_center_array.shape"
      ]
    },
    {
      "cell_type": "code",
      "execution_count": 216,
      "metadata": {
        "colab": {
          "base_uri": "https://localhost:8080/",
          "height": 167
        },
        "id": "4_jsC-vKdtP-",
        "outputId": "5963aabb-f20f-4372-895e-80830ef17508"
      },
      "outputs": [
        {
          "data": {
            "text/plain": [
              "(200, 200)"
            ]
          },
          "execution_count": 216,
          "metadata": {},
          "output_type": "execute_result"
        },
        {
          "data": {
            "image/png": "[encoded data removed]",
            "text/plain": [
              "<Figure size 640x480 with 1 Axes>"
            ]
          },
          "metadata": {},
          "output_type": "display_data"
        }
      ],
      "source": [
        "#creating the granulate image\n",
        "im_gran = grain_image(im_orig.shape, grain_center_array, r, zoom=100)\n",
        "plt.imshow(im_gran, cmap='gray')\n",
        "im_gran.shape"
      ]
    },
    {
      "cell_type": "code",
      "execution_count": 214,
      "metadata": {},
      "outputs": [],
      "source": [
        "# parametro zoom -> a imagem de saída será zoom*"
      ]
    }
  ],
  "metadata": {
    "colab": {
      "provenance": []
    },
    "kernelspec": {
      "display_name": "ima-jupyter",
      "language": "python",
      "name": "ima-jupyter"
    },
    "language_info": {
      "codemirror_mode": {
        "name": "ipython",
        "version": 3
      },
      "file_extension": ".py",
      "mimetype": "text/x-python",
      "name": "python",
      "nbconvert_exporter": "python",
      "pygments_lexer": "ipython3",
      "version": "3.9.7"
    },
    "vscode": {
      "interpreter": {
        "hash": "a234022a44972513b64a033a956a14e433f10557acc2572570a334bfc924c49c"
      }
    }
  },
  "nbformat": 4,
  "nbformat_minor": 0
}
